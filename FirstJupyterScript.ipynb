{
 "cells": [
  {
   "cell_type": "code",
   "execution_count": 2,
   "metadata": {},
   "outputs": [
    {
     "name": "stdout",
     "output_type": "stream",
     "text": [
      "My name is Bob and I am 3 years old.\n"
     ]
    }
   ],
   "source": [
    "age = 3\n",
    "name = 'Bob'\n",
    "city = 'New York'\n",
    "country = 'USA'\n",
    "print('My name is', name, 'and I am', age, 'years old.')"
   ]
  },
  {
   "cell_type": "code",
   "execution_count": null,
   "metadata": {},
   "outputs": [],
   "source": []
  }
 ],
 "metadata": {
  "kernelspec": {
   "display_name": ".venv",
   "language": "python",
   "name": "python3"
  },
  "language_info": {
   "codemirror_mode": {
    "name": "ipython",
    "version": 3
   },
   "file_extension": ".py",
   "mimetype": "text/x-python",
   "name": "python",
   "nbconvert_exporter": "python",
   "pygments_lexer": "ipython3",
   "version": "3.10.8"
  },
  "orig_nbformat": 4,
  "vscode": {
   "interpreter": {
    "hash": "af7b66241786eaebd3fd451390c2224f596acac1a3c600dd13824ba4690fba1c"
   }
  }
 },
 "nbformat": 4,
 "nbformat_minor": 2
}
