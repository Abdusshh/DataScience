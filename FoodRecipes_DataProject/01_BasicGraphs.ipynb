{
 "cells": [
  {
   "attachments": {},
   "cell_type": "markdown",
   "metadata": {},
   "source": [
    "# FOOD RECIPES DATA SCIENCE PROJECT\n",
    "This project is focused on the [food_recipes](https://www.kaggle.com/datasets/sarthak71/food-recipes) dataset.\n",
    "Main goal of this project is to find meaningful insights from the data and showcase them in a clear and understandable way."
   ]
  },
  {
   "attachments": {},
   "cell_type": "markdown",
   "metadata": {},
   "source": [
    "### Before We Start\n",
    "Importing pandas and loading the dataset."
   ]
  },
  {
   "cell_type": "code",
   "execution_count": 200,
   "metadata": {},
   "outputs": [
    {
     "name": "stdout",
     "output_type": "stream",
     "text": [
      "Requirement already satisfied: pandas in c:\\users\\abdul\\github\\vscode_project\\.venv\\lib\\site-packages (1.5.3)\n",
      "Requirement already satisfied: python-dateutil>=2.8.1 in c:\\users\\abdul\\github\\vscode_project\\.venv\\lib\\site-packages (from pandas) (2.8.2)\n",
      "Requirement already satisfied: pytz>=2020.1 in c:\\users\\abdul\\github\\vscode_project\\.venv\\lib\\site-packages (from pandas) (2023.3)\n",
      "Requirement already satisfied: numpy>=1.21.0 in c:\\users\\abdul\\github\\vscode_project\\.venv\\lib\\site-packages (from pandas) (1.24.2)\n",
      "Requirement already satisfied: six>=1.5 in c:\\users\\abdul\\github\\vscode_project\\.venv\\lib\\site-packages (from python-dateutil>=2.8.1->pandas) (1.16.0)\n"
     ]
    },
    {
     "name": "stderr",
     "output_type": "stream",
     "text": [
      "\n",
      "[notice] A new release of pip is available: 23.0.1 -> 23.1.2\n",
      "[notice] To update, run: python.exe -m pip install --upgrade pip\n"
     ]
    }
   ],
   "source": [
    "! pip install pandas \n",
    "\n",
    "import pandas as pd\n"
   ]
  },
  {
   "cell_type": "code",
   "execution_count": 212,
   "metadata": {},
   "outputs": [
    {
     "data": {
      "text/html": [
       "<div>\n",
       "<style scoped>\n",
       "    .dataframe tbody tr th:only-of-type {\n",
       "        vertical-align: middle;\n",
       "    }\n",
       "\n",
       "    .dataframe tbody tr th {\n",
       "        vertical-align: top;\n",
       "    }\n",
       "\n",
       "    .dataframe thead th {\n",
       "        text-align: right;\n",
       "    }\n",
       "</style>\n",
       "<table border=\"1\" class=\"dataframe\">\n",
       "  <thead>\n",
       "    <tr style=\"text-align: right;\">\n",
       "      <th></th>\n",
       "      <th>recipe_title</th>\n",
       "      <th>url</th>\n",
       "      <th>record_health</th>\n",
       "      <th>vote_count</th>\n",
       "      <th>rating</th>\n",
       "      <th>description</th>\n",
       "      <th>cuisine</th>\n",
       "      <th>course</th>\n",
       "      <th>diet</th>\n",
       "      <th>prep_time</th>\n",
       "      <th>cook_time</th>\n",
       "      <th>ingredients</th>\n",
       "      <th>instructions</th>\n",
       "      <th>author</th>\n",
       "      <th>tags</th>\n",
       "      <th>category</th>\n",
       "    </tr>\n",
       "  </thead>\n",
       "  <tbody>\n",
       "    <tr>\n",
       "      <th>0</th>\n",
       "      <td>Roasted Peppers And Mushroom Tortilla Pizza Re...</td>\n",
       "      <td>https://www.archanaskitchen.com/roasted-pepper...</td>\n",
       "      <td>good</td>\n",
       "      <td>434</td>\n",
       "      <td>4.958525</td>\n",
       "      <td>is a quicker version pizza to satisfy your cr...</td>\n",
       "      <td>Mexican</td>\n",
       "      <td>Dinner</td>\n",
       "      <td>Vegetarian</td>\n",
       "      <td>15 M</td>\n",
       "      <td>15 M</td>\n",
       "      <td>Tortillas|Extra Virgin Olive Oil|Garlic|Mozzar...</td>\n",
       "      <td>To begin making the Roasted Peppers And Mushro...</td>\n",
       "      <td>Divya Shivaraman</td>\n",
       "      <td>Party Food Recipes|Tea Party Recipes|Mushroom ...</td>\n",
       "      <td>Pizza Recipes</td>\n",
       "    </tr>\n",
       "    <tr>\n",
       "      <th>1</th>\n",
       "      <td>Thakkali Gotsu Recipe | Thakkali Curry | Spicy...</td>\n",
       "      <td>https://www.archanaskitchen.com/tomato-gotsu-r...</td>\n",
       "      <td>good</td>\n",
       "      <td>3423</td>\n",
       "      <td>4.932223</td>\n",
       "      <td>also known as the   is a quick and easy to ma...</td>\n",
       "      <td>South Indian Recipes</td>\n",
       "      <td>Lunch</td>\n",
       "      <td>Vegetarian</td>\n",
       "      <td>10 M</td>\n",
       "      <td>20 M</td>\n",
       "      <td>Sesame (Gingelly) Oil|Mustard seeds (Rai/ Kadu...</td>\n",
       "      <td>To begin making Tomato Gotsu Recipe/ Thakkali ...</td>\n",
       "      <td>Archana Doshi</td>\n",
       "      <td>Vegetarian Recipes|Tomato Recipes|South Indian...</td>\n",
       "      <td>Indian Curry Recipes</td>\n",
       "    </tr>\n",
       "    <tr>\n",
       "      <th>2</th>\n",
       "      <td>Spicy Grilled Pineapple Salsa Recipe</td>\n",
       "      <td>https://www.archanaskitchen.com/spicy-grilled-...</td>\n",
       "      <td>good</td>\n",
       "      <td>2091</td>\n",
       "      <td>4.945959</td>\n",
       "      <td>Spicy Grilled Pineapple Salsa is a simple reci...</td>\n",
       "      <td>Mexican</td>\n",
       "      <td>Side Dish</td>\n",
       "      <td>Vegetarian</td>\n",
       "      <td>10 M</td>\n",
       "      <td>0 M</td>\n",
       "      <td>Extra Virgin Olive Oil|Pineapple|White onion|R...</td>\n",
       "      <td>To begin making the Spicy Grilled Pineapple Sa...</td>\n",
       "      <td>Archana's Kitchen</td>\n",
       "      <td>Party Starter &amp; Appetizer Recipes|Pineapple Re...</td>\n",
       "      <td>Mexican Recipes</td>\n",
       "    </tr>\n",
       "    <tr>\n",
       "      <th>3</th>\n",
       "      <td>Karwar Style Dali Thoy Recipe - Toor dal Curry</td>\n",
       "      <td>https://www.archanaskitchen.com/dali-thoy-reci...</td>\n",
       "      <td>good</td>\n",
       "      <td>990</td>\n",
       "      <td>4.888889</td>\n",
       "      <td>The   is a quintessential of Konkani dish whic...</td>\n",
       "      <td>Coastal Karnataka</td>\n",
       "      <td>Side Dish</td>\n",
       "      <td>High Protein Vegetarian</td>\n",
       "      <td>5 M</td>\n",
       "      <td>20 M</td>\n",
       "      <td>Arhar dal (Split Toor Dal)|Turmeric powder (Ha...</td>\n",
       "      <td>To prepare Karwar Style Dali Thoy Recipe (Toor...</td>\n",
       "      <td>Jyothi Rajesh</td>\n",
       "      <td>Side Dish Recipes|South Indian Recipes|Indian ...</td>\n",
       "      <td>Indian Curry Recipes</td>\n",
       "    </tr>\n",
       "    <tr>\n",
       "      <th>4</th>\n",
       "      <td>Rajma Kofta In Milk And Poppy Seed Gravy Recipe</td>\n",
       "      <td>https://www.archanaskitchen.com/rajma-kofta-in...</td>\n",
       "      <td>good</td>\n",
       "      <td>345</td>\n",
       "      <td>4.828986</td>\n",
       "      <td>Koftas are traditional Indian recipes mostly w...</td>\n",
       "      <td>North Indian Recipes</td>\n",
       "      <td>Side Dish</td>\n",
       "      <td>High Protein Vegetarian</td>\n",
       "      <td>20 M</td>\n",
       "      <td>30 M</td>\n",
       "      <td>Rajma (Large Kidney Beans)|Cashew nuts|Sultana...</td>\n",
       "      <td>To begin making Rajma Kofta In Milk And Poppy ...</td>\n",
       "      <td>RUBY PATHAK</td>\n",
       "      <td>Side Dish Recipes|Indian Lunch Recipes|Office ...</td>\n",
       "      <td>Kofta Recipes</td>\n",
       "    </tr>\n",
       "  </tbody>\n",
       "</table>\n",
       "</div>"
      ],
      "text/plain": [
       "                                        recipe_title  \\\n",
       "0  Roasted Peppers And Mushroom Tortilla Pizza Re...   \n",
       "1  Thakkali Gotsu Recipe | Thakkali Curry | Spicy...   \n",
       "2               Spicy Grilled Pineapple Salsa Recipe   \n",
       "3     Karwar Style Dali Thoy Recipe - Toor dal Curry   \n",
       "4    Rajma Kofta In Milk And Poppy Seed Gravy Recipe   \n",
       "\n",
       "                                                 url record_health  \\\n",
       "0  https://www.archanaskitchen.com/roasted-pepper...          good   \n",
       "1  https://www.archanaskitchen.com/tomato-gotsu-r...          good   \n",
       "2  https://www.archanaskitchen.com/spicy-grilled-...          good   \n",
       "3  https://www.archanaskitchen.com/dali-thoy-reci...          good   \n",
       "4  https://www.archanaskitchen.com/rajma-kofta-in...          good   \n",
       "\n",
       "   vote_count    rating                                        description  \\\n",
       "0         434  4.958525   is a quicker version pizza to satisfy your cr...   \n",
       "1        3423  4.932223   also known as the   is a quick and easy to ma...   \n",
       "2        2091  4.945959  Spicy Grilled Pineapple Salsa is a simple reci...   \n",
       "3         990  4.888889  The   is a quintessential of Konkani dish whic...   \n",
       "4         345  4.828986  Koftas are traditional Indian recipes mostly w...   \n",
       "\n",
       "                cuisine     course                     diet prep_time  \\\n",
       "0               Mexican     Dinner               Vegetarian      15 M   \n",
       "1  South Indian Recipes      Lunch               Vegetarian      10 M   \n",
       "2               Mexican  Side Dish               Vegetarian      10 M   \n",
       "3     Coastal Karnataka  Side Dish  High Protein Vegetarian       5 M   \n",
       "4  North Indian Recipes  Side Dish  High Protein Vegetarian      20 M   \n",
       "\n",
       "  cook_time                                        ingredients  \\\n",
       "0      15 M  Tortillas|Extra Virgin Olive Oil|Garlic|Mozzar...   \n",
       "1      20 M  Sesame (Gingelly) Oil|Mustard seeds (Rai/ Kadu...   \n",
       "2       0 M  Extra Virgin Olive Oil|Pineapple|White onion|R...   \n",
       "3      20 M  Arhar dal (Split Toor Dal)|Turmeric powder (Ha...   \n",
       "4      30 M  Rajma (Large Kidney Beans)|Cashew nuts|Sultana...   \n",
       "\n",
       "                                        instructions             author  \\\n",
       "0  To begin making the Roasted Peppers And Mushro...  Divya Shivaraman    \n",
       "1  To begin making Tomato Gotsu Recipe/ Thakkali ...      Archana Doshi   \n",
       "2  To begin making the Spicy Grilled Pineapple Sa...  Archana's Kitchen   \n",
       "3  To prepare Karwar Style Dali Thoy Recipe (Toor...      Jyothi Rajesh   \n",
       "4  To begin making Rajma Kofta In Milk And Poppy ...        RUBY PATHAK   \n",
       "\n",
       "                                                tags              category  \n",
       "0  Party Food Recipes|Tea Party Recipes|Mushroom ...         Pizza Recipes  \n",
       "1  Vegetarian Recipes|Tomato Recipes|South Indian...  Indian Curry Recipes  \n",
       "2  Party Starter & Appetizer Recipes|Pineapple Re...       Mexican Recipes  \n",
       "3  Side Dish Recipes|South Indian Recipes|Indian ...  Indian Curry Recipes  \n",
       "4  Side Dish Recipes|Indian Lunch Recipes|Office ...         Kofta Recipes  "
      ]
     },
     "execution_count": 212,
     "metadata": {},
     "output_type": "execute_result"
    }
   ],
   "source": [
    "path = \"food_recipes.csv\"\n",
    "df = pd.read_csv(path)\n",
    "df.head()"
   ]
  },
  {
   "cell_type": "markdown",
   "metadata": {},
   "source": []
  },
  {
   "attachments": {},
   "cell_type": "markdown",
   "metadata": {},
   "source": [
    "## Table of Contents\n",
    "1. [Data Cleaning](#data_cleaning)\n",
    "2. [Data Analysis and Visualization](#data_analysis_and_visualization)\n",
    "3. [Conclusion](#conclusion)"
   ]
  },
  {
   "attachments": {},
   "cell_type": "markdown",
   "metadata": {},
   "source": [
    "### Data Cleaning <a name=\"data_cleaning\"></a>\n",
    "First, we need to clean the data. We will fill the missing values with the mean of the columns, fix some of the data types and remove unnecessary columns.\n",
    "We will also store the cleaned data in a new csv file."
   ]
  },
  {
   "cell_type": "code",
   "execution_count": 213,
   "metadata": {},
   "outputs": [
    {
     "data": {
      "text/html": [
       "<div>\n",
       "<style scoped>\n",
       "    .dataframe tbody tr th:only-of-type {\n",
       "        vertical-align: middle;\n",
       "    }\n",
       "\n",
       "    .dataframe tbody tr th {\n",
       "        vertical-align: top;\n",
       "    }\n",
       "\n",
       "    .dataframe thead th {\n",
       "        text-align: right;\n",
       "    }\n",
       "</style>\n",
       "<table border=\"1\" class=\"dataframe\">\n",
       "  <thead>\n",
       "    <tr style=\"text-align: right;\">\n",
       "      <th></th>\n",
       "      <th>recipe_title</th>\n",
       "      <th>vote_count</th>\n",
       "      <th>rating</th>\n",
       "      <th>description</th>\n",
       "      <th>cuisine</th>\n",
       "      <th>course</th>\n",
       "      <th>diet</th>\n",
       "      <th>ingredients</th>\n",
       "      <th>instructions</th>\n",
       "    </tr>\n",
       "  </thead>\n",
       "  <tbody>\n",
       "    <tr>\n",
       "      <th>0</th>\n",
       "      <td>Roasted Peppers And Mushroom Tortilla Pizza Re...</td>\n",
       "      <td>434</td>\n",
       "      <td>4.958525</td>\n",
       "      <td>is a quicker version pizza to satisfy your cr...</td>\n",
       "      <td>Mexican</td>\n",
       "      <td>Dinner</td>\n",
       "      <td>Vegetarian</td>\n",
       "      <td>Tortillas|Extra Virgin Olive Oil|Garlic|Mozzar...</td>\n",
       "      <td>To begin making the Roasted Peppers And Mushro...</td>\n",
       "    </tr>\n",
       "    <tr>\n",
       "      <th>1</th>\n",
       "      <td>Thakkali Gotsu Recipe | Thakkali Curry | Spicy...</td>\n",
       "      <td>3423</td>\n",
       "      <td>4.932223</td>\n",
       "      <td>also known as the   is a quick and easy to ma...</td>\n",
       "      <td>South Indian Recipes</td>\n",
       "      <td>Lunch</td>\n",
       "      <td>Vegetarian</td>\n",
       "      <td>Sesame (Gingelly) Oil|Mustard seeds (Rai/ Kadu...</td>\n",
       "      <td>To begin making Tomato Gotsu Recipe/ Thakkali ...</td>\n",
       "    </tr>\n",
       "    <tr>\n",
       "      <th>2</th>\n",
       "      <td>Spicy Grilled Pineapple Salsa Recipe</td>\n",
       "      <td>2091</td>\n",
       "      <td>4.945959</td>\n",
       "      <td>Spicy Grilled Pineapple Salsa is a simple reci...</td>\n",
       "      <td>Mexican</td>\n",
       "      <td>Side Dish</td>\n",
       "      <td>Vegetarian</td>\n",
       "      <td>Extra Virgin Olive Oil|Pineapple|White onion|R...</td>\n",
       "      <td>To begin making the Spicy Grilled Pineapple Sa...</td>\n",
       "    </tr>\n",
       "    <tr>\n",
       "      <th>3</th>\n",
       "      <td>Karwar Style Dali Thoy Recipe - Toor dal Curry</td>\n",
       "      <td>990</td>\n",
       "      <td>4.888889</td>\n",
       "      <td>The   is a quintessential of Konkani dish whic...</td>\n",
       "      <td>Coastal Karnataka</td>\n",
       "      <td>Side Dish</td>\n",
       "      <td>High Protein Vegetarian</td>\n",
       "      <td>Arhar dal (Split Toor Dal)|Turmeric powder (Ha...</td>\n",
       "      <td>To prepare Karwar Style Dali Thoy Recipe (Toor...</td>\n",
       "    </tr>\n",
       "    <tr>\n",
       "      <th>4</th>\n",
       "      <td>Rajma Kofta In Milk And Poppy Seed Gravy Recipe</td>\n",
       "      <td>345</td>\n",
       "      <td>4.828986</td>\n",
       "      <td>Koftas are traditional Indian recipes mostly w...</td>\n",
       "      <td>North Indian Recipes</td>\n",
       "      <td>Side Dish</td>\n",
       "      <td>High Protein Vegetarian</td>\n",
       "      <td>Rajma (Large Kidney Beans)|Cashew nuts|Sultana...</td>\n",
       "      <td>To begin making Rajma Kofta In Milk And Poppy ...</td>\n",
       "    </tr>\n",
       "  </tbody>\n",
       "</table>\n",
       "</div>"
      ],
      "text/plain": [
       "                                        recipe_title  vote_count    rating  \\\n",
       "0  Roasted Peppers And Mushroom Tortilla Pizza Re...         434  4.958525   \n",
       "1  Thakkali Gotsu Recipe | Thakkali Curry | Spicy...        3423  4.932223   \n",
       "2               Spicy Grilled Pineapple Salsa Recipe        2091  4.945959   \n",
       "3     Karwar Style Dali Thoy Recipe - Toor dal Curry         990  4.888889   \n",
       "4    Rajma Kofta In Milk And Poppy Seed Gravy Recipe         345  4.828986   \n",
       "\n",
       "                                         description               cuisine  \\\n",
       "0   is a quicker version pizza to satisfy your cr...               Mexican   \n",
       "1   also known as the   is a quick and easy to ma...  South Indian Recipes   \n",
       "2  Spicy Grilled Pineapple Salsa is a simple reci...               Mexican   \n",
       "3  The   is a quintessential of Konkani dish whic...     Coastal Karnataka   \n",
       "4  Koftas are traditional Indian recipes mostly w...  North Indian Recipes   \n",
       "\n",
       "      course                     diet  \\\n",
       "0     Dinner               Vegetarian   \n",
       "1      Lunch               Vegetarian   \n",
       "2  Side Dish               Vegetarian   \n",
       "3  Side Dish  High Protein Vegetarian   \n",
       "4  Side Dish  High Protein Vegetarian   \n",
       "\n",
       "                                         ingredients  \\\n",
       "0  Tortillas|Extra Virgin Olive Oil|Garlic|Mozzar...   \n",
       "1  Sesame (Gingelly) Oil|Mustard seeds (Rai/ Kadu...   \n",
       "2  Extra Virgin Olive Oil|Pineapple|White onion|R...   \n",
       "3  Arhar dal (Split Toor Dal)|Turmeric powder (Ha...   \n",
       "4  Rajma (Large Kidney Beans)|Cashew nuts|Sultana...   \n",
       "\n",
       "                                        instructions  \n",
       "0  To begin making the Roasted Peppers And Mushro...  \n",
       "1  To begin making Tomato Gotsu Recipe/ Thakkali ...  \n",
       "2  To begin making the Spicy Grilled Pineapple Sa...  \n",
       "3  To prepare Karwar Style Dali Thoy Recipe (Toor...  \n",
       "4  To begin making Rajma Kofta In Milk And Poppy ...  "
      ]
     },
     "execution_count": 213,
     "metadata": {},
     "output_type": "execute_result"
    }
   ],
   "source": [
    "# Drop the columns that are not required\n",
    "# Urls, authors, tags and categories are not required for the analysis\n",
    "\n",
    "# Let's see the different types of record_healt column\n",
    "df['record_health'].groupby(df['record_health']).count()\n",
    "# All of them are good, so we can drop this column\n",
    "\n",
    "# Prep time and cook time are better off as sum of the two as total time so let's also drop them\n",
    "\n",
    "new_df = df.drop(['url', 'record_health', 'author','tags','category','prep_time','cook_time'], axis='columns')\n",
    "new_df.head()"
   ]
  },
  {
   "cell_type": "code",
   "execution_count": 214,
   "metadata": {},
   "outputs": [
    {
     "name": "stdout",
     "output_type": "stream",
     "text": [
      "30\n",
      "object\n",
      "object\n",
      "28.82394805843426\n"
     ]
    },
    {
     "data": {
      "text/html": [
       "<div>\n",
       "<style scoped>\n",
       "    .dataframe tbody tr th:only-of-type {\n",
       "        vertical-align: middle;\n",
       "    }\n",
       "\n",
       "    .dataframe tbody tr th {\n",
       "        vertical-align: top;\n",
       "    }\n",
       "\n",
       "    .dataframe thead th {\n",
       "        text-align: right;\n",
       "    }\n",
       "</style>\n",
       "<table border=\"1\" class=\"dataframe\">\n",
       "  <thead>\n",
       "    <tr style=\"text-align: right;\">\n",
       "      <th></th>\n",
       "      <th>recipe_title</th>\n",
       "      <th>vote_count</th>\n",
       "      <th>rating</th>\n",
       "      <th>description</th>\n",
       "      <th>cuisine</th>\n",
       "      <th>course</th>\n",
       "      <th>diet</th>\n",
       "      <th>ingredients</th>\n",
       "      <th>instructions</th>\n",
       "      <th>total_time</th>\n",
       "    </tr>\n",
       "  </thead>\n",
       "  <tbody>\n",
       "    <tr>\n",
       "      <th>0</th>\n",
       "      <td>Roasted Peppers And Mushroom Tortilla Pizza Re...</td>\n",
       "      <td>434</td>\n",
       "      <td>4.958525</td>\n",
       "      <td>is a quicker version pizza to satisfy your cr...</td>\n",
       "      <td>Mexican</td>\n",
       "      <td>Dinner</td>\n",
       "      <td>Vegetarian</td>\n",
       "      <td>Tortillas|Extra Virgin Olive Oil|Garlic|Mozzar...</td>\n",
       "      <td>To begin making the Roasted Peppers And Mushro...</td>\n",
       "      <td>30</td>\n",
       "    </tr>\n",
       "    <tr>\n",
       "      <th>1</th>\n",
       "      <td>Thakkali Gotsu Recipe | Thakkali Curry | Spicy...</td>\n",
       "      <td>3423</td>\n",
       "      <td>4.932223</td>\n",
       "      <td>also known as the   is a quick and easy to ma...</td>\n",
       "      <td>South Indian Recipes</td>\n",
       "      <td>Lunch</td>\n",
       "      <td>Vegetarian</td>\n",
       "      <td>Sesame (Gingelly) Oil|Mustard seeds (Rai/ Kadu...</td>\n",
       "      <td>To begin making Tomato Gotsu Recipe/ Thakkali ...</td>\n",
       "      <td>30</td>\n",
       "    </tr>\n",
       "    <tr>\n",
       "      <th>2</th>\n",
       "      <td>Spicy Grilled Pineapple Salsa Recipe</td>\n",
       "      <td>2091</td>\n",
       "      <td>4.945959</td>\n",
       "      <td>Spicy Grilled Pineapple Salsa is a simple reci...</td>\n",
       "      <td>Mexican</td>\n",
       "      <td>Side Dish</td>\n",
       "      <td>Vegetarian</td>\n",
       "      <td>Extra Virgin Olive Oil|Pineapple|White onion|R...</td>\n",
       "      <td>To begin making the Spicy Grilled Pineapple Sa...</td>\n",
       "      <td>41</td>\n",
       "    </tr>\n",
       "    <tr>\n",
       "      <th>3</th>\n",
       "      <td>Karwar Style Dali Thoy Recipe - Toor dal Curry</td>\n",
       "      <td>990</td>\n",
       "      <td>4.888889</td>\n",
       "      <td>The   is a quintessential of Konkani dish whic...</td>\n",
       "      <td>Coastal Karnataka</td>\n",
       "      <td>Side Dish</td>\n",
       "      <td>High Protein Vegetarian</td>\n",
       "      <td>Arhar dal (Split Toor Dal)|Turmeric powder (Ha...</td>\n",
       "      <td>To prepare Karwar Style Dali Thoy Recipe (Toor...</td>\n",
       "      <td>25</td>\n",
       "    </tr>\n",
       "    <tr>\n",
       "      <th>4</th>\n",
       "      <td>Rajma Kofta In Milk And Poppy Seed Gravy Recipe</td>\n",
       "      <td>345</td>\n",
       "      <td>4.828986</td>\n",
       "      <td>Koftas are traditional Indian recipes mostly w...</td>\n",
       "      <td>North Indian Recipes</td>\n",
       "      <td>Side Dish</td>\n",
       "      <td>High Protein Vegetarian</td>\n",
       "      <td>Rajma (Large Kidney Beans)|Cashew nuts|Sultana...</td>\n",
       "      <td>To begin making Rajma Kofta In Milk And Poppy ...</td>\n",
       "      <td>50</td>\n",
       "    </tr>\n",
       "  </tbody>\n",
       "</table>\n",
       "</div>"
      ],
      "text/plain": [
       "                                        recipe_title  vote_count    rating  \\\n",
       "0  Roasted Peppers And Mushroom Tortilla Pizza Re...         434  4.958525   \n",
       "1  Thakkali Gotsu Recipe | Thakkali Curry | Spicy...        3423  4.932223   \n",
       "2               Spicy Grilled Pineapple Salsa Recipe        2091  4.945959   \n",
       "3     Karwar Style Dali Thoy Recipe - Toor dal Curry         990  4.888889   \n",
       "4    Rajma Kofta In Milk And Poppy Seed Gravy Recipe         345  4.828986   \n",
       "\n",
       "                                         description               cuisine  \\\n",
       "0   is a quicker version pizza to satisfy your cr...               Mexican   \n",
       "1   also known as the   is a quick and easy to ma...  South Indian Recipes   \n",
       "2  Spicy Grilled Pineapple Salsa is a simple reci...               Mexican   \n",
       "3  The   is a quintessential of Konkani dish whic...     Coastal Karnataka   \n",
       "4  Koftas are traditional Indian recipes mostly w...  North Indian Recipes   \n",
       "\n",
       "      course                     diet  \\\n",
       "0     Dinner               Vegetarian   \n",
       "1      Lunch               Vegetarian   \n",
       "2  Side Dish               Vegetarian   \n",
       "3  Side Dish  High Protein Vegetarian   \n",
       "4  Side Dish  High Protein Vegetarian   \n",
       "\n",
       "                                         ingredients  \\\n",
       "0  Tortillas|Extra Virgin Olive Oil|Garlic|Mozzar...   \n",
       "1  Sesame (Gingelly) Oil|Mustard seeds (Rai/ Kadu...   \n",
       "2  Extra Virgin Olive Oil|Pineapple|White onion|R...   \n",
       "3  Arhar dal (Split Toor Dal)|Turmeric powder (Ha...   \n",
       "4  Rajma (Large Kidney Beans)|Cashew nuts|Sultana...   \n",
       "\n",
       "                                        instructions  total_time  \n",
       "0  To begin making the Roasted Peppers And Mushro...          30  \n",
       "1  To begin making Tomato Gotsu Recipe/ Thakkali ...          30  \n",
       "2  To begin making the Spicy Grilled Pineapple Sa...          41  \n",
       "3  To prepare Karwar Style Dali Thoy Recipe (Toor...          25  \n",
       "4  To begin making Rajma Kofta In Milk And Poppy ...          50  "
      ]
     },
     "execution_count": 214,
     "metadata": {},
     "output_type": "execute_result"
    }
   ],
   "source": [
    "# 1. count the number of NaN values in time columns\n",
    "num_nan = df['prep_time'].isna().sum()\n",
    "print(num_nan)\n",
    "\n",
    "# 2. for now replace the NaN values in time columns with 0\n",
    "df['prep_time'] = df['prep_time'].fillna(0)\n",
    "df['cook_time'] = df['cook_time'].fillna(0)\n",
    "\n",
    "print(df['prep_time'].dtypes)\n",
    "print(df['cook_time'].dtypes)\n",
    "\n",
    "# 3. convert the datatype of prep_time and cook_time from object to str\n",
    "df['prep_time'] = df['prep_time'].astype(str)\n",
    "df['cook_time'] = df['cook_time'].astype(str)\n",
    "\n",
    "# 4. convert the datatype of prep_time and cook_time to int and extract the numbers from the string\n",
    "new_df['prep_time'] = df['prep_time'].str.extract('(\\d+)').astype(int)\n",
    "new_df['cook_time'] = df['cook_time'].str.extract('(\\d+)').astype(int)\n",
    "\n",
    "print(new_df['prep_time'].mean())\n",
    "\n",
    "# 5. change the 0 values in prep_time and cook_time to mean of the column\n",
    "new_df['prep_time'] = new_df['prep_time'].replace(0, new_df['prep_time'].mean())\n",
    "new_df['cook_time'] = new_df['cook_time'].replace(0, new_df['cook_time'].mean())\n",
    "\n",
    "# 6. add a new column total_time\n",
    "new_df['total_time'] = (new_df['prep_time'] + new_df['cook_time']).astype(int)\n",
    "\n",
    "# 7. drop the prep_time and cook_time columns\n",
    "new_df = new_df.drop(['prep_time', 'cook_time'], axis='columns')\n",
    "\n",
    "new_df.head()\n"
   ]
  },
  {
   "cell_type": "code",
   "execution_count": 241,
   "metadata": {},
   "outputs": [],
   "source": [
    "# Let's check the total_time column for any absurd values\n",
    "new_df['total_time'].describe()\n",
    "\n",
    "# Let's find the super high and low values\n",
    "new_df.loc[new_df['total_time'] > 800]\n",
    "new_df.loc[new_df['total_time'] < 5]\n",
    "\n",
    "# Let's see some of the instructions for the super high and low values\n",
    "#new_df.loc[6207, 'instructions']\n",
    "\n",
    "# Since we have only one Swedish dish and it breaks our data, let's drop it\n",
    "new_df = new_df.drop([6207], axis='rows')"
   ]
  },
  {
   "attachments": {},
   "cell_type": "markdown",
   "metadata": {},
   "source": [
    "Most of the time values are not errors but the food takes a long time to dry, soak, marinate, etc."
   ]
  },
  {
   "cell_type": "code",
   "execution_count": 242,
   "metadata": {},
   "outputs": [],
   "source": [
    "\n",
    "# There is an error in this Nepalese dish\n",
    "new_df.loc[4917, 'total_time'] = new_df['total_time'].mean()\n",
    "new_df.loc[new_df['cuisine'] == 'Nepalese']\n",
    "\n",
    "# Convert the total_time column to int\n",
    "new_df['total_time'] = new_df['total_time'].astype(int)\n",
    "\n",
    "\n",
    "# Save the cleaned data to a new csv file\n",
    "new_df.to_csv('cleaned_food_recipes.csv', index=False)"
   ]
  },
  {
   "attachments": {},
   "cell_type": "markdown",
   "metadata": {},
   "source": [
    "### Data Analysis and Visualization <a name=\"data_analysis_and_visualization\"></a>\n",
    "Now that we have cleaned the data, we can start analyzing it. We will start by looking at the total time to cook certain cuisines and diets and then we will look at the most popular cuisines and diets."
   ]
  },
  {
   "attachments": {},
   "cell_type": "markdown",
   "metadata": {},
   "source": [
    "#### Before We Start\n",
    "Importing bokeh and loading the cleaned dataset."
   ]
  },
  {
   "cell_type": "code",
   "execution_count": 243,
   "metadata": {},
   "outputs": [
    {
     "name": "stdout",
     "output_type": "stream",
     "text": [
      "Requirement already satisfied: bokeh in c:\\users\\abdul\\github\\vscode_project\\.venv\\lib\\site-packages (3.1.0)\n",
      "Requirement already satisfied: PyYAML>=3.10 in c:\\users\\abdul\\github\\vscode_project\\.venv\\lib\\site-packages (from bokeh) (6.0)\n",
      "Requirement already satisfied: numpy>=1.16 in c:\\users\\abdul\\github\\vscode_project\\.venv\\lib\\site-packages (from bokeh) (1.24.2)\n",
      "Requirement already satisfied: packaging>=16.8 in c:\\users\\abdul\\github\\vscode_project\\.venv\\lib\\site-packages (from bokeh) (23.0)\n",
      "Requirement already satisfied: tornado>=5.1 in c:\\users\\abdul\\github\\vscode_project\\.venv\\lib\\site-packages (from bokeh) (6.2)\n",
      "Requirement already satisfied: Jinja2>=2.9 in c:\\users\\abdul\\github\\vscode_project\\.venv\\lib\\site-packages (from bokeh) (3.1.2)\n",
      "Requirement already satisfied: pillow>=7.1.0 in c:\\users\\abdul\\github\\vscode_project\\.venv\\lib\\site-packages (from bokeh) (9.5.0)\n",
      "Requirement already satisfied: pandas>=1.2 in c:\\users\\abdul\\github\\vscode_project\\.venv\\lib\\site-packages (from bokeh) (1.5.3)\n",
      "Requirement already satisfied: contourpy>=1 in c:\\users\\abdul\\github\\vscode_project\\.venv\\lib\\site-packages (from bokeh) (1.0.7)\n",
      "Requirement already satisfied: xyzservices>=2021.09.1 in c:\\users\\abdul\\github\\vscode_project\\.venv\\lib\\site-packages (from bokeh) (2023.2.0)\n",
      "Requirement already satisfied: MarkupSafe>=2.0 in c:\\users\\abdul\\github\\vscode_project\\.venv\\lib\\site-packages (from Jinja2>=2.9->bokeh) (2.1.2)\n",
      "Requirement already satisfied: pytz>=2020.1 in c:\\users\\abdul\\github\\vscode_project\\.venv\\lib\\site-packages (from pandas>=1.2->bokeh) (2023.3)\n",
      "Requirement already satisfied: python-dateutil>=2.8.1 in c:\\users\\abdul\\github\\vscode_project\\.venv\\lib\\site-packages (from pandas>=1.2->bokeh) (2.8.2)\n",
      "Requirement already satisfied: six>=1.5 in c:\\users\\abdul\\github\\vscode_project\\.venv\\lib\\site-packages (from python-dateutil>=2.8.1->pandas>=1.2->bokeh) (1.16.0)\n"
     ]
    },
    {
     "name": "stderr",
     "output_type": "stream",
     "text": [
      "\n",
      "[notice] A new release of pip is available: 23.0.1 -> 23.1.2\n",
      "[notice] To update, run: python.exe -m pip install --upgrade pip\n"
     ]
    }
   ],
   "source": [
    "! pip install bokeh\n",
    "\n",
    "from bokeh.plotting import figure, show\n",
    "from bokeh.io import output_notebook\n",
    "from bokeh.models import ColumnDataSource\n",
    "from bokeh.palettes import Category20c\n",
    "from bokeh.transform import factor_cmap\n",
    "from bokeh.palettes import Turbo256\n",
    "\n",
    "current_df = pd.read_csv('cleaned_food_recipes.csv')"
   ]
  },
  {
   "attachments": {},
   "cell_type": "markdown",
   "metadata": {},
   "source": [
    "Let's find out the average cooking time of every cuisine"
   ]
  },
  {
   "cell_type": "code",
   "execution_count": 244,
   "metadata": {},
   "outputs": [
    {
     "name": "stdout",
     "output_type": "stream",
     "text": [
      "cuisine\n",
      "Afghan                       45.250000\n",
      "African                      52.380952\n",
      "American                     77.500000\n",
      "Andhra                       48.637037\n",
      "Arab                         55.000000\n",
      "                               ...    \n",
      "Thai                         43.835616\n",
      "Udupi                        47.000000\n",
      "Uttar Pradesh                37.666667\n",
      "Uttarakhand-North Kumaon     92.500000\n",
      "Vietnamese                   77.076923\n",
      "Name: total_time, Length: 76, dtype: float64\n"
     ]
    },
    {
     "data": {
      "text/html": [
       "<style>\n",
       "        .bk-notebook-logo {\n",
       "            display: block;\n",
       "            width: 20px;\n",
       "            height: 20px;\n",
       "            background-image: url(data:image/png;base64,iVBORw0KGgoAAAANSUhEUgAAABQAAAAUCAYAAACNiR0NAAAABHNCSVQICAgIfAhkiAAAAAlwSFlzAAALEgAACxIB0t1+/AAAABx0RVh0U29mdHdhcmUAQWRvYmUgRmlyZXdvcmtzIENTNui8sowAAAOkSURBVDiNjZRtaJVlGMd/1/08zzln5zjP1LWcU9N0NkN8m2CYjpgQYQXqSs0I84OLIC0hkEKoPtiH3gmKoiJDU7QpLgoLjLIQCpEsNJ1vqUOdO7ppbuec5+V+rj4ctwzd8IIbbi6u+8f1539dt3A78eXC7QizUF7gyV1fD1Yqg4JWz84yffhm0qkFqBogB9rM8tZdtwVsPUhWhGcFJngGeWrPzHm5oaMmkfEg1usvLFyc8jLRqDOMru7AyC8saQr7GG7f5fvDeH7Ej8CM66nIF+8yngt6HWaKh7k49Soy9nXurCi1o3qUbS3zWfrYeQDTB/Qj6kX6Ybhw4B+bOYoLKCC9H3Nu/leUTZ1JdRWkkn2ldcCamzrcf47KKXdAJllSlxAOkRgyHsGC/zRday5Qld9DyoM4/q/rUoy/CXh3jzOu3bHUVZeU+DEn8FInkPBFlu3+nW3Nw0mk6vCDiWg8CeJaxEwuHS3+z5RgY+YBR6V1Z1nxSOfoaPa4LASWxxdNp+VWTk7+4vzaou8v8PN+xo+KY2xsw6une2frhw05CTYOmQvsEhjhWjn0bmXPjpE1+kplmmkP3suftwTubK9Vq22qKmrBhpY4jvd5afdRA3wGjFAgcnTK2s4hY0/GPNIb0nErGMCRxWOOX64Z8RAC4oCXdklmEvcL8o0BfkNK4lUg9HTl+oPlQxdNo3Mg4Nv175e/1LDGzZen30MEjRUtmXSfiTVu1kK8W4txyV6BMKlbgk3lMwYCiusNy9fVfvvwMxv8Ynl6vxoByANLTWplvuj/nF9m2+PDtt1eiHPBr1oIfhCChQMBw6Aw0UulqTKZdfVvfG7VcfIqLG9bcldL/+pdWTLxLUy8Qq38heUIjh4XlzZxzQm19lLFlr8vdQ97rjZVOLf8nclzckbcD4wxXMidpX30sFd37Fv/GtwwhzhxGVAprjbg0gCAEeIgwCZyTV2Z1REEW8O4py0wsjeloKoMr6iCY6dP92H6Vw/oTyICIthibxjm/DfN9lVz8IqtqKYLUXfoKVMVQVVJOElGjrnnUt9T9wbgp8AyYKaGlqingHZU/uG2NTZSVqwHQTWkx9hxjkpWDaCg6Ckj5qebgBVbT3V3NNXMSiWSDdGV3hrtzla7J+duwPOToIg42ChPQOQjspnSlp1V+Gjdged7+8UN5CRAV7a5EdFNwCjEaBR27b3W890TE7g24NAP/mMDXRWrGoFPQI9ls/MWO2dWFAar/xcOIImbbpA3zgAAAABJRU5ErkJggg==);\n",
       "        }\n",
       "    </style>\n",
       "    <div>\n",
       "        <a href=\"https://bokeh.org\" target=\"_blank\" class=\"bk-notebook-logo\"></a>\n",
       "        <span id=\"p46180\">Loading BokehJS ...</span>\n",
       "    </div>\n"
      ]
     },
     "metadata": {},
     "output_type": "display_data"
    },
    {
     "data": {
      "application/javascript": "(function(root) {\n  function now() {\n    return new Date();\n  }\n\n  const force = true;\n\n  if (typeof root._bokeh_onload_callbacks === \"undefined\" || force === true) {\n    root._bokeh_onload_callbacks = [];\n    root._bokeh_is_loading = undefined;\n  }\n\nconst JS_MIME_TYPE = 'application/javascript';\n  const HTML_MIME_TYPE = 'text/html';\n  const EXEC_MIME_TYPE = 'application/vnd.bokehjs_exec.v0+json';\n  const CLASS_NAME = 'output_bokeh rendered_html';\n\n  /**\n   * Render data to the DOM node\n   */\n  function render(props, node) {\n    const script = document.createElement(\"script\");\n    node.appendChild(script);\n  }\n\n  /**\n   * Handle when an output is cleared or removed\n   */\n  function handleClearOutput(event, handle) {\n    const cell = handle.cell;\n\n    const id = cell.output_area._bokeh_element_id;\n    const server_id = cell.output_area._bokeh_server_id;\n    // Clean up Bokeh references\n    if (id != null && id in Bokeh.index) {\n      Bokeh.index[id].model.document.clear();\n      delete Bokeh.index[id];\n    }\n\n    if (server_id !== undefined) {\n      // Clean up Bokeh references\n      const cmd_clean = \"from bokeh.io.state import curstate; print(curstate().uuid_to_server['\" + server_id + \"'].get_sessions()[0].document.roots[0]._id)\";\n      cell.notebook.kernel.execute(cmd_clean, {\n        iopub: {\n          output: function(msg) {\n            const id = msg.content.text.trim();\n            if (id in Bokeh.index) {\n              Bokeh.index[id].model.document.clear();\n              delete Bokeh.index[id];\n            }\n          }\n        }\n      });\n      // Destroy server and session\n      const cmd_destroy = \"import bokeh.io.notebook as ion; ion.destroy_server('\" + server_id + \"')\";\n      cell.notebook.kernel.execute(cmd_destroy);\n    }\n  }\n\n  /**\n   * Handle when a new output is added\n   */\n  function handleAddOutput(event, handle) {\n    const output_area = handle.output_area;\n    const output = handle.output;\n\n    // limit handleAddOutput to display_data with EXEC_MIME_TYPE content only\n    if ((output.output_type != \"display_data\") || (!Object.prototype.hasOwnProperty.call(output.data, EXEC_MIME_TYPE))) {\n      return\n    }\n\n    const toinsert = output_area.element.find(\".\" + CLASS_NAME.split(' ')[0]);\n\n    if (output.metadata[EXEC_MIME_TYPE][\"id\"] !== undefined) {\n      toinsert[toinsert.length - 1].firstChild.textContent = output.data[JS_MIME_TYPE];\n      // store reference to embed id on output_area\n      output_area._bokeh_element_id = output.metadata[EXEC_MIME_TYPE][\"id\"];\n    }\n    if (output.metadata[EXEC_MIME_TYPE][\"server_id\"] !== undefined) {\n      const bk_div = document.createElement(\"div\");\n      bk_div.innerHTML = output.data[HTML_MIME_TYPE];\n      const script_attrs = bk_div.children[0].attributes;\n      for (let i = 0; i < script_attrs.length; i++) {\n        toinsert[toinsert.length - 1].firstChild.setAttribute(script_attrs[i].name, script_attrs[i].value);\n        toinsert[toinsert.length - 1].firstChild.textContent = bk_div.children[0].textContent\n      }\n      // store reference to server id on output_area\n      output_area._bokeh_server_id = output.metadata[EXEC_MIME_TYPE][\"server_id\"];\n    }\n  }\n\n  function register_renderer(events, OutputArea) {\n\n    function append_mime(data, metadata, element) {\n      // create a DOM node to render to\n      const toinsert = this.create_output_subarea(\n        metadata,\n        CLASS_NAME,\n        EXEC_MIME_TYPE\n      );\n      this.keyboard_manager.register_events(toinsert);\n      // Render to node\n      const props = {data: data, metadata: metadata[EXEC_MIME_TYPE]};\n      render(props, toinsert[toinsert.length - 1]);\n      element.append(toinsert);\n      return toinsert\n    }\n\n    /* Handle when an output is cleared or removed */\n    events.on('clear_output.CodeCell', handleClearOutput);\n    events.on('delete.Cell', handleClearOutput);\n\n    /* Handle when a new output is added */\n    events.on('output_added.OutputArea', handleAddOutput);\n\n    /**\n     * Register the mime type and append_mime function with output_area\n     */\n    OutputArea.prototype.register_mime_type(EXEC_MIME_TYPE, append_mime, {\n      /* Is output safe? */\n      safe: true,\n      /* Index of renderer in `output_area.display_order` */\n      index: 0\n    });\n  }\n\n  // register the mime type if in Jupyter Notebook environment and previously unregistered\n  if (root.Jupyter !== undefined) {\n    const events = require('base/js/events');\n    const OutputArea = require('notebook/js/outputarea').OutputArea;\n\n    if (OutputArea.prototype.mime_types().indexOf(EXEC_MIME_TYPE) == -1) {\n      register_renderer(events, OutputArea);\n    }\n  }\n  if (typeof (root._bokeh_timeout) === \"undefined\" || force === true) {\n    root._bokeh_timeout = Date.now() + 5000;\n    root._bokeh_failed_load = false;\n  }\n\n  const NB_LOAD_WARNING = {'data': {'text/html':\n     \"<div style='background-color: #fdd'>\\n\"+\n     \"<p>\\n\"+\n     \"BokehJS does not appear to have successfully loaded. If loading BokehJS from CDN, this \\n\"+\n     \"may be due to a slow or bad network connection. Possible fixes:\\n\"+\n     \"</p>\\n\"+\n     \"<ul>\\n\"+\n     \"<li>re-rerun `output_notebook()` to attempt to load from CDN again, or</li>\\n\"+\n     \"<li>use INLINE resources instead, as so:</li>\\n\"+\n     \"</ul>\\n\"+\n     \"<code>\\n\"+\n     \"from bokeh.resources import INLINE\\n\"+\n     \"output_notebook(resources=INLINE)\\n\"+\n     \"</code>\\n\"+\n     \"</div>\"}};\n\n  function display_loaded() {\n    const el = document.getElementById(\"p46180\");\n    if (el != null) {\n      el.textContent = \"BokehJS is loading...\";\n    }\n    if (root.Bokeh !== undefined) {\n      if (el != null) {\n        el.textContent = \"BokehJS \" + root.Bokeh.version + \" successfully loaded.\";\n      }\n    } else if (Date.now() < root._bokeh_timeout) {\n      setTimeout(display_loaded, 100)\n    }\n  }\n\n  function run_callbacks() {\n    try {\n      root._bokeh_onload_callbacks.forEach(function(callback) {\n        if (callback != null)\n          callback();\n      });\n    } finally {\n      delete root._bokeh_onload_callbacks\n    }\n    console.debug(\"Bokeh: all callbacks have finished\");\n  }\n\n  function load_libs(css_urls, js_urls, callback) {\n    if (css_urls == null) css_urls = [];\n    if (js_urls == null) js_urls = [];\n\n    root._bokeh_onload_callbacks.push(callback);\n    if (root._bokeh_is_loading > 0) {\n      console.debug(\"Bokeh: BokehJS is being loaded, scheduling callback at\", now());\n      return null;\n    }\n    if (js_urls == null || js_urls.length === 0) {\n      run_callbacks();\n      return null;\n    }\n    console.debug(\"Bokeh: BokehJS not loaded, scheduling load and callback at\", now());\n    root._bokeh_is_loading = css_urls.length + js_urls.length;\n\n    function on_load() {\n      root._bokeh_is_loading--;\n      if (root._bokeh_is_loading === 0) {\n        console.debug(\"Bokeh: all BokehJS libraries/stylesheets loaded\");\n        run_callbacks()\n      }\n    }\n\n    function on_error(url) {\n      console.error(\"failed to load \" + url);\n    }\n\n    for (let i = 0; i < css_urls.length; i++) {\n      const url = css_urls[i];\n      const element = document.createElement(\"link\");\n      element.onload = on_load;\n      element.onerror = on_error.bind(null, url);\n      element.rel = \"stylesheet\";\n      element.type = \"text/css\";\n      element.href = url;\n      console.debug(\"Bokeh: injecting link tag for BokehJS stylesheet: \", url);\n      document.body.appendChild(element);\n    }\n\n    for (let i = 0; i < js_urls.length; i++) {\n      const url = js_urls[i];\n      const element = document.createElement('script');\n      element.onload = on_load;\n      element.onerror = on_error.bind(null, url);\n      element.async = false;\n      element.src = url;\n      console.debug(\"Bokeh: injecting script tag for BokehJS library: \", url);\n      document.head.appendChild(element);\n    }\n  };\n\n  function inject_raw_css(css) {\n    const element = document.createElement(\"style\");\n    element.appendChild(document.createTextNode(css));\n    document.body.appendChild(element);\n  }\n\n  const js_urls = [\"https://cdn.bokeh.org/bokeh/release/bokeh-3.1.0.min.js\", \"https://cdn.bokeh.org/bokeh/release/bokeh-gl-3.1.0.min.js\", \"https://cdn.bokeh.org/bokeh/release/bokeh-widgets-3.1.0.min.js\", \"https://cdn.bokeh.org/bokeh/release/bokeh-tables-3.1.0.min.js\", \"https://cdn.bokeh.org/bokeh/release/bokeh-mathjax-3.1.0.min.js\"];\n  const css_urls = [];\n\n  const inline_js = [    function(Bokeh) {\n      Bokeh.set_log_level(\"info\");\n    },\nfunction(Bokeh) {\n    }\n  ];\n\n  function run_inline_js() {\n    if (root.Bokeh !== undefined || force === true) {\n          for (let i = 0; i < inline_js.length; i++) {\n      inline_js[i].call(root, root.Bokeh);\n    }\nif (force === true) {\n        display_loaded();\n      }} else if (Date.now() < root._bokeh_timeout) {\n      setTimeout(run_inline_js, 100);\n    } else if (!root._bokeh_failed_load) {\n      console.log(\"Bokeh: BokehJS failed to load within specified timeout.\");\n      root._bokeh_failed_load = true;\n    } else if (force !== true) {\n      const cell = $(document.getElementById(\"p46180\")).parents('.cell').data().cell;\n      cell.output_area.append_execute_result(NB_LOAD_WARNING)\n    }\n  }\n\n  if (root._bokeh_is_loading === 0) {\n    console.debug(\"Bokeh: BokehJS loaded, going straight to plotting\");\n    run_inline_js();\n  } else {\n    load_libs(css_urls, js_urls, function() {\n      console.debug(\"Bokeh: BokehJS plotting callback run at\", now());\n      run_inline_js();\n    });\n  }\n}(window));",
      "application/vnd.bokehjs_load.v0+json": ""
     },
     "metadata": {},
     "output_type": "display_data"
    },
    {
     "data": {
      "text/html": [
       "\n",
       "  <div id=\"d55cdd65-4bcd-4157-91bf-42fcf77704cc\" data-root-id=\"p46184\" style=\"display: contents;\"></div>\n"
      ]
     },
     "metadata": {},
     "output_type": "display_data"
    },
    {
     "data": {
      "application/javascript": "(function(root) {\n  function embed_document(root) {\n  const docs_json = {\"e716d3a4-7bc0-45d2-aa40-5e93aebf6b2b\":{\"version\":\"3.1.0\",\"title\":\"Bokeh Application\",\"defs\":[],\"roots\":[{\"type\":\"object\",\"name\":\"Figure\",\"id\":\"p46184\",\"attributes\":{\"width\":1500,\"height\":500,\"x_range\":{\"type\":\"object\",\"name\":\"FactorRange\",\"id\":\"p46194\",\"attributes\":{\"factors\":[\"Greek\",\"Mughlai\",\"Himachal\",\"Oriya Recipes\",\"Bihari\",\"South Karnataka\",\"British\",\"Uttarakhand-North Kumaon \",\"Goan Recipes\",\"Konkan\",\"Middle Eastern\",\"American\",\"Vietnamese\",\"French\",\"Continental\",\"Kashmiri\",\"Italian Recipes\",\"Mediterranean\",\"Kerala Recipes\",\"Korean\",\"Mangalorean\",\"Chinese\",\"Punjabi\",\"Karnataka\",\"South Indian Recipes\",\"Bangladeshi\",\"Pakistani\",\"Jewish\",\"North Indian Recipes\",\"Fusion\",\"Mexican\",\"Caribbean \",\"Bengali Recipes\",\"Kongunadu\",\"Indian\",\"Awadhi\",\"Burmese\",\"Arab\",\"Chettinad\",\"Lucknowi\",\"Rajasthani\",\"African\",\"Hyderabadi\",\"North East India Recipes\",\"Sri Lankan\",\"Sindhi\",\"Tamil Nadu\",\"Haryana\",\"Singapore\",\"Cantonese\",\"Gujarati Recipes\\ufeff\",\"Andhra\",\"Malabar\",\"Maharashtrian Recipes\",\"Udupi\",\"Parsi Recipes\",\"North Karnataka\",\"European\",\"Japanese\",\"Afghan\",\"Indo Chinese\",\"Thai\",\"Indonesian\",\"Nepalese\",\"Sichuan\",\"Asian\",\"Assamese\",\"Coastal Karnataka\",\"Nagaland\",\"Coorg\",\"Malvani\",\"Uttar Pradesh\",\"Jharkhand\",\"Malaysian\",\"Hunan\",\"Shandong\"]}},\"y_range\":{\"type\":\"object\",\"name\":\"DataRange1d\",\"id\":\"p46186\",\"attributes\":{\"start\":0}},\"x_scale\":{\"type\":\"object\",\"name\":\"CategoricalScale\",\"id\":\"p46198\"},\"y_scale\":{\"type\":\"object\",\"name\":\"LinearScale\",\"id\":\"p46200\"},\"title\":{\"type\":\"object\",\"name\":\"Title\",\"id\":\"p46187\",\"attributes\":{\"text\":\"Average time taken to cook every cuisine\"}},\"renderers\":[{\"type\":\"object\",\"name\":\"GlyphRenderer\",\"id\":\"p46237\",\"attributes\":{\"data_source\":{\"type\":\"object\",\"name\":\"ColumnDataSource\",\"id\":\"p46181\",\"attributes\":{\"selected\":{\"type\":\"object\",\"name\":\"Selection\",\"id\":\"p46182\",\"attributes\":{\"indices\":[],\"line_indices\":[]}},\"selection_policy\":{\"type\":\"object\",\"name\":\"UnionRenderers\",\"id\":\"p46183\"},\"data\":{\"type\":\"map\",\"entries\":[[\"cuisine\",{\"type\":\"ndarray\",\"array\":[\"Greek\",\"Mughlai\",\"Himachal\",\"Oriya Recipes\",\"Bihari\",\"South Karnataka\",\"British\",\"Uttarakhand-North Kumaon \",\"Goan Recipes\",\"Konkan\",\"Middle Eastern\",\"American\",\"Vietnamese\",\"French\",\"Continental\",\"Kashmiri\",\"Italian Recipes\",\"Mediterranean\",\"Kerala Recipes\",\"Korean\",\"Mangalorean\",\"Chinese\",\"Punjabi\",\"Karnataka\",\"South Indian Recipes\",\"Bangladeshi\",\"Pakistani\",\"Jewish\",\"North Indian Recipes\",\"Fusion\",\"Mexican\",\"Caribbean \",\"Bengali Recipes\",\"Kongunadu\",\"Indian\",\"Awadhi\",\"Burmese\",\"Arab\",\"Chettinad\",\"Lucknowi\",\"Rajasthani\",\"African\",\"Hyderabadi\",\"North East India Recipes\",\"Sri Lankan\",\"Sindhi\",\"Tamil Nadu\",\"Haryana\",\"Singapore\",\"Cantonese\",\"Gujarati Recipes\\ufeff\",\"Andhra\",\"Malabar\",\"Maharashtrian Recipes\",\"Udupi\",\"Parsi Recipes\",\"North Karnataka\",\"European\",\"Japanese\",\"Afghan\",\"Indo Chinese\",\"Thai\",\"Indonesian\",\"Nepalese\",\"Sichuan\",\"Asian\",\"Assamese\",\"Coastal Karnataka\",\"Nagaland\",\"Coorg\",\"Malvani\",\"Uttar Pradesh\",\"Jharkhand\",\"Malaysian\",\"Hunan\",\"Shandong\"],\"shape\":[76],\"dtype\":\"object\",\"order\":\"little\"}],[\"total_time\",{\"type\":\"ndarray\",\"array\":{\"type\":\"bytes\",\"data\":\"5TWU11BeYkDT0tLS0kJhQNhQXkN57WBA8lk3mCIfX0DuaYTlnsZbQFVVVVVVJVpAAAAAAABAWUAAAAAAACBXQNU8yF0/21RAfMVXfMWXVEAAAAAAAIVTQAAAAAAAYFNAT+zETuxEU0CDNEiDNKhSQIvCu3FC0VFAAAAAAACAUUCuDdPcBX9RQGZmZmZmblFAq9mTfB9rUUDNzMzMzExRQNejcD0Kl1BALS0tLS09UEBMv/RLvzRQQBGHTtoHCVBAptLdN8KzTkAAAAAAAABOQAAAAAAAAE5AAAAAAAAATkCbVPTvqclNQHkN5TWUp01AyEIWspDFTEAAAAAAAMBMQP3VX/3VX0xAVVVVVVVVTEBLmQS7Cg9MQKuqqqqq6ktAAAAAAACAS0AAAAAAAIBLQC1uwvyuFktAVVVVVVUVS0BaWlpaWjpKQAzDMAzDMEpAvYbyGsorSkBiJ3ZiJ/ZJQJeWlpaWlklAOY7jOI5DSUAhC1nIQiZJQAAAAAAAAElAAAAAAAAASUAAAAAAALBIQNLLn7bQgEhAGTX8bYpRSEAAAAAAAABIQLtZnkSmoUdAAAAAAACAR0DD9Shcj0JHQAAAAAAAOEdAhBBCCCEER0AUO7ETO7FGQAAAAAAAoEZAGmG5pxFWRkCvXr169epFQI7jOI7juEVAAAAAAACwRUAAAAAAAKBFQCp4OQUvJ0VAAAAAAADARECrqqqqqipEQAAAAAAAAERAq6qqqqoqQ0A5juM4juNCQFVVVVVV1UJAAAAAAACAQUBVVVVVVRVBQKuqqqqqqkBAAAAAAAAAPkA=\"},\"shape\":[76],\"dtype\":\"float64\",\"order\":\"little\"}]]}}},\"view\":{\"type\":\"object\",\"name\":\"CDSView\",\"id\":\"p46238\",\"attributes\":{\"filter\":{\"type\":\"object\",\"name\":\"AllIndices\",\"id\":\"p46239\"}}},\"glyph\":{\"type\":\"object\",\"name\":\"VBar\",\"id\":\"p46234\",\"attributes\":{\"x\":{\"type\":\"field\",\"field\":\"cuisine\"},\"width\":{\"type\":\"value\",\"value\":0.9},\"top\":{\"type\":\"field\",\"field\":\"total_time\"},\"line_color\":{\"type\":\"value\",\"value\":\"white\"},\"fill_color\":{\"type\":\"field\",\"field\":\"cuisine\",\"transform\":{\"type\":\"object\",\"name\":\"CategoricalColorMapper\",\"id\":\"p46230\",\"attributes\":{\"palette\":[\"#30123b\",\"#341b51\",\"#372365\",\"#3a2c79\",\"#3c358b\",\"#3f3d9c\",\"#4145ab\",\"#434eba\",\"#4456c7\",\"#455ed2\",\"#4666dd\",\"#466de6\",\"#4675ed\",\"#467df4\",\"#4584f9\",\"#448cfd\",\"#4193fe\",\"#3e9bfe\",\"#39a2fc\",\"#34aaf8\",\"#2fb1f3\",\"#2ab9ed\",\"#25c0e6\",\"#20c6df\",\"#1ccdd7\",\"#19d3cf\",\"#17d9c7\",\"#17debf\",\"#19e3b8\",\"#1de7b1\",\"#22eba9\",\"#29eea0\",\"#32f197\",\"#3bf48d\",\"#46f783\",\"#51f979\",\"#5dfb6f\",\"#69fd65\",\"#74fe5c\",\"#80fe53\",\"#8bfe4b\",\"#95fe44\",\"#9efd3e\",\"#a6fb3a\",\"#aef937\",\"#b6f735\",\"#bef334\",\"#c5ef33\",\"#cdeb34\",\"#d4e735\",\"#dae236\",\"#e1dc37\",\"#e7d738\",\"#ecd139\",\"#f0cb3a\",\"#f4c43a\",\"#f8be39\",\"#fab737\",\"#fcb035\",\"#fda932\",\"#fea12f\",\"#fe982c\",\"#fd8f28\",\"#fc8624\",\"#fa7d20\",\"#f8741c\",\"#f66b18\",\"#f36315\",\"#ef5a11\",\"#ec520e\",\"#e84b0c\",\"#e3440a\",\"#de3e08\",\"#d93806\",\"#d43205\",\"#ce2d04\",\"#c72803\",\"#c02302\",\"#b91e01\",\"#b11901\",\"#a91501\",\"#a01101\",\"#970d01\",\"#8e0a01\",\"#840701\",\"#7a0402\"],\"factors\":{\"type\":\"ndarray\",\"array\":[\"Greek\",\"Mughlai\",\"Himachal\",\"Oriya Recipes\",\"Bihari\",\"South Karnataka\",\"British\",\"Uttarakhand-North Kumaon \",\"Goan Recipes\",\"Konkan\",\"Middle Eastern\",\"American\",\"Vietnamese\",\"French\",\"Continental\",\"Kashmiri\",\"Italian Recipes\",\"Mediterranean\",\"Kerala Recipes\",\"Korean\",\"Mangalorean\",\"Chinese\",\"Punjabi\",\"Karnataka\",\"South Indian Recipes\",\"Bangladeshi\",\"Pakistani\",\"Jewish\",\"North Indian Recipes\",\"Fusion\",\"Mexican\",\"Caribbean \",\"Bengali Recipes\",\"Kongunadu\",\"Indian\",\"Awadhi\",\"Burmese\",\"Arab\",\"Chettinad\",\"Lucknowi\",\"Rajasthani\",\"African\",\"Hyderabadi\",\"North East India Recipes\",\"Sri Lankan\",\"Sindhi\",\"Tamil Nadu\",\"Haryana\",\"Singapore\",\"Cantonese\",\"Gujarati Recipes\\ufeff\",\"Andhra\",\"Malabar\",\"Maharashtrian Recipes\",\"Udupi\",\"Parsi Recipes\",\"North Karnataka\",\"European\",\"Japanese\",\"Afghan\",\"Indo Chinese\",\"Thai\",\"Indonesian\",\"Nepalese\",\"Sichuan\",\"Asian\",\"Assamese\",\"Coastal Karnataka\",\"Nagaland\",\"Coorg\",\"Malvani\",\"Uttar Pradesh\",\"Jharkhand\",\"Malaysian\",\"Hunan\",\"Shandong\"],\"shape\":[76],\"dtype\":\"object\",\"order\":\"little\"}}}}}},\"nonselection_glyph\":{\"type\":\"object\",\"name\":\"VBar\",\"id\":\"p46235\",\"attributes\":{\"x\":{\"type\":\"field\",\"field\":\"cuisine\"},\"width\":{\"type\":\"value\",\"value\":0.9},\"top\":{\"type\":\"field\",\"field\":\"total_time\"},\"line_color\":{\"type\":\"value\",\"value\":\"white\"},\"line_alpha\":{\"type\":\"value\",\"value\":0.1},\"fill_color\":{\"type\":\"field\",\"field\":\"cuisine\",\"transform\":{\"id\":\"p46230\"}},\"fill_alpha\":{\"type\":\"value\",\"value\":0.1},\"hatch_alpha\":{\"type\":\"value\",\"value\":0.1}}},\"muted_glyph\":{\"type\":\"object\",\"name\":\"VBar\",\"id\":\"p46236\",\"attributes\":{\"x\":{\"type\":\"field\",\"field\":\"cuisine\"},\"width\":{\"type\":\"value\",\"value\":0.9},\"top\":{\"type\":\"field\",\"field\":\"total_time\"},\"line_color\":{\"type\":\"value\",\"value\":\"white\"},\"line_alpha\":{\"type\":\"value\",\"value\":0.2},\"fill_color\":{\"type\":\"field\",\"field\":\"cuisine\",\"transform\":{\"id\":\"p46230\"}},\"fill_alpha\":{\"type\":\"value\",\"value\":0.2},\"hatch_alpha\":{\"type\":\"value\",\"value\":0.2}}}}}],\"toolbar\":{\"type\":\"object\",\"name\":\"Toolbar\",\"id\":\"p46192\",\"attributes\":{\"tools\":[{\"type\":\"object\",\"name\":\"PanTool\",\"id\":\"p46215\"},{\"type\":\"object\",\"name\":\"WheelZoomTool\",\"id\":\"p46216\"},{\"type\":\"object\",\"name\":\"BoxZoomTool\",\"id\":\"p46217\",\"attributes\":{\"overlay\":{\"type\":\"object\",\"name\":\"BoxAnnotation\",\"id\":\"p46218\",\"attributes\":{\"syncable\":false,\"level\":\"overlay\",\"visible\":false,\"left_units\":\"canvas\",\"right_units\":\"canvas\",\"bottom_units\":\"canvas\",\"top_units\":\"canvas\",\"line_color\":\"black\",\"line_alpha\":1.0,\"line_width\":2,\"line_dash\":[4,4],\"fill_color\":\"lightgrey\",\"fill_alpha\":0.5}}}},{\"type\":\"object\",\"name\":\"SaveTool\",\"id\":\"p46219\"},{\"type\":\"object\",\"name\":\"ResetTool\",\"id\":\"p46220\"},{\"type\":\"object\",\"name\":\"HelpTool\",\"id\":\"p46221\"}]}},\"left\":[{\"type\":\"object\",\"name\":\"LinearAxis\",\"id\":\"p46208\",\"attributes\":{\"ticker\":{\"type\":\"object\",\"name\":\"BasicTicker\",\"id\":\"p46209\",\"attributes\":{\"mantissas\":[1,2,5]}},\"formatter\":{\"type\":\"object\",\"name\":\"BasicTickFormatter\",\"id\":\"p46211\"},\"axis_label\":\"Average time taken to cook (in minutes)\",\"major_label_policy\":{\"type\":\"object\",\"name\":\"AllLabels\",\"id\":\"p46210\"}}}],\"below\":[{\"type\":\"object\",\"name\":\"CategoricalAxis\",\"id\":\"p46202\",\"attributes\":{\"ticker\":{\"type\":\"object\",\"name\":\"CategoricalTicker\",\"id\":\"p46203\"},\"formatter\":{\"type\":\"object\",\"name\":\"CategoricalTickFormatter\",\"id\":\"p46205\"},\"axis_label\":\"Cuisine\",\"major_label_orientation\":1,\"major_label_policy\":{\"type\":\"object\",\"name\":\"AllLabels\",\"id\":\"p46204\"}}}],\"center\":[{\"type\":\"object\",\"name\":\"Grid\",\"id\":\"p46207\",\"attributes\":{\"axis\":{\"id\":\"p46202\"}}},{\"type\":\"object\",\"name\":\"Grid\",\"id\":\"p46214\",\"attributes\":{\"dimension\":1,\"axis\":{\"id\":\"p46208\"}}}]}}],\"callbacks\":{\"type\":\"map\"}}};\n  const render_items = [{\"docid\":\"e716d3a4-7bc0-45d2-aa40-5e93aebf6b2b\",\"roots\":{\"p46184\":\"d55cdd65-4bcd-4157-91bf-42fcf77704cc\"},\"root_ids\":[\"p46184\"]}];\n  root.Bokeh.embed.embed_items_notebook(docs_json, render_items);\n  }\n  if (root.Bokeh !== undefined) {\n    embed_document(root);\n  } else {\n    let attempts = 0;\n    const timer = setInterval(function(root) {\n      if (root.Bokeh !== undefined) {\n        clearInterval(timer);\n        embed_document(root);\n      } else {\n        attempts++;\n        if (attempts > 100) {\n          clearInterval(timer);\n          console.log(\"Bokeh: ERROR: Unable to run BokehJS code because BokehJS library is missing\");\n        }\n      }\n    }, 10, root)\n  }\n})(window);",
      "application/vnd.bokehjs_exec.v0+json": ""
     },
     "metadata": {
      "application/vnd.bokehjs_exec.v0+json": {
       "id": "p46184"
      }
     },
     "output_type": "display_data"
    }
   ],
   "source": [
    "# 1. group the dataframe by cuisine\n",
    "grouped_df = current_df.groupby('cuisine')\n",
    "grouped_df.head()\n",
    "\n",
    "# 2. find the average of total_time for every cuisine\n",
    "avg_time = grouped_df['total_time'].mean()\n",
    "print(avg_time)\n",
    "\n",
    "# 3. sort the values in descending order\n",
    "avg_time = avg_time.sort_values(ascending=False)\n",
    "\n",
    "output_notebook()\n",
    "\n",
    "# Visualize the data using Bokeh\n",
    "# create a ColumnDataSource object\n",
    "source = ColumnDataSource(avg_time.to_frame())\n",
    "\n",
    "# create a figure object\n",
    "fig_cuisine_time = figure(x_range=avg_time.index.values, height=500, width=1500, title=\"Average time taken to cook every cuisine\")\n",
    "\n",
    "# add axis labels\n",
    "fig_cuisine_time.xaxis.axis_label = \"Cuisine\"\n",
    "fig_cuisine_time.yaxis.axis_label = \"Average time taken to cook (in minutes)\"\n",
    "\n",
    "# create a palette of colors because we have many cuisines we use Turbo256\n",
    "my_palette = Turbo256[::3]\n",
    "\n",
    "# create a bar chart\n",
    "fig_cuisine_time.vbar(x='cuisine', top='total_time', width=0.9, source=source,\n",
    "         line_color='white', fill_color=factor_cmap('cuisine', palette=my_palette, factors=avg_time.index.values))\n",
    "\n",
    "# set the y axis range\n",
    "fig_cuisine_time.y_range.start = 0\n",
    "\n",
    "# set the x axis labels to appear at 45 degree angle\n",
    "fig_cuisine_time.xaxis.major_label_orientation = 1\n",
    "\n",
    "# show the plot\n",
    "show(fig_cuisine_time)"
   ]
  },
  {
   "attachments": {},
   "cell_type": "markdown",
   "metadata": {},
   "source": [
    "Let's find out the average cooking time of every diet"
   ]
  },
  {
   "cell_type": "code",
   "execution_count": 256,
   "metadata": {},
   "outputs": [
    {
     "name": "stdout",
     "output_type": "stream",
     "text": [
      "diet\n",
      "Diabetic Friendly               67.942568\n",
      "Eggetarian                      70.074359\n",
      "Gluten Free                     94.818182\n",
      "High Protein Non Vegetarian     52.328889\n",
      "High Protein Vegetarian         72.079545\n",
      "No Onion No Garlic (Sattvic)    44.103896\n",
      "Non Vegeterian                  70.791946\n",
      "Sugar Free Diet                 47.733333\n",
      "Vegan                           73.140845\n",
      "Vegetarian                      58.755568\n",
      "Name: total_time, dtype: float64\n"
     ]
    },
    {
     "data": {
      "text/html": [
       "<style>\n",
       "        .bk-notebook-logo {\n",
       "            display: block;\n",
       "            width: 20px;\n",
       "            height: 20px;\n",
       "            background-image: url(data:image/png;base64,iVBORw0KGgoAAAANSUhEUgAAABQAAAAUCAYAAACNiR0NAAAABHNCSVQICAgIfAhkiAAAAAlwSFlzAAALEgAACxIB0t1+/AAAABx0RVh0U29mdHdhcmUAQWRvYmUgRmlyZXdvcmtzIENTNui8sowAAAOkSURBVDiNjZRtaJVlGMd/1/08zzln5zjP1LWcU9N0NkN8m2CYjpgQYQXqSs0I84OLIC0hkEKoPtiH3gmKoiJDU7QpLgoLjLIQCpEsNJ1vqUOdO7ppbuec5+V+rj4ctwzd8IIbbi6u+8f1539dt3A78eXC7QizUF7gyV1fD1Yqg4JWz84yffhm0qkFqBogB9rM8tZdtwVsPUhWhGcFJngGeWrPzHm5oaMmkfEg1usvLFyc8jLRqDOMru7AyC8saQr7GG7f5fvDeH7Ej8CM66nIF+8yngt6HWaKh7k49Soy9nXurCi1o3qUbS3zWfrYeQDTB/Qj6kX6Ybhw4B+bOYoLKCC9H3Nu/leUTZ1JdRWkkn2ldcCamzrcf47KKXdAJllSlxAOkRgyHsGC/zRday5Qld9DyoM4/q/rUoy/CXh3jzOu3bHUVZeU+DEn8FInkPBFlu3+nW3Nw0mk6vCDiWg8CeJaxEwuHS3+z5RgY+YBR6V1Z1nxSOfoaPa4LASWxxdNp+VWTk7+4vzaou8v8PN+xo+KY2xsw6une2frhw05CTYOmQvsEhjhWjn0bmXPjpE1+kplmmkP3suftwTubK9Vq22qKmrBhpY4jvd5afdRA3wGjFAgcnTK2s4hY0/GPNIb0nErGMCRxWOOX64Z8RAC4oCXdklmEvcL8o0BfkNK4lUg9HTl+oPlQxdNo3Mg4Nv175e/1LDGzZen30MEjRUtmXSfiTVu1kK8W4txyV6BMKlbgk3lMwYCiusNy9fVfvvwMxv8Ynl6vxoByANLTWplvuj/nF9m2+PDtt1eiHPBr1oIfhCChQMBw6Aw0UulqTKZdfVvfG7VcfIqLG9bcldL/+pdWTLxLUy8Qq38heUIjh4XlzZxzQm19lLFlr8vdQ97rjZVOLf8nclzckbcD4wxXMidpX30sFd37Fv/GtwwhzhxGVAprjbg0gCAEeIgwCZyTV2Z1REEW8O4py0wsjeloKoMr6iCY6dP92H6Vw/oTyICIthibxjm/DfN9lVz8IqtqKYLUXfoKVMVQVVJOElGjrnnUt9T9wbgp8AyYKaGlqingHZU/uG2NTZSVqwHQTWkx9hxjkpWDaCg6Ckj5qebgBVbT3V3NNXMSiWSDdGV3hrtzla7J+duwPOToIg42ChPQOQjspnSlp1V+Gjdged7+8UN5CRAV7a5EdFNwCjEaBR27b3W890TE7g24NAP/mMDXRWrGoFPQI9ls/MWO2dWFAar/xcOIImbbpA3zgAAAABJRU5ErkJggg==);\n",
       "        }\n",
       "    </style>\n",
       "    <div>\n",
       "        <a href=\"https://bokeh.org\" target=\"_blank\" class=\"bk-notebook-logo\"></a>\n",
       "        <span id=\"p61738\">Loading BokehJS ...</span>\n",
       "    </div>\n"
      ]
     },
     "metadata": {},
     "output_type": "display_data"
    },
    {
     "data": {
      "application/javascript": "(function(root) {\n  function now() {\n    return new Date();\n  }\n\n  const force = true;\n\n  if (typeof root._bokeh_onload_callbacks === \"undefined\" || force === true) {\n    root._bokeh_onload_callbacks = [];\n    root._bokeh_is_loading = undefined;\n  }\n\nconst JS_MIME_TYPE = 'application/javascript';\n  const HTML_MIME_TYPE = 'text/html';\n  const EXEC_MIME_TYPE = 'application/vnd.bokehjs_exec.v0+json';\n  const CLASS_NAME = 'output_bokeh rendered_html';\n\n  /**\n   * Render data to the DOM node\n   */\n  function render(props, node) {\n    const script = document.createElement(\"script\");\n    node.appendChild(script);\n  }\n\n  /**\n   * Handle when an output is cleared or removed\n   */\n  function handleClearOutput(event, handle) {\n    const cell = handle.cell;\n\n    const id = cell.output_area._bokeh_element_id;\n    const server_id = cell.output_area._bokeh_server_id;\n    // Clean up Bokeh references\n    if (id != null && id in Bokeh.index) {\n      Bokeh.index[id].model.document.clear();\n      delete Bokeh.index[id];\n    }\n\n    if (server_id !== undefined) {\n      // Clean up Bokeh references\n      const cmd_clean = \"from bokeh.io.state import curstate; print(curstate().uuid_to_server['\" + server_id + \"'].get_sessions()[0].document.roots[0]._id)\";\n      cell.notebook.kernel.execute(cmd_clean, {\n        iopub: {\n          output: function(msg) {\n            const id = msg.content.text.trim();\n            if (id in Bokeh.index) {\n              Bokeh.index[id].model.document.clear();\n              delete Bokeh.index[id];\n            }\n          }\n        }\n      });\n      // Destroy server and session\n      const cmd_destroy = \"import bokeh.io.notebook as ion; ion.destroy_server('\" + server_id + \"')\";\n      cell.notebook.kernel.execute(cmd_destroy);\n    }\n  }\n\n  /**\n   * Handle when a new output is added\n   */\n  function handleAddOutput(event, handle) {\n    const output_area = handle.output_area;\n    const output = handle.output;\n\n    // limit handleAddOutput to display_data with EXEC_MIME_TYPE content only\n    if ((output.output_type != \"display_data\") || (!Object.prototype.hasOwnProperty.call(output.data, EXEC_MIME_TYPE))) {\n      return\n    }\n\n    const toinsert = output_area.element.find(\".\" + CLASS_NAME.split(' ')[0]);\n\n    if (output.metadata[EXEC_MIME_TYPE][\"id\"] !== undefined) {\n      toinsert[toinsert.length - 1].firstChild.textContent = output.data[JS_MIME_TYPE];\n      // store reference to embed id on output_area\n      output_area._bokeh_element_id = output.metadata[EXEC_MIME_TYPE][\"id\"];\n    }\n    if (output.metadata[EXEC_MIME_TYPE][\"server_id\"] !== undefined) {\n      const bk_div = document.createElement(\"div\");\n      bk_div.innerHTML = output.data[HTML_MIME_TYPE];\n      const script_attrs = bk_div.children[0].attributes;\n      for (let i = 0; i < script_attrs.length; i++) {\n        toinsert[toinsert.length - 1].firstChild.setAttribute(script_attrs[i].name, script_attrs[i].value);\n        toinsert[toinsert.length - 1].firstChild.textContent = bk_div.children[0].textContent\n      }\n      // store reference to server id on output_area\n      output_area._bokeh_server_id = output.metadata[EXEC_MIME_TYPE][\"server_id\"];\n    }\n  }\n\n  function register_renderer(events, OutputArea) {\n\n    function append_mime(data, metadata, element) {\n      // create a DOM node to render to\n      const toinsert = this.create_output_subarea(\n        metadata,\n        CLASS_NAME,\n        EXEC_MIME_TYPE\n      );\n      this.keyboard_manager.register_events(toinsert);\n      // Render to node\n      const props = {data: data, metadata: metadata[EXEC_MIME_TYPE]};\n      render(props, toinsert[toinsert.length - 1]);\n      element.append(toinsert);\n      return toinsert\n    }\n\n    /* Handle when an output is cleared or removed */\n    events.on('clear_output.CodeCell', handleClearOutput);\n    events.on('delete.Cell', handleClearOutput);\n\n    /* Handle when a new output is added */\n    events.on('output_added.OutputArea', handleAddOutput);\n\n    /**\n     * Register the mime type and append_mime function with output_area\n     */\n    OutputArea.prototype.register_mime_type(EXEC_MIME_TYPE, append_mime, {\n      /* Is output safe? */\n      safe: true,\n      /* Index of renderer in `output_area.display_order` */\n      index: 0\n    });\n  }\n\n  // register the mime type if in Jupyter Notebook environment and previously unregistered\n  if (root.Jupyter !== undefined) {\n    const events = require('base/js/events');\n    const OutputArea = require('notebook/js/outputarea').OutputArea;\n\n    if (OutputArea.prototype.mime_types().indexOf(EXEC_MIME_TYPE) == -1) {\n      register_renderer(events, OutputArea);\n    }\n  }\n  if (typeof (root._bokeh_timeout) === \"undefined\" || force === true) {\n    root._bokeh_timeout = Date.now() + 5000;\n    root._bokeh_failed_load = false;\n  }\n\n  const NB_LOAD_WARNING = {'data': {'text/html':\n     \"<div style='background-color: #fdd'>\\n\"+\n     \"<p>\\n\"+\n     \"BokehJS does not appear to have successfully loaded. If loading BokehJS from CDN, this \\n\"+\n     \"may be due to a slow or bad network connection. Possible fixes:\\n\"+\n     \"</p>\\n\"+\n     \"<ul>\\n\"+\n     \"<li>re-rerun `output_notebook()` to attempt to load from CDN again, or</li>\\n\"+\n     \"<li>use INLINE resources instead, as so:</li>\\n\"+\n     \"</ul>\\n\"+\n     \"<code>\\n\"+\n     \"from bokeh.resources import INLINE\\n\"+\n     \"output_notebook(resources=INLINE)\\n\"+\n     \"</code>\\n\"+\n     \"</div>\"}};\n\n  function display_loaded() {\n    const el = document.getElementById(\"p61738\");\n    if (el != null) {\n      el.textContent = \"BokehJS is loading...\";\n    }\n    if (root.Bokeh !== undefined) {\n      if (el != null) {\n        el.textContent = \"BokehJS \" + root.Bokeh.version + \" successfully loaded.\";\n      }\n    } else if (Date.now() < root._bokeh_timeout) {\n      setTimeout(display_loaded, 100)\n    }\n  }\n\n  function run_callbacks() {\n    try {\n      root._bokeh_onload_callbacks.forEach(function(callback) {\n        if (callback != null)\n          callback();\n      });\n    } finally {\n      delete root._bokeh_onload_callbacks\n    }\n    console.debug(\"Bokeh: all callbacks have finished\");\n  }\n\n  function load_libs(css_urls, js_urls, callback) {\n    if (css_urls == null) css_urls = [];\n    if (js_urls == null) js_urls = [];\n\n    root._bokeh_onload_callbacks.push(callback);\n    if (root._bokeh_is_loading > 0) {\n      console.debug(\"Bokeh: BokehJS is being loaded, scheduling callback at\", now());\n      return null;\n    }\n    if (js_urls == null || js_urls.length === 0) {\n      run_callbacks();\n      return null;\n    }\n    console.debug(\"Bokeh: BokehJS not loaded, scheduling load and callback at\", now());\n    root._bokeh_is_loading = css_urls.length + js_urls.length;\n\n    function on_load() {\n      root._bokeh_is_loading--;\n      if (root._bokeh_is_loading === 0) {\n        console.debug(\"Bokeh: all BokehJS libraries/stylesheets loaded\");\n        run_callbacks()\n      }\n    }\n\n    function on_error(url) {\n      console.error(\"failed to load \" + url);\n    }\n\n    for (let i = 0; i < css_urls.length; i++) {\n      const url = css_urls[i];\n      const element = document.createElement(\"link\");\n      element.onload = on_load;\n      element.onerror = on_error.bind(null, url);\n      element.rel = \"stylesheet\";\n      element.type = \"text/css\";\n      element.href = url;\n      console.debug(\"Bokeh: injecting link tag for BokehJS stylesheet: \", url);\n      document.body.appendChild(element);\n    }\n\n    for (let i = 0; i < js_urls.length; i++) {\n      const url = js_urls[i];\n      const element = document.createElement('script');\n      element.onload = on_load;\n      element.onerror = on_error.bind(null, url);\n      element.async = false;\n      element.src = url;\n      console.debug(\"Bokeh: injecting script tag for BokehJS library: \", url);\n      document.head.appendChild(element);\n    }\n  };\n\n  function inject_raw_css(css) {\n    const element = document.createElement(\"style\");\n    element.appendChild(document.createTextNode(css));\n    document.body.appendChild(element);\n  }\n\n  const js_urls = [\"https://cdn.bokeh.org/bokeh/release/bokeh-3.1.0.min.js\", \"https://cdn.bokeh.org/bokeh/release/bokeh-gl-3.1.0.min.js\", \"https://cdn.bokeh.org/bokeh/release/bokeh-widgets-3.1.0.min.js\", \"https://cdn.bokeh.org/bokeh/release/bokeh-tables-3.1.0.min.js\", \"https://cdn.bokeh.org/bokeh/release/bokeh-mathjax-3.1.0.min.js\"];\n  const css_urls = [];\n\n  const inline_js = [    function(Bokeh) {\n      Bokeh.set_log_level(\"info\");\n    },\nfunction(Bokeh) {\n    }\n  ];\n\n  function run_inline_js() {\n    if (root.Bokeh !== undefined || force === true) {\n          for (let i = 0; i < inline_js.length; i++) {\n      inline_js[i].call(root, root.Bokeh);\n    }\nif (force === true) {\n        display_loaded();\n      }} else if (Date.now() < root._bokeh_timeout) {\n      setTimeout(run_inline_js, 100);\n    } else if (!root._bokeh_failed_load) {\n      console.log(\"Bokeh: BokehJS failed to load within specified timeout.\");\n      root._bokeh_failed_load = true;\n    } else if (force !== true) {\n      const cell = $(document.getElementById(\"p61738\")).parents('.cell').data().cell;\n      cell.output_area.append_execute_result(NB_LOAD_WARNING)\n    }\n  }\n\n  if (root._bokeh_is_loading === 0) {\n    console.debug(\"Bokeh: BokehJS loaded, going straight to plotting\");\n    run_inline_js();\n  } else {\n    load_libs(css_urls, js_urls, function() {\n      console.debug(\"Bokeh: BokehJS plotting callback run at\", now());\n      run_inline_js();\n    });\n  }\n}(window));",
      "application/vnd.bokehjs_load.v0+json": ""
     },
     "metadata": {},
     "output_type": "display_data"
    },
    {
     "data": {
      "text/html": [
       "\n",
       "  <div id=\"d7d07511-365a-4546-bd27-b8173a37e1e7\" data-root-id=\"p61742\" style=\"display: contents;\"></div>\n"
      ]
     },
     "metadata": {},
     "output_type": "display_data"
    },
    {
     "data": {
      "application/javascript": "(function(root) {\n  function embed_document(root) {\n  const docs_json = {\"6853d5b7-27a3-47d8-89be-94e299a9c5ad\":{\"version\":\"3.1.0\",\"title\":\"Bokeh Application\",\"defs\":[],\"roots\":[{\"type\":\"object\",\"name\":\"Figure\",\"id\":\"p61742\",\"attributes\":{\"width\":750,\"height\":500,\"x_range\":{\"type\":\"object\",\"name\":\"FactorRange\",\"id\":\"p61752\",\"attributes\":{\"factors\":[\"Gluten Free\",\"Vegan\",\"High Protein Vegetarian\",\"Non Vegeterian\",\"Eggetarian\",\"Diabetic Friendly\",\"Vegetarian\",\"High Protein Non Vegetarian\",\"Sugar Free Diet\",\"No Onion No Garlic (Sattvic)\"]}},\"y_range\":{\"type\":\"object\",\"name\":\"DataRange1d\",\"id\":\"p61744\",\"attributes\":{\"start\":0}},\"x_scale\":{\"type\":\"object\",\"name\":\"CategoricalScale\",\"id\":\"p61756\"},\"y_scale\":{\"type\":\"object\",\"name\":\"LinearScale\",\"id\":\"p61758\"},\"title\":{\"type\":\"object\",\"name\":\"Title\",\"id\":\"p61745\",\"attributes\":{\"text\":\"Average time taken to cook every diet\"}},\"renderers\":[{\"type\":\"object\",\"name\":\"GlyphRenderer\",\"id\":\"p61795\",\"attributes\":{\"data_source\":{\"type\":\"object\",\"name\":\"ColumnDataSource\",\"id\":\"p61739\",\"attributes\":{\"selected\":{\"type\":\"object\",\"name\":\"Selection\",\"id\":\"p61740\",\"attributes\":{\"indices\":[],\"line_indices\":[]}},\"selection_policy\":{\"type\":\"object\",\"name\":\"UnionRenderers\",\"id\":\"p61741\"},\"data\":{\"type\":\"map\",\"entries\":[[\"diet\",{\"type\":\"ndarray\",\"array\":[\"Gluten Free\",\"Vegan\",\"High Protein Vegetarian\",\"Non Vegeterian\",\"Eggetarian\",\"Diabetic Friendly\",\"Vegetarian\",\"High Protein Non Vegetarian\",\"Sugar Free Diet\",\"No Onion No Garlic (Sattvic)\"],\"shape\":[10],\"dtype\":\"object\",\"order\":\"little\"}],[\"total_time\",{\"type\":\"ndarray\",\"array\":{\"type\":\"bytes\",\"data\":\"dNFFF120V0Ag0QqbA0lSQF100UUXBVJATwqSP6+yUUBMwiRMwoRRQEU+6wZT/FBAwVp3cbZgTUDV5fYHGSpKQN7d3d3d3UdAMjWwd0wNRkA=\"},\"shape\":[10],\"dtype\":\"float64\",\"order\":\"little\"}]]}}},\"view\":{\"type\":\"object\",\"name\":\"CDSView\",\"id\":\"p61796\",\"attributes\":{\"filter\":{\"type\":\"object\",\"name\":\"AllIndices\",\"id\":\"p61797\"}}},\"glyph\":{\"type\":\"object\",\"name\":\"VBar\",\"id\":\"p61792\",\"attributes\":{\"x\":{\"type\":\"field\",\"field\":\"diet\"},\"width\":{\"type\":\"value\",\"value\":0.9},\"top\":{\"type\":\"field\",\"field\":\"total_time\"},\"line_color\":{\"type\":\"value\",\"value\":\"white\"},\"fill_color\":{\"type\":\"field\",\"field\":\"diet\",\"transform\":{\"type\":\"object\",\"name\":\"CategoricalColorMapper\",\"id\":\"p61788\",\"attributes\":{\"palette\":[\"#3182bd\",\"#6baed6\",\"#9ecae1\",\"#c6dbef\",\"#e6550d\",\"#fd8d3c\",\"#fdae6b\",\"#fdd0a2\",\"#31a354\",\"#74c476\",\"#a1d99b\",\"#c7e9c0\",\"#756bb1\",\"#9e9ac8\",\"#bcbddc\",\"#dadaeb\",\"#636363\",\"#969696\",\"#bdbdbd\",\"#d9d9d9\"],\"factors\":{\"type\":\"ndarray\",\"array\":[\"Gluten Free\",\"Vegan\",\"High Protein Vegetarian\",\"Non Vegeterian\",\"Eggetarian\",\"Diabetic Friendly\",\"Vegetarian\",\"High Protein Non Vegetarian\",\"Sugar Free Diet\",\"No Onion No Garlic (Sattvic)\"],\"shape\":[10],\"dtype\":\"object\",\"order\":\"little\"}}}}}},\"nonselection_glyph\":{\"type\":\"object\",\"name\":\"VBar\",\"id\":\"p61793\",\"attributes\":{\"x\":{\"type\":\"field\",\"field\":\"diet\"},\"width\":{\"type\":\"value\",\"value\":0.9},\"top\":{\"type\":\"field\",\"field\":\"total_time\"},\"line_color\":{\"type\":\"value\",\"value\":\"white\"},\"line_alpha\":{\"type\":\"value\",\"value\":0.1},\"fill_color\":{\"type\":\"field\",\"field\":\"diet\",\"transform\":{\"id\":\"p61788\"}},\"fill_alpha\":{\"type\":\"value\",\"value\":0.1},\"hatch_alpha\":{\"type\":\"value\",\"value\":0.1}}},\"muted_glyph\":{\"type\":\"object\",\"name\":\"VBar\",\"id\":\"p61794\",\"attributes\":{\"x\":{\"type\":\"field\",\"field\":\"diet\"},\"width\":{\"type\":\"value\",\"value\":0.9},\"top\":{\"type\":\"field\",\"field\":\"total_time\"},\"line_color\":{\"type\":\"value\",\"value\":\"white\"},\"line_alpha\":{\"type\":\"value\",\"value\":0.2},\"fill_color\":{\"type\":\"field\",\"field\":\"diet\",\"transform\":{\"id\":\"p61788\"}},\"fill_alpha\":{\"type\":\"value\",\"value\":0.2},\"hatch_alpha\":{\"type\":\"value\",\"value\":0.2}}}}}],\"toolbar\":{\"type\":\"object\",\"name\":\"Toolbar\",\"id\":\"p61750\",\"attributes\":{\"tools\":[{\"type\":\"object\",\"name\":\"PanTool\",\"id\":\"p61773\"},{\"type\":\"object\",\"name\":\"WheelZoomTool\",\"id\":\"p61774\"},{\"type\":\"object\",\"name\":\"BoxZoomTool\",\"id\":\"p61775\",\"attributes\":{\"overlay\":{\"type\":\"object\",\"name\":\"BoxAnnotation\",\"id\":\"p61776\",\"attributes\":{\"syncable\":false,\"level\":\"overlay\",\"visible\":false,\"left_units\":\"canvas\",\"right_units\":\"canvas\",\"bottom_units\":\"canvas\",\"top_units\":\"canvas\",\"line_color\":\"black\",\"line_alpha\":1.0,\"line_width\":2,\"line_dash\":[4,4],\"fill_color\":\"lightgrey\",\"fill_alpha\":0.5}}}},{\"type\":\"object\",\"name\":\"SaveTool\",\"id\":\"p61777\"},{\"type\":\"object\",\"name\":\"ResetTool\",\"id\":\"p61778\"},{\"type\":\"object\",\"name\":\"HelpTool\",\"id\":\"p61779\"}]}},\"left\":[{\"type\":\"object\",\"name\":\"LinearAxis\",\"id\":\"p61766\",\"attributes\":{\"ticker\":{\"type\":\"object\",\"name\":\"BasicTicker\",\"id\":\"p61767\",\"attributes\":{\"mantissas\":[1,2,5]}},\"formatter\":{\"type\":\"object\",\"name\":\"BasicTickFormatter\",\"id\":\"p61769\"},\"axis_label\":\"Average time taken to cook (in minutes)\",\"major_label_policy\":{\"type\":\"object\",\"name\":\"AllLabels\",\"id\":\"p61768\"}}}],\"below\":[{\"type\":\"object\",\"name\":\"CategoricalAxis\",\"id\":\"p61760\",\"attributes\":{\"ticker\":{\"type\":\"object\",\"name\":\"CategoricalTicker\",\"id\":\"p61761\"},\"formatter\":{\"type\":\"object\",\"name\":\"CategoricalTickFormatter\",\"id\":\"p61763\"},\"axis_label\":\"Diet\",\"major_label_orientation\":1,\"major_label_policy\":{\"type\":\"object\",\"name\":\"AllLabels\",\"id\":\"p61762\"}}}],\"center\":[{\"type\":\"object\",\"name\":\"Grid\",\"id\":\"p61765\",\"attributes\":{\"axis\":{\"id\":\"p61760\"}}},{\"type\":\"object\",\"name\":\"Grid\",\"id\":\"p61772\",\"attributes\":{\"dimension\":1,\"axis\":{\"id\":\"p61766\"}}}]}}],\"callbacks\":{\"type\":\"map\"}}};\n  const render_items = [{\"docid\":\"6853d5b7-27a3-47d8-89be-94e299a9c5ad\",\"roots\":{\"p61742\":\"d7d07511-365a-4546-bd27-b8173a37e1e7\"},\"root_ids\":[\"p61742\"]}];\n  root.Bokeh.embed.embed_items_notebook(docs_json, render_items);\n  }\n  if (root.Bokeh !== undefined) {\n    embed_document(root);\n  } else {\n    let attempts = 0;\n    const timer = setInterval(function(root) {\n      if (root.Bokeh !== undefined) {\n        clearInterval(timer);\n        embed_document(root);\n      } else {\n        attempts++;\n        if (attempts > 100) {\n          clearInterval(timer);\n          console.log(\"Bokeh: ERROR: Unable to run BokehJS code because BokehJS library is missing\");\n        }\n      }\n    }, 10, root)\n  }\n})(window);",
      "application/vnd.bokehjs_exec.v0+json": ""
     },
     "metadata": {
      "application/vnd.bokehjs_exec.v0+json": {
       "id": "p61742"
      }
     },
     "output_type": "display_data"
    }
   ],
   "source": [
    "\n",
    "# 1. group the dataframe by diet\n",
    "grouped_df_diet = current_df.groupby('diet')\n",
    "grouped_df_diet.head()\n",
    "\n",
    "# 2. find the average of total_time for every diet\n",
    "avg_time_diet = grouped_df_diet['total_time'].mean()\n",
    "print(avg_time_diet)\n",
    "\n",
    "# 3. sort the values in descending order\n",
    "avg_time_diet = avg_time_diet.sort_values(ascending=False)\n",
    "\n",
    "output_notebook()\n",
    "\n",
    "# create a ColumnDataSource object\n",
    "source = ColumnDataSource(avg_time_diet.to_frame())\n",
    "\n",
    "# create a figure object\n",
    "fig_diet_time = figure(x_range=avg_time_diet.index.values, height=500, width=750, title=\"Average time taken to cook every diet\")\n",
    "\n",
    "# add axis labels\n",
    "fig_diet_time.xaxis.axis_label = \"Diet\"\n",
    "fig_diet_time.yaxis.axis_label = \"Average time taken to cook (in minutes)\"\n",
    "\n",
    "# create a palette of colors because we have less than 20 diets we use Category20c\n",
    "my_palette = Category20c[20]\n",
    "\n",
    "# create a bar chart\n",
    "fig_diet_time.vbar(x='diet', top='total_time', width=0.9, source=source,\n",
    "            line_color='white', fill_color=factor_cmap('diet', palette=my_palette, factors=avg_time_diet.index.values))\n",
    "\n",
    "# set the y axis range\n",
    "fig_diet_time.y_range.start = 0\n",
    "\n",
    "# set the x axis labels to appear at 45 degree angle\n",
    "fig_diet_time.xaxis.major_label_orientation = 1\n",
    "\n",
    "# show the plot\n",
    "show(fig_diet_time)"
   ]
  },
  {
   "attachments": {},
   "cell_type": "markdown",
   "metadata": {},
   "source": [
    "Let's find out the most liked cuisine"
   ]
  },
  {
   "cell_type": "code",
   "execution_count": 254,
   "metadata": {},
   "outputs": [
    {
     "name": "stdout",
     "output_type": "stream",
     "text": [
      "cuisine\n",
      "Afghan                       93.470089\n",
      "African                      98.326757\n",
      "American                     98.386360\n",
      "Andhra                       97.940153\n",
      "Arab                         97.644716\n",
      "                               ...    \n",
      "Thai                         98.213016\n",
      "Udupi                        97.871597\n",
      "Uttar Pradesh                97.612161\n",
      "Uttarakhand-North Kumaon     98.906171\n",
      "Vietnamese                   98.623637\n",
      "Name: rating, Length: 76, dtype: float64\n"
     ]
    },
    {
     "data": {
      "text/html": [
       "<style>\n",
       "        .bk-notebook-logo {\n",
       "            display: block;\n",
       "            width: 20px;\n",
       "            height: 20px;\n",
       "            background-image: url(data:image/png;base64,iVBORw0KGgoAAAANSUhEUgAAABQAAAAUCAYAAACNiR0NAAAABHNCSVQICAgIfAhkiAAAAAlwSFlzAAALEgAACxIB0t1+/AAAABx0RVh0U29mdHdhcmUAQWRvYmUgRmlyZXdvcmtzIENTNui8sowAAAOkSURBVDiNjZRtaJVlGMd/1/08zzln5zjP1LWcU9N0NkN8m2CYjpgQYQXqSs0I84OLIC0hkEKoPtiH3gmKoiJDU7QpLgoLjLIQCpEsNJ1vqUOdO7ppbuec5+V+rj4ctwzd8IIbbi6u+8f1539dt3A78eXC7QizUF7gyV1fD1Yqg4JWz84yffhm0qkFqBogB9rM8tZdtwVsPUhWhGcFJngGeWrPzHm5oaMmkfEg1usvLFyc8jLRqDOMru7AyC8saQr7GG7f5fvDeH7Ej8CM66nIF+8yngt6HWaKh7k49Soy9nXurCi1o3qUbS3zWfrYeQDTB/Qj6kX6Ybhw4B+bOYoLKCC9H3Nu/leUTZ1JdRWkkn2ldcCamzrcf47KKXdAJllSlxAOkRgyHsGC/zRday5Qld9DyoM4/q/rUoy/CXh3jzOu3bHUVZeU+DEn8FInkPBFlu3+nW3Nw0mk6vCDiWg8CeJaxEwuHS3+z5RgY+YBR6V1Z1nxSOfoaPa4LASWxxdNp+VWTk7+4vzaou8v8PN+xo+KY2xsw6une2frhw05CTYOmQvsEhjhWjn0bmXPjpE1+kplmmkP3suftwTubK9Vq22qKmrBhpY4jvd5afdRA3wGjFAgcnTK2s4hY0/GPNIb0nErGMCRxWOOX64Z8RAC4oCXdklmEvcL8o0BfkNK4lUg9HTl+oPlQxdNo3Mg4Nv175e/1LDGzZen30MEjRUtmXSfiTVu1kK8W4txyV6BMKlbgk3lMwYCiusNy9fVfvvwMxv8Ynl6vxoByANLTWplvuj/nF9m2+PDtt1eiHPBr1oIfhCChQMBw6Aw0UulqTKZdfVvfG7VcfIqLG9bcldL/+pdWTLxLUy8Qq38heUIjh4XlzZxzQm19lLFlr8vdQ97rjZVOLf8nclzckbcD4wxXMidpX30sFd37Fv/GtwwhzhxGVAprjbg0gCAEeIgwCZyTV2Z1REEW8O4py0wsjeloKoMr6iCY6dP92H6Vw/oTyICIthibxjm/DfN9lVz8IqtqKYLUXfoKVMVQVVJOElGjrnnUt9T9wbgp8AyYKaGlqingHZU/uG2NTZSVqwHQTWkx9hxjkpWDaCg6Ckj5qebgBVbT3V3NNXMSiWSDdGV3hrtzla7J+duwPOToIg42ChPQOQjspnSlp1V+Gjdged7+8UN5CRAV7a5EdFNwCjEaBR27b3W890TE7g24NAP/mMDXRWrGoFPQI9ls/MWO2dWFAar/xcOIImbbpA3zgAAAABJRU5ErkJggg==);\n",
       "        }\n",
       "    </style>\n",
       "    <div>\n",
       "        <a href=\"https://bokeh.org\" target=\"_blank\" class=\"bk-notebook-logo\"></a>\n",
       "        <span id=\"p59015\">Loading BokehJS ...</span>\n",
       "    </div>\n"
      ]
     },
     "metadata": {},
     "output_type": "display_data"
    },
    {
     "data": {
      "application/javascript": "(function(root) {\n  function now() {\n    return new Date();\n  }\n\n  const force = true;\n\n  if (typeof root._bokeh_onload_callbacks === \"undefined\" || force === true) {\n    root._bokeh_onload_callbacks = [];\n    root._bokeh_is_loading = undefined;\n  }\n\nconst JS_MIME_TYPE = 'application/javascript';\n  const HTML_MIME_TYPE = 'text/html';\n  const EXEC_MIME_TYPE = 'application/vnd.bokehjs_exec.v0+json';\n  const CLASS_NAME = 'output_bokeh rendered_html';\n\n  /**\n   * Render data to the DOM node\n   */\n  function render(props, node) {\n    const script = document.createElement(\"script\");\n    node.appendChild(script);\n  }\n\n  /**\n   * Handle when an output is cleared or removed\n   */\n  function handleClearOutput(event, handle) {\n    const cell = handle.cell;\n\n    const id = cell.output_area._bokeh_element_id;\n    const server_id = cell.output_area._bokeh_server_id;\n    // Clean up Bokeh references\n    if (id != null && id in Bokeh.index) {\n      Bokeh.index[id].model.document.clear();\n      delete Bokeh.index[id];\n    }\n\n    if (server_id !== undefined) {\n      // Clean up Bokeh references\n      const cmd_clean = \"from bokeh.io.state import curstate; print(curstate().uuid_to_server['\" + server_id + \"'].get_sessions()[0].document.roots[0]._id)\";\n      cell.notebook.kernel.execute(cmd_clean, {\n        iopub: {\n          output: function(msg) {\n            const id = msg.content.text.trim();\n            if (id in Bokeh.index) {\n              Bokeh.index[id].model.document.clear();\n              delete Bokeh.index[id];\n            }\n          }\n        }\n      });\n      // Destroy server and session\n      const cmd_destroy = \"import bokeh.io.notebook as ion; ion.destroy_server('\" + server_id + \"')\";\n      cell.notebook.kernel.execute(cmd_destroy);\n    }\n  }\n\n  /**\n   * Handle when a new output is added\n   */\n  function handleAddOutput(event, handle) {\n    const output_area = handle.output_area;\n    const output = handle.output;\n\n    // limit handleAddOutput to display_data with EXEC_MIME_TYPE content only\n    if ((output.output_type != \"display_data\") || (!Object.prototype.hasOwnProperty.call(output.data, EXEC_MIME_TYPE))) {\n      return\n    }\n\n    const toinsert = output_area.element.find(\".\" + CLASS_NAME.split(' ')[0]);\n\n    if (output.metadata[EXEC_MIME_TYPE][\"id\"] !== undefined) {\n      toinsert[toinsert.length - 1].firstChild.textContent = output.data[JS_MIME_TYPE];\n      // store reference to embed id on output_area\n      output_area._bokeh_element_id = output.metadata[EXEC_MIME_TYPE][\"id\"];\n    }\n    if (output.metadata[EXEC_MIME_TYPE][\"server_id\"] !== undefined) {\n      const bk_div = document.createElement(\"div\");\n      bk_div.innerHTML = output.data[HTML_MIME_TYPE];\n      const script_attrs = bk_div.children[0].attributes;\n      for (let i = 0; i < script_attrs.length; i++) {\n        toinsert[toinsert.length - 1].firstChild.setAttribute(script_attrs[i].name, script_attrs[i].value);\n        toinsert[toinsert.length - 1].firstChild.textContent = bk_div.children[0].textContent\n      }\n      // store reference to server id on output_area\n      output_area._bokeh_server_id = output.metadata[EXEC_MIME_TYPE][\"server_id\"];\n    }\n  }\n\n  function register_renderer(events, OutputArea) {\n\n    function append_mime(data, metadata, element) {\n      // create a DOM node to render to\n      const toinsert = this.create_output_subarea(\n        metadata,\n        CLASS_NAME,\n        EXEC_MIME_TYPE\n      );\n      this.keyboard_manager.register_events(toinsert);\n      // Render to node\n      const props = {data: data, metadata: metadata[EXEC_MIME_TYPE]};\n      render(props, toinsert[toinsert.length - 1]);\n      element.append(toinsert);\n      return toinsert\n    }\n\n    /* Handle when an output is cleared or removed */\n    events.on('clear_output.CodeCell', handleClearOutput);\n    events.on('delete.Cell', handleClearOutput);\n\n    /* Handle when a new output is added */\n    events.on('output_added.OutputArea', handleAddOutput);\n\n    /**\n     * Register the mime type and append_mime function with output_area\n     */\n    OutputArea.prototype.register_mime_type(EXEC_MIME_TYPE, append_mime, {\n      /* Is output safe? */\n      safe: true,\n      /* Index of renderer in `output_area.display_order` */\n      index: 0\n    });\n  }\n\n  // register the mime type if in Jupyter Notebook environment and previously unregistered\n  if (root.Jupyter !== undefined) {\n    const events = require('base/js/events');\n    const OutputArea = require('notebook/js/outputarea').OutputArea;\n\n    if (OutputArea.prototype.mime_types().indexOf(EXEC_MIME_TYPE) == -1) {\n      register_renderer(events, OutputArea);\n    }\n  }\n  if (typeof (root._bokeh_timeout) === \"undefined\" || force === true) {\n    root._bokeh_timeout = Date.now() + 5000;\n    root._bokeh_failed_load = false;\n  }\n\n  const NB_LOAD_WARNING = {'data': {'text/html':\n     \"<div style='background-color: #fdd'>\\n\"+\n     \"<p>\\n\"+\n     \"BokehJS does not appear to have successfully loaded. If loading BokehJS from CDN, this \\n\"+\n     \"may be due to a slow or bad network connection. Possible fixes:\\n\"+\n     \"</p>\\n\"+\n     \"<ul>\\n\"+\n     \"<li>re-rerun `output_notebook()` to attempt to load from CDN again, or</li>\\n\"+\n     \"<li>use INLINE resources instead, as so:</li>\\n\"+\n     \"</ul>\\n\"+\n     \"<code>\\n\"+\n     \"from bokeh.resources import INLINE\\n\"+\n     \"output_notebook(resources=INLINE)\\n\"+\n     \"</code>\\n\"+\n     \"</div>\"}};\n\n  function display_loaded() {\n    const el = document.getElementById(\"p59015\");\n    if (el != null) {\n      el.textContent = \"BokehJS is loading...\";\n    }\n    if (root.Bokeh !== undefined) {\n      if (el != null) {\n        el.textContent = \"BokehJS \" + root.Bokeh.version + \" successfully loaded.\";\n      }\n    } else if (Date.now() < root._bokeh_timeout) {\n      setTimeout(display_loaded, 100)\n    }\n  }\n\n  function run_callbacks() {\n    try {\n      root._bokeh_onload_callbacks.forEach(function(callback) {\n        if (callback != null)\n          callback();\n      });\n    } finally {\n      delete root._bokeh_onload_callbacks\n    }\n    console.debug(\"Bokeh: all callbacks have finished\");\n  }\n\n  function load_libs(css_urls, js_urls, callback) {\n    if (css_urls == null) css_urls = [];\n    if (js_urls == null) js_urls = [];\n\n    root._bokeh_onload_callbacks.push(callback);\n    if (root._bokeh_is_loading > 0) {\n      console.debug(\"Bokeh: BokehJS is being loaded, scheduling callback at\", now());\n      return null;\n    }\n    if (js_urls == null || js_urls.length === 0) {\n      run_callbacks();\n      return null;\n    }\n    console.debug(\"Bokeh: BokehJS not loaded, scheduling load and callback at\", now());\n    root._bokeh_is_loading = css_urls.length + js_urls.length;\n\n    function on_load() {\n      root._bokeh_is_loading--;\n      if (root._bokeh_is_loading === 0) {\n        console.debug(\"Bokeh: all BokehJS libraries/stylesheets loaded\");\n        run_callbacks()\n      }\n    }\n\n    function on_error(url) {\n      console.error(\"failed to load \" + url);\n    }\n\n    for (let i = 0; i < css_urls.length; i++) {\n      const url = css_urls[i];\n      const element = document.createElement(\"link\");\n      element.onload = on_load;\n      element.onerror = on_error.bind(null, url);\n      element.rel = \"stylesheet\";\n      element.type = \"text/css\";\n      element.href = url;\n      console.debug(\"Bokeh: injecting link tag for BokehJS stylesheet: \", url);\n      document.body.appendChild(element);\n    }\n\n    for (let i = 0; i < js_urls.length; i++) {\n      const url = js_urls[i];\n      const element = document.createElement('script');\n      element.onload = on_load;\n      element.onerror = on_error.bind(null, url);\n      element.async = false;\n      element.src = url;\n      console.debug(\"Bokeh: injecting script tag for BokehJS library: \", url);\n      document.head.appendChild(element);\n    }\n  };\n\n  function inject_raw_css(css) {\n    const element = document.createElement(\"style\");\n    element.appendChild(document.createTextNode(css));\n    document.body.appendChild(element);\n  }\n\n  const js_urls = [\"https://cdn.bokeh.org/bokeh/release/bokeh-3.1.0.min.js\", \"https://cdn.bokeh.org/bokeh/release/bokeh-gl-3.1.0.min.js\", \"https://cdn.bokeh.org/bokeh/release/bokeh-widgets-3.1.0.min.js\", \"https://cdn.bokeh.org/bokeh/release/bokeh-tables-3.1.0.min.js\", \"https://cdn.bokeh.org/bokeh/release/bokeh-mathjax-3.1.0.min.js\"];\n  const css_urls = [];\n\n  const inline_js = [    function(Bokeh) {\n      Bokeh.set_log_level(\"info\");\n    },\nfunction(Bokeh) {\n    }\n  ];\n\n  function run_inline_js() {\n    if (root.Bokeh !== undefined || force === true) {\n          for (let i = 0; i < inline_js.length; i++) {\n      inline_js[i].call(root, root.Bokeh);\n    }\nif (force === true) {\n        display_loaded();\n      }} else if (Date.now() < root._bokeh_timeout) {\n      setTimeout(run_inline_js, 100);\n    } else if (!root._bokeh_failed_load) {\n      console.log(\"Bokeh: BokehJS failed to load within specified timeout.\");\n      root._bokeh_failed_load = true;\n    } else if (force !== true) {\n      const cell = $(document.getElementById(\"p59015\")).parents('.cell').data().cell;\n      cell.output_area.append_execute_result(NB_LOAD_WARNING)\n    }\n  }\n\n  if (root._bokeh_is_loading === 0) {\n    console.debug(\"Bokeh: BokehJS loaded, going straight to plotting\");\n    run_inline_js();\n  } else {\n    load_libs(css_urls, js_urls, function() {\n      console.debug(\"Bokeh: BokehJS plotting callback run at\", now());\n      run_inline_js();\n    });\n  }\n}(window));",
      "application/vnd.bokehjs_load.v0+json": ""
     },
     "metadata": {},
     "output_type": "display_data"
    },
    {
     "data": {
      "text/html": [
       "\n",
       "  <div id=\"01ae2319-931c-4eaf-b469-2e33758ddb56\" data-root-id=\"p59019\" style=\"display: contents;\"></div>\n"
      ]
     },
     "metadata": {},
     "output_type": "display_data"
    },
    {
     "data": {
      "application/javascript": "(function(root) {\n  function embed_document(root) {\n  const docs_json = {\"02227471-7178-4448-8e17-c862cf44dc13\":{\"version\":\"3.1.0\",\"title\":\"Bokeh Application\",\"defs\":[],\"roots\":[{\"type\":\"object\",\"name\":\"Figure\",\"id\":\"p59019\",\"attributes\":{\"width\":1500,\"height\":500,\"x_range\":{\"type\":\"object\",\"name\":\"FactorRange\",\"id\":\"p59029\",\"attributes\":{\"factors\":[\"Uttarakhand-North Kumaon \",\"Shandong\",\"Vietnamese\",\"Bangladeshi\",\"Malvani\",\"Indonesian\",\"American\",\"African\",\"Coorg\",\"Malaysian\",\"Sindhi\",\"Jewish\",\"Thai\",\"Nepalese\",\"Malabar\",\"Goan Recipes\",\"Cantonese\",\"Mexican\",\"Asian\",\"Kerala Recipes\",\"Lucknowi\",\"Italian Recipes\",\"Greek\",\"Sri Lankan\",\"South Indian Recipes\",\"Andhra\",\"Tamil Nadu\",\"Kongunadu\",\"Chettinad\",\"Mangalorean\",\"Udupi\",\"Konkan\",\"Parsi Recipes\",\"Middle Eastern\",\"Chinese\",\"Oriya Recipes\",\"Hyderabadi\",\"Indo Chinese\",\"Kashmiri\",\"Mediterranean\",\"North East India Recipes\",\"Continental\",\"Punjabi\",\"Maharashtrian Recipes\",\"Japanese\",\"Fusion\",\"Bengali Recipes\",\"Bihari\",\"Caribbean \",\"Mughlai\",\"European\",\"Himachal\",\"Arab\",\"Indian\",\"North Indian Recipes\",\"Karnataka\",\"British\",\"Burmese\",\"Uttar Pradesh\",\"Gujarati Recipes\\ufeff\",\"Awadhi\",\"Coastal Karnataka\",\"Sichuan\",\"South Karnataka\",\"Assamese\",\"Korean\",\"French\",\"Rajasthani\",\"Jharkhand\",\"Pakistani\",\"Singapore\",\"North Karnataka\",\"Nagaland\",\"Haryana\",\"Hunan\",\"Afghan\"]}},\"y_range\":{\"type\":\"object\",\"name\":\"DataRange1d\",\"id\":\"p59021\",\"attributes\":{\"start\":90}},\"x_scale\":{\"type\":\"object\",\"name\":\"CategoricalScale\",\"id\":\"p59033\"},\"y_scale\":{\"type\":\"object\",\"name\":\"LinearScale\",\"id\":\"p59035\"},\"title\":{\"type\":\"object\",\"name\":\"Title\",\"id\":\"p59022\",\"attributes\":{\"text\":\"Average rating of every cuisine\"}},\"renderers\":[{\"type\":\"object\",\"name\":\"GlyphRenderer\",\"id\":\"p59072\",\"attributes\":{\"data_source\":{\"type\":\"object\",\"name\":\"ColumnDataSource\",\"id\":\"p59016\",\"attributes\":{\"selected\":{\"type\":\"object\",\"name\":\"Selection\",\"id\":\"p59017\",\"attributes\":{\"indices\":[],\"line_indices\":[]}},\"selection_policy\":{\"type\":\"object\",\"name\":\"UnionRenderers\",\"id\":\"p59018\"},\"data\":{\"type\":\"map\",\"entries\":[[\"cuisine\",{\"type\":\"ndarray\",\"array\":[\"Uttarakhand-North Kumaon \",\"Shandong\",\"Vietnamese\",\"Bangladeshi\",\"Malvani\",\"Indonesian\",\"American\",\"African\",\"Coorg\",\"Malaysian\",\"Sindhi\",\"Jewish\",\"Thai\",\"Nepalese\",\"Malabar\",\"Goan Recipes\",\"Cantonese\",\"Mexican\",\"Asian\",\"Kerala Recipes\",\"Lucknowi\",\"Italian Recipes\",\"Greek\",\"Sri Lankan\",\"South Indian Recipes\",\"Andhra\",\"Tamil Nadu\",\"Kongunadu\",\"Chettinad\",\"Mangalorean\",\"Udupi\",\"Konkan\",\"Parsi Recipes\",\"Middle Eastern\",\"Chinese\",\"Oriya Recipes\",\"Hyderabadi\",\"Indo Chinese\",\"Kashmiri\",\"Mediterranean\",\"North East India Recipes\",\"Continental\",\"Punjabi\",\"Maharashtrian Recipes\",\"Japanese\",\"Fusion\",\"Bengali Recipes\",\"Bihari\",\"Caribbean \",\"Mughlai\",\"European\",\"Himachal\",\"Arab\",\"Indian\",\"North Indian Recipes\",\"Karnataka\",\"British\",\"Burmese\",\"Uttar Pradesh\",\"Gujarati Recipes\\ufeff\",\"Awadhi\",\"Coastal Karnataka\",\"Sichuan\",\"South Karnataka\",\"Assamese\",\"Korean\",\"French\",\"Rajasthani\",\"Jharkhand\",\"Pakistani\",\"Singapore\",\"North Karnataka\",\"Nagaland\",\"Haryana\",\"Hunan\",\"Afghan\"],\"shape\":[76],\"dtype\":\"object\",\"order\":\"little\"}],[\"rating\",{\"type\":\"ndarray\",\"array\":{\"type\":\"bytes\",\"data\":\"SBF9tf65WEDjToJ2w7FYQE8g1qvpp1hAqGYFhy+kWEDkHXNgkZ5YQOumhfvGm1hAdMYWIbqYWEDRn4iU6ZRYQIREZNoaklhAMMqWL1aPWEDtDpac445YQFIet2R3jlhAt0YHDaKNWEAgaJEl6YxYQEsxpdDCjFhALmP+tVyIWEDy+kUtl4dYQP19bQa3hlhAmMQF6cKFWEDQ5/9HiYVYQOVNhnv4g1hALyXjDG6AWEAoL5UjrH5YQHdIpRF1flhAIPrhzHd8WECcdOB3K3xYQEusYIlPe1hAKxRUp755WECFxXM7TnhYQAVwpqjcd1hANeOMQMh3WED7clATDHZYQIj5kU1NdFhADdZHTOlzWEBODBosoXNYQNZU/FW2clhAFEePZD9yWECgTR+hMnJYQCDU8m4jclhA8RGyIWVxWEBaYmrzx3BYQLIBj2GgcFhAfEVKardvWECoAQEPl29YQNL8tJtWb1hATetZuytvWEBIyIUXDG9YQN1UZh50bVhAgULEKMxrWECom5l2vmtYQE8XQKNka1hANcivW6ZpWEDmRaQHQ2lYQHbJE5rpaFhAKSKzckloWEApCW9r5mdYQFZFJyrZZ1hAP52OaodnWEB+e9SkLWdYQKidYpOQZlhAKOigBihmWEBnd+FWGmZYQO1X3BUYZlhALPL2zJhlWEAtTi1W/2FYQNjyBFZZX1hAyYbNMyFfWECimaHz5V1YQD4KwzrdXVhAtpiayB5UWEAUFkf3u1NYQHZUw72OTFhAcmNf4IVFWEDNQS++vxlYQC3whBZpy1dAW7bn7hVeV0A=\"},\"shape\":[76],\"dtype\":\"float64\",\"order\":\"little\"}]]}}},\"view\":{\"type\":\"object\",\"name\":\"CDSView\",\"id\":\"p59073\",\"attributes\":{\"filter\":{\"type\":\"object\",\"name\":\"AllIndices\",\"id\":\"p59074\"}}},\"glyph\":{\"type\":\"object\",\"name\":\"VBar\",\"id\":\"p59069\",\"attributes\":{\"x\":{\"type\":\"field\",\"field\":\"cuisine\"},\"width\":{\"type\":\"value\",\"value\":0.9},\"top\":{\"type\":\"field\",\"field\":\"rating\"},\"line_color\":{\"type\":\"value\",\"value\":\"white\"},\"fill_color\":{\"type\":\"field\",\"field\":\"cuisine\",\"transform\":{\"type\":\"object\",\"name\":\"CategoricalColorMapper\",\"id\":\"p59065\",\"attributes\":{\"palette\":[\"#30123b\",\"#341b51\",\"#372365\",\"#3a2c79\",\"#3c358b\",\"#3f3d9c\",\"#4145ab\",\"#434eba\",\"#4456c7\",\"#455ed2\",\"#4666dd\",\"#466de6\",\"#4675ed\",\"#467df4\",\"#4584f9\",\"#448cfd\",\"#4193fe\",\"#3e9bfe\",\"#39a2fc\",\"#34aaf8\",\"#2fb1f3\",\"#2ab9ed\",\"#25c0e6\",\"#20c6df\",\"#1ccdd7\",\"#19d3cf\",\"#17d9c7\",\"#17debf\",\"#19e3b8\",\"#1de7b1\",\"#22eba9\",\"#29eea0\",\"#32f197\",\"#3bf48d\",\"#46f783\",\"#51f979\",\"#5dfb6f\",\"#69fd65\",\"#74fe5c\",\"#80fe53\",\"#8bfe4b\",\"#95fe44\",\"#9efd3e\",\"#a6fb3a\",\"#aef937\",\"#b6f735\",\"#bef334\",\"#c5ef33\",\"#cdeb34\",\"#d4e735\",\"#dae236\",\"#e1dc37\",\"#e7d738\",\"#ecd139\",\"#f0cb3a\",\"#f4c43a\",\"#f8be39\",\"#fab737\",\"#fcb035\",\"#fda932\",\"#fea12f\",\"#fe982c\",\"#fd8f28\",\"#fc8624\",\"#fa7d20\",\"#f8741c\",\"#f66b18\",\"#f36315\",\"#ef5a11\",\"#ec520e\",\"#e84b0c\",\"#e3440a\",\"#de3e08\",\"#d93806\",\"#d43205\",\"#ce2d04\",\"#c72803\",\"#c02302\",\"#b91e01\",\"#b11901\",\"#a91501\",\"#a01101\",\"#970d01\",\"#8e0a01\",\"#840701\",\"#7a0402\"],\"factors\":{\"type\":\"ndarray\",\"array\":[\"Uttarakhand-North Kumaon \",\"Shandong\",\"Vietnamese\",\"Bangladeshi\",\"Malvani\",\"Indonesian\",\"American\",\"African\",\"Coorg\",\"Malaysian\",\"Sindhi\",\"Jewish\",\"Thai\",\"Nepalese\",\"Malabar\",\"Goan Recipes\",\"Cantonese\",\"Mexican\",\"Asian\",\"Kerala Recipes\",\"Lucknowi\",\"Italian Recipes\",\"Greek\",\"Sri Lankan\",\"South Indian Recipes\",\"Andhra\",\"Tamil Nadu\",\"Kongunadu\",\"Chettinad\",\"Mangalorean\",\"Udupi\",\"Konkan\",\"Parsi Recipes\",\"Middle Eastern\",\"Chinese\",\"Oriya Recipes\",\"Hyderabadi\",\"Indo Chinese\",\"Kashmiri\",\"Mediterranean\",\"North East India Recipes\",\"Continental\",\"Punjabi\",\"Maharashtrian Recipes\",\"Japanese\",\"Fusion\",\"Bengali Recipes\",\"Bihari\",\"Caribbean \",\"Mughlai\",\"European\",\"Himachal\",\"Arab\",\"Indian\",\"North Indian Recipes\",\"Karnataka\",\"British\",\"Burmese\",\"Uttar Pradesh\",\"Gujarati Recipes\\ufeff\",\"Awadhi\",\"Coastal Karnataka\",\"Sichuan\",\"South Karnataka\",\"Assamese\",\"Korean\",\"French\",\"Rajasthani\",\"Jharkhand\",\"Pakistani\",\"Singapore\",\"North Karnataka\",\"Nagaland\",\"Haryana\",\"Hunan\",\"Afghan\"],\"shape\":[76],\"dtype\":\"object\",\"order\":\"little\"}}}}}},\"nonselection_glyph\":{\"type\":\"object\",\"name\":\"VBar\",\"id\":\"p59070\",\"attributes\":{\"x\":{\"type\":\"field\",\"field\":\"cuisine\"},\"width\":{\"type\":\"value\",\"value\":0.9},\"top\":{\"type\":\"field\",\"field\":\"rating\"},\"line_color\":{\"type\":\"value\",\"value\":\"white\"},\"line_alpha\":{\"type\":\"value\",\"value\":0.1},\"fill_color\":{\"type\":\"field\",\"field\":\"cuisine\",\"transform\":{\"id\":\"p59065\"}},\"fill_alpha\":{\"type\":\"value\",\"value\":0.1},\"hatch_alpha\":{\"type\":\"value\",\"value\":0.1}}},\"muted_glyph\":{\"type\":\"object\",\"name\":\"VBar\",\"id\":\"p59071\",\"attributes\":{\"x\":{\"type\":\"field\",\"field\":\"cuisine\"},\"width\":{\"type\":\"value\",\"value\":0.9},\"top\":{\"type\":\"field\",\"field\":\"rating\"},\"line_color\":{\"type\":\"value\",\"value\":\"white\"},\"line_alpha\":{\"type\":\"value\",\"value\":0.2},\"fill_color\":{\"type\":\"field\",\"field\":\"cuisine\",\"transform\":{\"id\":\"p59065\"}},\"fill_alpha\":{\"type\":\"value\",\"value\":0.2},\"hatch_alpha\":{\"type\":\"value\",\"value\":0.2}}}}}],\"toolbar\":{\"type\":\"object\",\"name\":\"Toolbar\",\"id\":\"p59027\",\"attributes\":{\"tools\":[{\"type\":\"object\",\"name\":\"PanTool\",\"id\":\"p59050\"},{\"type\":\"object\",\"name\":\"WheelZoomTool\",\"id\":\"p59051\"},{\"type\":\"object\",\"name\":\"BoxZoomTool\",\"id\":\"p59052\",\"attributes\":{\"overlay\":{\"type\":\"object\",\"name\":\"BoxAnnotation\",\"id\":\"p59053\",\"attributes\":{\"syncable\":false,\"level\":\"overlay\",\"visible\":false,\"left_units\":\"canvas\",\"right_units\":\"canvas\",\"bottom_units\":\"canvas\",\"top_units\":\"canvas\",\"line_color\":\"black\",\"line_alpha\":1.0,\"line_width\":2,\"line_dash\":[4,4],\"fill_color\":\"lightgrey\",\"fill_alpha\":0.5}}}},{\"type\":\"object\",\"name\":\"SaveTool\",\"id\":\"p59054\"},{\"type\":\"object\",\"name\":\"ResetTool\",\"id\":\"p59055\"},{\"type\":\"object\",\"name\":\"HelpTool\",\"id\":\"p59056\"}]}},\"left\":[{\"type\":\"object\",\"name\":\"LinearAxis\",\"id\":\"p59043\",\"attributes\":{\"ticker\":{\"type\":\"object\",\"name\":\"BasicTicker\",\"id\":\"p59044\",\"attributes\":{\"mantissas\":[1,2,5]}},\"formatter\":{\"type\":\"object\",\"name\":\"BasicTickFormatter\",\"id\":\"p59046\"},\"axis_label\":\"Average rating\",\"major_label_policy\":{\"type\":\"object\",\"name\":\"AllLabels\",\"id\":\"p59045\"}}}],\"below\":[{\"type\":\"object\",\"name\":\"CategoricalAxis\",\"id\":\"p59037\",\"attributes\":{\"ticker\":{\"type\":\"object\",\"name\":\"CategoricalTicker\",\"id\":\"p59038\"},\"formatter\":{\"type\":\"object\",\"name\":\"CategoricalTickFormatter\",\"id\":\"p59040\"},\"axis_label\":\"Cuisine\",\"major_label_orientation\":1,\"major_label_policy\":{\"type\":\"object\",\"name\":\"AllLabels\",\"id\":\"p59039\"}}}],\"center\":[{\"type\":\"object\",\"name\":\"Grid\",\"id\":\"p59042\",\"attributes\":{\"axis\":{\"id\":\"p59037\"}}},{\"type\":\"object\",\"name\":\"Grid\",\"id\":\"p59049\",\"attributes\":{\"dimension\":1,\"axis\":{\"id\":\"p59043\"}}}]}}],\"callbacks\":{\"type\":\"map\"}}};\n  const render_items = [{\"docid\":\"02227471-7178-4448-8e17-c862cf44dc13\",\"roots\":{\"p59019\":\"01ae2319-931c-4eaf-b469-2e33758ddb56\"},\"root_ids\":[\"p59019\"]}];\n  root.Bokeh.embed.embed_items_notebook(docs_json, render_items);\n  }\n  if (root.Bokeh !== undefined) {\n    embed_document(root);\n  } else {\n    let attempts = 0;\n    const timer = setInterval(function(root) {\n      if (root.Bokeh !== undefined) {\n        clearInterval(timer);\n        embed_document(root);\n      } else {\n        attempts++;\n        if (attempts > 100) {\n          clearInterval(timer);\n          console.log(\"Bokeh: ERROR: Unable to run BokehJS code because BokehJS library is missing\");\n        }\n      }\n    }, 10, root)\n  }\n})(window);",
      "application/vnd.bokehjs_exec.v0+json": ""
     },
     "metadata": {
      "application/vnd.bokehjs_exec.v0+json": {
       "id": "p59019"
      }
     },
     "output_type": "display_data"
    }
   ],
   "source": [
    "\n",
    "# 0. multiply ratings by 20 only once to scale it between 0 and 100 \n",
    "#current_df['rating'] = current_df['rating'] / 20 \n",
    "\n",
    "# 1. group the dataframe by cuisine\n",
    "grouped_df_likes = current_df.groupby('cuisine')\n",
    "grouped_df_likes.head()\n",
    "\n",
    "# 2. find the average rating for every cuisine\n",
    "avg_likes = grouped_df_likes['rating'].mean()\n",
    "print(avg_likes)\n",
    "\n",
    "# 3. sort the values in descending order\n",
    "avg_likes = avg_likes.sort_values(ascending=False)\n",
    "\n",
    "output_notebook()\n",
    "\n",
    "# create a ColumnDataSource object\n",
    "source = ColumnDataSource(avg_likes.to_frame())\n",
    "\n",
    "# create a figure object\n",
    "fig_cuisine_rating = figure(x_range=avg_likes.index.values, height=500, width=1500, title=\"Average rating of every cuisine\")\n",
    "\n",
    "# add axis labels\n",
    "fig_cuisine_rating.xaxis.axis_label = \"Cuisine\"\n",
    "fig_cuisine_rating.yaxis.axis_label = \"Average rating\"\n",
    "\n",
    "# create a palette of colors because we have many cuisines we use Turbo256\n",
    "my_palette = Turbo256[::3]\n",
    "\n",
    "# create a bar chart\n",
    "fig_cuisine_rating.vbar(x='cuisine', top='rating', width=0.9, source=source, \n",
    "            line_color='white', fill_color=factor_cmap('cuisine', palette=my_palette, factors=avg_likes.index.values))\n",
    "\n",
    "# set the y axis range\n",
    "fig_cuisine_rating.y_range.start = 90\n",
    "\n",
    "# set the x axis labels to appear at 45 degree angle\n",
    "fig_cuisine_rating.xaxis.major_label_orientation = 1\n",
    "\n",
    "# show the plot\n",
    "show(fig_cuisine_rating)"
   ]
  },
  {
   "attachments": {},
   "cell_type": "markdown",
   "metadata": {},
   "source": [
    "Let's find out the most liked diet"
   ]
  },
  {
   "cell_type": "code",
   "execution_count": 257,
   "metadata": {},
   "outputs": [
    {
     "name": "stdout",
     "output_type": "stream",
     "text": [
      "diet\n",
      "Diabetic Friendly               97.816502\n",
      "Eggetarian                      97.725072\n",
      "Gluten Free                     97.460345\n",
      "High Protein Non Vegetarian     98.117434\n",
      "High Protein Vegetarian         97.824175\n",
      "No Onion No Garlic (Sattvic)    97.515257\n",
      "Non Vegeterian                  98.022794\n",
      "Sugar Free Diet                 97.722362\n",
      "Vegan                           97.443330\n",
      "Vegetarian                      97.750647\n",
      "Name: rating, dtype: float64\n"
     ]
    },
    {
     "data": {
      "text/html": [
       "<style>\n",
       "        .bk-notebook-logo {\n",
       "            display: block;\n",
       "            width: 20px;\n",
       "            height: 20px;\n",
       "            background-image: url(data:image/png;base64,iVBORw0KGgoAAAANSUhEUgAAABQAAAAUCAYAAACNiR0NAAAABHNCSVQICAgIfAhkiAAAAAlwSFlzAAALEgAACxIB0t1+/AAAABx0RVh0U29mdHdhcmUAQWRvYmUgRmlyZXdvcmtzIENTNui8sowAAAOkSURBVDiNjZRtaJVlGMd/1/08zzln5zjP1LWcU9N0NkN8m2CYjpgQYQXqSs0I84OLIC0hkEKoPtiH3gmKoiJDU7QpLgoLjLIQCpEsNJ1vqUOdO7ppbuec5+V+rj4ctwzd8IIbbi6u+8f1539dt3A78eXC7QizUF7gyV1fD1Yqg4JWz84yffhm0qkFqBogB9rM8tZdtwVsPUhWhGcFJngGeWrPzHm5oaMmkfEg1usvLFyc8jLRqDOMru7AyC8saQr7GG7f5fvDeH7Ej8CM66nIF+8yngt6HWaKh7k49Soy9nXurCi1o3qUbS3zWfrYeQDTB/Qj6kX6Ybhw4B+bOYoLKCC9H3Nu/leUTZ1JdRWkkn2ldcCamzrcf47KKXdAJllSlxAOkRgyHsGC/zRday5Qld9DyoM4/q/rUoy/CXh3jzOu3bHUVZeU+DEn8FInkPBFlu3+nW3Nw0mk6vCDiWg8CeJaxEwuHS3+z5RgY+YBR6V1Z1nxSOfoaPa4LASWxxdNp+VWTk7+4vzaou8v8PN+xo+KY2xsw6une2frhw05CTYOmQvsEhjhWjn0bmXPjpE1+kplmmkP3suftwTubK9Vq22qKmrBhpY4jvd5afdRA3wGjFAgcnTK2s4hY0/GPNIb0nErGMCRxWOOX64Z8RAC4oCXdklmEvcL8o0BfkNK4lUg9HTl+oPlQxdNo3Mg4Nv175e/1LDGzZen30MEjRUtmXSfiTVu1kK8W4txyV6BMKlbgk3lMwYCiusNy9fVfvvwMxv8Ynl6vxoByANLTWplvuj/nF9m2+PDtt1eiHPBr1oIfhCChQMBw6Aw0UulqTKZdfVvfG7VcfIqLG9bcldL/+pdWTLxLUy8Qq38heUIjh4XlzZxzQm19lLFlr8vdQ97rjZVOLf8nclzckbcD4wxXMidpX30sFd37Fv/GtwwhzhxGVAprjbg0gCAEeIgwCZyTV2Z1REEW8O4py0wsjeloKoMr6iCY6dP92H6Vw/oTyICIthibxjm/DfN9lVz8IqtqKYLUXfoKVMVQVVJOElGjrnnUt9T9wbgp8AyYKaGlqingHZU/uG2NTZSVqwHQTWkx9hxjkpWDaCg6Ckj5qebgBVbT3V3NNXMSiWSDdGV3hrtzla7J+duwPOToIg42ChPQOQjspnSlp1V+Gjdged7+8UN5CRAV7a5EdFNwCjEaBR27b3W890TE7g24NAP/mMDXRWrGoFPQI9ls/MWO2dWFAar/xcOIImbbpA3zgAAAABJRU5ErkJggg==);\n",
       "        }\n",
       "    </style>\n",
       "    <div>\n",
       "        <a href=\"https://bokeh.org\" target=\"_blank\" class=\"bk-notebook-logo\"></a>\n",
       "        <span id=\"p63119\">Loading BokehJS ...</span>\n",
       "    </div>\n"
      ]
     },
     "metadata": {},
     "output_type": "display_data"
    },
    {
     "data": {
      "application/javascript": "(function(root) {\n  function now() {\n    return new Date();\n  }\n\n  const force = true;\n\n  if (typeof root._bokeh_onload_callbacks === \"undefined\" || force === true) {\n    root._bokeh_onload_callbacks = [];\n    root._bokeh_is_loading = undefined;\n  }\n\nconst JS_MIME_TYPE = 'application/javascript';\n  const HTML_MIME_TYPE = 'text/html';\n  const EXEC_MIME_TYPE = 'application/vnd.bokehjs_exec.v0+json';\n  const CLASS_NAME = 'output_bokeh rendered_html';\n\n  /**\n   * Render data to the DOM node\n   */\n  function render(props, node) {\n    const script = document.createElement(\"script\");\n    node.appendChild(script);\n  }\n\n  /**\n   * Handle when an output is cleared or removed\n   */\n  function handleClearOutput(event, handle) {\n    const cell = handle.cell;\n\n    const id = cell.output_area._bokeh_element_id;\n    const server_id = cell.output_area._bokeh_server_id;\n    // Clean up Bokeh references\n    if (id != null && id in Bokeh.index) {\n      Bokeh.index[id].model.document.clear();\n      delete Bokeh.index[id];\n    }\n\n    if (server_id !== undefined) {\n      // Clean up Bokeh references\n      const cmd_clean = \"from bokeh.io.state import curstate; print(curstate().uuid_to_server['\" + server_id + \"'].get_sessions()[0].document.roots[0]._id)\";\n      cell.notebook.kernel.execute(cmd_clean, {\n        iopub: {\n          output: function(msg) {\n            const id = msg.content.text.trim();\n            if (id in Bokeh.index) {\n              Bokeh.index[id].model.document.clear();\n              delete Bokeh.index[id];\n            }\n          }\n        }\n      });\n      // Destroy server and session\n      const cmd_destroy = \"import bokeh.io.notebook as ion; ion.destroy_server('\" + server_id + \"')\";\n      cell.notebook.kernel.execute(cmd_destroy);\n    }\n  }\n\n  /**\n   * Handle when a new output is added\n   */\n  function handleAddOutput(event, handle) {\n    const output_area = handle.output_area;\n    const output = handle.output;\n\n    // limit handleAddOutput to display_data with EXEC_MIME_TYPE content only\n    if ((output.output_type != \"display_data\") || (!Object.prototype.hasOwnProperty.call(output.data, EXEC_MIME_TYPE))) {\n      return\n    }\n\n    const toinsert = output_area.element.find(\".\" + CLASS_NAME.split(' ')[0]);\n\n    if (output.metadata[EXEC_MIME_TYPE][\"id\"] !== undefined) {\n      toinsert[toinsert.length - 1].firstChild.textContent = output.data[JS_MIME_TYPE];\n      // store reference to embed id on output_area\n      output_area._bokeh_element_id = output.metadata[EXEC_MIME_TYPE][\"id\"];\n    }\n    if (output.metadata[EXEC_MIME_TYPE][\"server_id\"] !== undefined) {\n      const bk_div = document.createElement(\"div\");\n      bk_div.innerHTML = output.data[HTML_MIME_TYPE];\n      const script_attrs = bk_div.children[0].attributes;\n      for (let i = 0; i < script_attrs.length; i++) {\n        toinsert[toinsert.length - 1].firstChild.setAttribute(script_attrs[i].name, script_attrs[i].value);\n        toinsert[toinsert.length - 1].firstChild.textContent = bk_div.children[0].textContent\n      }\n      // store reference to server id on output_area\n      output_area._bokeh_server_id = output.metadata[EXEC_MIME_TYPE][\"server_id\"];\n    }\n  }\n\n  function register_renderer(events, OutputArea) {\n\n    function append_mime(data, metadata, element) {\n      // create a DOM node to render to\n      const toinsert = this.create_output_subarea(\n        metadata,\n        CLASS_NAME,\n        EXEC_MIME_TYPE\n      );\n      this.keyboard_manager.register_events(toinsert);\n      // Render to node\n      const props = {data: data, metadata: metadata[EXEC_MIME_TYPE]};\n      render(props, toinsert[toinsert.length - 1]);\n      element.append(toinsert);\n      return toinsert\n    }\n\n    /* Handle when an output is cleared or removed */\n    events.on('clear_output.CodeCell', handleClearOutput);\n    events.on('delete.Cell', handleClearOutput);\n\n    /* Handle when a new output is added */\n    events.on('output_added.OutputArea', handleAddOutput);\n\n    /**\n     * Register the mime type and append_mime function with output_area\n     */\n    OutputArea.prototype.register_mime_type(EXEC_MIME_TYPE, append_mime, {\n      /* Is output safe? */\n      safe: true,\n      /* Index of renderer in `output_area.display_order` */\n      index: 0\n    });\n  }\n\n  // register the mime type if in Jupyter Notebook environment and previously unregistered\n  if (root.Jupyter !== undefined) {\n    const events = require('base/js/events');\n    const OutputArea = require('notebook/js/outputarea').OutputArea;\n\n    if (OutputArea.prototype.mime_types().indexOf(EXEC_MIME_TYPE) == -1) {\n      register_renderer(events, OutputArea);\n    }\n  }\n  if (typeof (root._bokeh_timeout) === \"undefined\" || force === true) {\n    root._bokeh_timeout = Date.now() + 5000;\n    root._bokeh_failed_load = false;\n  }\n\n  const NB_LOAD_WARNING = {'data': {'text/html':\n     \"<div style='background-color: #fdd'>\\n\"+\n     \"<p>\\n\"+\n     \"BokehJS does not appear to have successfully loaded. If loading BokehJS from CDN, this \\n\"+\n     \"may be due to a slow or bad network connection. Possible fixes:\\n\"+\n     \"</p>\\n\"+\n     \"<ul>\\n\"+\n     \"<li>re-rerun `output_notebook()` to attempt to load from CDN again, or</li>\\n\"+\n     \"<li>use INLINE resources instead, as so:</li>\\n\"+\n     \"</ul>\\n\"+\n     \"<code>\\n\"+\n     \"from bokeh.resources import INLINE\\n\"+\n     \"output_notebook(resources=INLINE)\\n\"+\n     \"</code>\\n\"+\n     \"</div>\"}};\n\n  function display_loaded() {\n    const el = document.getElementById(\"p63119\");\n    if (el != null) {\n      el.textContent = \"BokehJS is loading...\";\n    }\n    if (root.Bokeh !== undefined) {\n      if (el != null) {\n        el.textContent = \"BokehJS \" + root.Bokeh.version + \" successfully loaded.\";\n      }\n    } else if (Date.now() < root._bokeh_timeout) {\n      setTimeout(display_loaded, 100)\n    }\n  }\n\n  function run_callbacks() {\n    try {\n      root._bokeh_onload_callbacks.forEach(function(callback) {\n        if (callback != null)\n          callback();\n      });\n    } finally {\n      delete root._bokeh_onload_callbacks\n    }\n    console.debug(\"Bokeh: all callbacks have finished\");\n  }\n\n  function load_libs(css_urls, js_urls, callback) {\n    if (css_urls == null) css_urls = [];\n    if (js_urls == null) js_urls = [];\n\n    root._bokeh_onload_callbacks.push(callback);\n    if (root._bokeh_is_loading > 0) {\n      console.debug(\"Bokeh: BokehJS is being loaded, scheduling callback at\", now());\n      return null;\n    }\n    if (js_urls == null || js_urls.length === 0) {\n      run_callbacks();\n      return null;\n    }\n    console.debug(\"Bokeh: BokehJS not loaded, scheduling load and callback at\", now());\n    root._bokeh_is_loading = css_urls.length + js_urls.length;\n\n    function on_load() {\n      root._bokeh_is_loading--;\n      if (root._bokeh_is_loading === 0) {\n        console.debug(\"Bokeh: all BokehJS libraries/stylesheets loaded\");\n        run_callbacks()\n      }\n    }\n\n    function on_error(url) {\n      console.error(\"failed to load \" + url);\n    }\n\n    for (let i = 0; i < css_urls.length; i++) {\n      const url = css_urls[i];\n      const element = document.createElement(\"link\");\n      element.onload = on_load;\n      element.onerror = on_error.bind(null, url);\n      element.rel = \"stylesheet\";\n      element.type = \"text/css\";\n      element.href = url;\n      console.debug(\"Bokeh: injecting link tag for BokehJS stylesheet: \", url);\n      document.body.appendChild(element);\n    }\n\n    for (let i = 0; i < js_urls.length; i++) {\n      const url = js_urls[i];\n      const element = document.createElement('script');\n      element.onload = on_load;\n      element.onerror = on_error.bind(null, url);\n      element.async = false;\n      element.src = url;\n      console.debug(\"Bokeh: injecting script tag for BokehJS library: \", url);\n      document.head.appendChild(element);\n    }\n  };\n\n  function inject_raw_css(css) {\n    const element = document.createElement(\"style\");\n    element.appendChild(document.createTextNode(css));\n    document.body.appendChild(element);\n  }\n\n  const js_urls = [\"https://cdn.bokeh.org/bokeh/release/bokeh-3.1.0.min.js\", \"https://cdn.bokeh.org/bokeh/release/bokeh-gl-3.1.0.min.js\", \"https://cdn.bokeh.org/bokeh/release/bokeh-widgets-3.1.0.min.js\", \"https://cdn.bokeh.org/bokeh/release/bokeh-tables-3.1.0.min.js\", \"https://cdn.bokeh.org/bokeh/release/bokeh-mathjax-3.1.0.min.js\"];\n  const css_urls = [];\n\n  const inline_js = [    function(Bokeh) {\n      Bokeh.set_log_level(\"info\");\n    },\nfunction(Bokeh) {\n    }\n  ];\n\n  function run_inline_js() {\n    if (root.Bokeh !== undefined || force === true) {\n          for (let i = 0; i < inline_js.length; i++) {\n      inline_js[i].call(root, root.Bokeh);\n    }\nif (force === true) {\n        display_loaded();\n      }} else if (Date.now() < root._bokeh_timeout) {\n      setTimeout(run_inline_js, 100);\n    } else if (!root._bokeh_failed_load) {\n      console.log(\"Bokeh: BokehJS failed to load within specified timeout.\");\n      root._bokeh_failed_load = true;\n    } else if (force !== true) {\n      const cell = $(document.getElementById(\"p63119\")).parents('.cell').data().cell;\n      cell.output_area.append_execute_result(NB_LOAD_WARNING)\n    }\n  }\n\n  if (root._bokeh_is_loading === 0) {\n    console.debug(\"Bokeh: BokehJS loaded, going straight to plotting\");\n    run_inline_js();\n  } else {\n    load_libs(css_urls, js_urls, function() {\n      console.debug(\"Bokeh: BokehJS plotting callback run at\", now());\n      run_inline_js();\n    });\n  }\n}(window));",
      "application/vnd.bokehjs_load.v0+json": ""
     },
     "metadata": {},
     "output_type": "display_data"
    },
    {
     "data": {
      "text/html": [
       "\n",
       "  <div id=\"c6ceb3e7-5fdd-4827-9787-8d9fa266eb05\" data-root-id=\"p63123\" style=\"display: contents;\"></div>\n"
      ]
     },
     "metadata": {},
     "output_type": "display_data"
    },
    {
     "data": {
      "application/javascript": "(function(root) {\n  function embed_document(root) {\n  const docs_json = {\"ac876cce-d6a0-4f28-96de-45c69a8a95c5\":{\"version\":\"3.1.0\",\"title\":\"Bokeh Application\",\"defs\":[],\"roots\":[{\"type\":\"object\",\"name\":\"Figure\",\"id\":\"p63123\",\"attributes\":{\"width\":750,\"height\":500,\"x_range\":{\"type\":\"object\",\"name\":\"FactorRange\",\"id\":\"p63133\",\"attributes\":{\"factors\":[\"High Protein Non Vegetarian\",\"Non Vegeterian\",\"High Protein Vegetarian\",\"Diabetic Friendly\",\"Vegetarian\",\"Eggetarian\",\"Sugar Free Diet\",\"No Onion No Garlic (Sattvic)\",\"Gluten Free\",\"Vegan\"]}},\"y_range\":{\"type\":\"object\",\"name\":\"DataRange1d\",\"id\":\"p63125\",\"attributes\":{\"start\":97}},\"x_scale\":{\"type\":\"object\",\"name\":\"CategoricalScale\",\"id\":\"p63137\"},\"y_scale\":{\"type\":\"object\",\"name\":\"LinearScale\",\"id\":\"p63139\"},\"title\":{\"type\":\"object\",\"name\":\"Title\",\"id\":\"p63126\",\"attributes\":{\"text\":\"Average rating of every diet\"}},\"renderers\":[{\"type\":\"object\",\"name\":\"GlyphRenderer\",\"id\":\"p63176\",\"attributes\":{\"data_source\":{\"type\":\"object\",\"name\":\"ColumnDataSource\",\"id\":\"p63120\",\"attributes\":{\"selected\":{\"type\":\"object\",\"name\":\"Selection\",\"id\":\"p63121\",\"attributes\":{\"indices\":[],\"line_indices\":[]}},\"selection_policy\":{\"type\":\"object\",\"name\":\"UnionRenderers\",\"id\":\"p63122\"},\"data\":{\"type\":\"map\",\"entries\":[[\"diet\",{\"type\":\"ndarray\",\"array\":[\"High Protein Non Vegetarian\",\"Non Vegeterian\",\"High Protein Vegetarian\",\"Diabetic Friendly\",\"Vegetarian\",\"Eggetarian\",\"Sugar Free Diet\",\"No Onion No Garlic (Sattvic)\",\"Gluten Free\",\"Vegan\"],\"shape\":[10],\"dtype\":\"object\",\"order\":\"little\"}],[\"rating\",{\"type\":\"ndarray\",\"array\":{\"type\":\"bytes\",\"data\":\"n9xXC4SHWECbQd51dYFYQLVStUa/dFhAuL5mkkF0WECGV8GbCnBYQM772pRnblhASyWwLztuWEDXOKv3+WBYQEKSREp2XVhAdvg3hV9cWEA=\"},\"shape\":[10],\"dtype\":\"float64\",\"order\":\"little\"}]]}}},\"view\":{\"type\":\"object\",\"name\":\"CDSView\",\"id\":\"p63177\",\"attributes\":{\"filter\":{\"type\":\"object\",\"name\":\"AllIndices\",\"id\":\"p63178\"}}},\"glyph\":{\"type\":\"object\",\"name\":\"VBar\",\"id\":\"p63173\",\"attributes\":{\"x\":{\"type\":\"field\",\"field\":\"diet\"},\"width\":{\"type\":\"value\",\"value\":0.9},\"top\":{\"type\":\"field\",\"field\":\"rating\"},\"line_color\":{\"type\":\"value\",\"value\":\"white\"},\"fill_color\":{\"type\":\"field\",\"field\":\"diet\",\"transform\":{\"type\":\"object\",\"name\":\"CategoricalColorMapper\",\"id\":\"p63169\",\"attributes\":{\"palette\":[\"#3182bd\",\"#6baed6\",\"#9ecae1\",\"#c6dbef\",\"#e6550d\",\"#fd8d3c\",\"#fdae6b\",\"#fdd0a2\",\"#31a354\",\"#74c476\",\"#a1d99b\",\"#c7e9c0\",\"#756bb1\",\"#9e9ac8\",\"#bcbddc\",\"#dadaeb\",\"#636363\",\"#969696\",\"#bdbdbd\",\"#d9d9d9\"],\"factors\":{\"type\":\"ndarray\",\"array\":[\"High Protein Non Vegetarian\",\"Non Vegeterian\",\"High Protein Vegetarian\",\"Diabetic Friendly\",\"Vegetarian\",\"Eggetarian\",\"Sugar Free Diet\",\"No Onion No Garlic (Sattvic)\",\"Gluten Free\",\"Vegan\"],\"shape\":[10],\"dtype\":\"object\",\"order\":\"little\"}}}}}},\"nonselection_glyph\":{\"type\":\"object\",\"name\":\"VBar\",\"id\":\"p63174\",\"attributes\":{\"x\":{\"type\":\"field\",\"field\":\"diet\"},\"width\":{\"type\":\"value\",\"value\":0.9},\"top\":{\"type\":\"field\",\"field\":\"rating\"},\"line_color\":{\"type\":\"value\",\"value\":\"white\"},\"line_alpha\":{\"type\":\"value\",\"value\":0.1},\"fill_color\":{\"type\":\"field\",\"field\":\"diet\",\"transform\":{\"id\":\"p63169\"}},\"fill_alpha\":{\"type\":\"value\",\"value\":0.1},\"hatch_alpha\":{\"type\":\"value\",\"value\":0.1}}},\"muted_glyph\":{\"type\":\"object\",\"name\":\"VBar\",\"id\":\"p63175\",\"attributes\":{\"x\":{\"type\":\"field\",\"field\":\"diet\"},\"width\":{\"type\":\"value\",\"value\":0.9},\"top\":{\"type\":\"field\",\"field\":\"rating\"},\"line_color\":{\"type\":\"value\",\"value\":\"white\"},\"line_alpha\":{\"type\":\"value\",\"value\":0.2},\"fill_color\":{\"type\":\"field\",\"field\":\"diet\",\"transform\":{\"id\":\"p63169\"}},\"fill_alpha\":{\"type\":\"value\",\"value\":0.2},\"hatch_alpha\":{\"type\":\"value\",\"value\":0.2}}}}}],\"toolbar\":{\"type\":\"object\",\"name\":\"Toolbar\",\"id\":\"p63131\",\"attributes\":{\"tools\":[{\"type\":\"object\",\"name\":\"PanTool\",\"id\":\"p63154\"},{\"type\":\"object\",\"name\":\"WheelZoomTool\",\"id\":\"p63155\"},{\"type\":\"object\",\"name\":\"BoxZoomTool\",\"id\":\"p63156\",\"attributes\":{\"overlay\":{\"type\":\"object\",\"name\":\"BoxAnnotation\",\"id\":\"p63157\",\"attributes\":{\"syncable\":false,\"level\":\"overlay\",\"visible\":false,\"left_units\":\"canvas\",\"right_units\":\"canvas\",\"bottom_units\":\"canvas\",\"top_units\":\"canvas\",\"line_color\":\"black\",\"line_alpha\":1.0,\"line_width\":2,\"line_dash\":[4,4],\"fill_color\":\"lightgrey\",\"fill_alpha\":0.5}}}},{\"type\":\"object\",\"name\":\"SaveTool\",\"id\":\"p63158\"},{\"type\":\"object\",\"name\":\"ResetTool\",\"id\":\"p63159\"},{\"type\":\"object\",\"name\":\"HelpTool\",\"id\":\"p63160\"}]}},\"left\":[{\"type\":\"object\",\"name\":\"LinearAxis\",\"id\":\"p63147\",\"attributes\":{\"ticker\":{\"type\":\"object\",\"name\":\"BasicTicker\",\"id\":\"p63148\",\"attributes\":{\"mantissas\":[1,2,5]}},\"formatter\":{\"type\":\"object\",\"name\":\"BasicTickFormatter\",\"id\":\"p63150\"},\"axis_label\":\"Average rating\",\"major_label_policy\":{\"type\":\"object\",\"name\":\"AllLabels\",\"id\":\"p63149\"}}}],\"below\":[{\"type\":\"object\",\"name\":\"CategoricalAxis\",\"id\":\"p63141\",\"attributes\":{\"ticker\":{\"type\":\"object\",\"name\":\"CategoricalTicker\",\"id\":\"p63142\"},\"formatter\":{\"type\":\"object\",\"name\":\"CategoricalTickFormatter\",\"id\":\"p63144\"},\"axis_label\":\"Diet\",\"major_label_orientation\":1,\"major_label_policy\":{\"type\":\"object\",\"name\":\"AllLabels\",\"id\":\"p63143\"}}}],\"center\":[{\"type\":\"object\",\"name\":\"Grid\",\"id\":\"p63146\",\"attributes\":{\"axis\":{\"id\":\"p63141\"}}},{\"type\":\"object\",\"name\":\"Grid\",\"id\":\"p63153\",\"attributes\":{\"dimension\":1,\"axis\":{\"id\":\"p63147\"}}}]}}],\"callbacks\":{\"type\":\"map\"}}};\n  const render_items = [{\"docid\":\"ac876cce-d6a0-4f28-96de-45c69a8a95c5\",\"roots\":{\"p63123\":\"c6ceb3e7-5fdd-4827-9787-8d9fa266eb05\"},\"root_ids\":[\"p63123\"]}];\n  root.Bokeh.embed.embed_items_notebook(docs_json, render_items);\n  }\n  if (root.Bokeh !== undefined) {\n    embed_document(root);\n  } else {\n    let attempts = 0;\n    const timer = setInterval(function(root) {\n      if (root.Bokeh !== undefined) {\n        clearInterval(timer);\n        embed_document(root);\n      } else {\n        attempts++;\n        if (attempts > 100) {\n          clearInterval(timer);\n          console.log(\"Bokeh: ERROR: Unable to run BokehJS code because BokehJS library is missing\");\n        }\n      }\n    }, 10, root)\n  }\n})(window);",
      "application/vnd.bokehjs_exec.v0+json": ""
     },
     "metadata": {
      "application/vnd.bokehjs_exec.v0+json": {
       "id": "p63123"
      }
     },
     "output_type": "display_data"
    }
   ],
   "source": [
    "# 1. group the dataframe by diet\n",
    "grouped_df_likes_diet = current_df.groupby('diet')\n",
    "grouped_df_likes_diet.head()\n",
    "\n",
    "# 2. find the average rating for every diet\n",
    "avg_likes_diet = grouped_df_likes_diet['rating'].mean()\n",
    "print(avg_likes_diet)\n",
    "\n",
    "# 3. sort the values in descending order\n",
    "avg_likes_diet = avg_likes_diet.sort_values(ascending=False)\n",
    "\n",
    "output_notebook()\n",
    "\n",
    "# create a ColumnDataSource object\n",
    "source = ColumnDataSource(avg_likes_diet.to_frame())\n",
    "\n",
    "# create a figure object   \n",
    "fig_diet_rating = figure(x_range=avg_likes_diet.index.values, height=500, width=750, title=\"Average rating of every diet\")\n",
    "\n",
    "# add axis labels\n",
    "fig_diet_rating.xaxis.axis_label = \"Diet\"\n",
    "fig_diet_rating.yaxis.axis_label = \"Average rating\"\n",
    "\n",
    "# create a palette of colors because we have less than 20 diets we use Category20c\n",
    "my_palette = Category20c[20]\n",
    "\n",
    "# create a bar chart\n",
    "fig_diet_rating.vbar(x='diet', top='rating', width=0.9, source=source,\n",
    "            line_color='white', fill_color=factor_cmap('diet', palette=my_palette, factors=avg_likes_diet.index.values))\n",
    "\n",
    "# set the y axis range\n",
    "fig_diet_rating.y_range.start = 97\n",
    "\n",
    "# set the x axis labels to appear at 45 degree angle\n",
    "fig_diet_rating.xaxis.major_label_orientation = 1\n",
    "\n",
    "# show the plot\n",
    "show(fig_diet_rating)"
   ]
  },
  {
   "attachments": {},
   "cell_type": "markdown",
   "metadata": {},
   "source": [
    "Let's see all of the above in one graph"
   ]
  },
  {
   "cell_type": "code",
   "execution_count": 258,
   "metadata": {},
   "outputs": [
    {
     "data": {
      "text/html": [
       "\n",
       "  <div id=\"a40ecd30-ddc9-4d45-90c9-98c5f9ce2abb\" data-root-id=\"p64515\" style=\"display: contents;\"></div>\n"
      ]
     },
     "metadata": {},
     "output_type": "display_data"
    },
    {
     "data": {
      "application/javascript": "(function(root) {\n  function embed_document(root) {\n  const docs_json = {\"f94fac72-642a-4f2d-ae1d-db505bd0702c\":{\"version\":\"3.1.0\",\"title\":\"Bokeh Application\",\"defs\":[],\"roots\":[{\"type\":\"object\",\"name\":\"Row\",\"id\":\"p64515\",\"attributes\":{\"children\":[{\"type\":\"object\",\"name\":\"Column\",\"id\":\"p64514\",\"attributes\":{\"children\":[{\"type\":\"object\",\"name\":\"Figure\",\"id\":\"p46184\",\"attributes\":{\"width\":1500,\"height\":500,\"x_range\":{\"type\":\"object\",\"name\":\"FactorRange\",\"id\":\"p46194\",\"attributes\":{\"factors\":[\"Greek\",\"Mughlai\",\"Himachal\",\"Oriya Recipes\",\"Bihari\",\"South Karnataka\",\"British\",\"Uttarakhand-North Kumaon \",\"Goan Recipes\",\"Konkan\",\"Middle Eastern\",\"American\",\"Vietnamese\",\"French\",\"Continental\",\"Kashmiri\",\"Italian Recipes\",\"Mediterranean\",\"Kerala Recipes\",\"Korean\",\"Mangalorean\",\"Chinese\",\"Punjabi\",\"Karnataka\",\"South Indian Recipes\",\"Bangladeshi\",\"Pakistani\",\"Jewish\",\"North Indian Recipes\",\"Fusion\",\"Mexican\",\"Caribbean \",\"Bengali Recipes\",\"Kongunadu\",\"Indian\",\"Awadhi\",\"Burmese\",\"Arab\",\"Chettinad\",\"Lucknowi\",\"Rajasthani\",\"African\",\"Hyderabadi\",\"North East India Recipes\",\"Sri Lankan\",\"Sindhi\",\"Tamil Nadu\",\"Haryana\",\"Singapore\",\"Cantonese\",\"Gujarati Recipes\\ufeff\",\"Andhra\",\"Malabar\",\"Maharashtrian Recipes\",\"Udupi\",\"Parsi Recipes\",\"North Karnataka\",\"European\",\"Japanese\",\"Afghan\",\"Indo Chinese\",\"Thai\",\"Indonesian\",\"Nepalese\",\"Sichuan\",\"Asian\",\"Assamese\",\"Coastal Karnataka\",\"Nagaland\",\"Coorg\",\"Malvani\",\"Uttar Pradesh\",\"Jharkhand\",\"Malaysian\",\"Hunan\",\"Shandong\"]}},\"y_range\":{\"type\":\"object\",\"name\":\"DataRange1d\",\"id\":\"p46186\",\"attributes\":{\"start\":0}},\"x_scale\":{\"type\":\"object\",\"name\":\"CategoricalScale\",\"id\":\"p46198\"},\"y_scale\":{\"type\":\"object\",\"name\":\"LinearScale\",\"id\":\"p46200\"},\"title\":{\"type\":\"object\",\"name\":\"Title\",\"id\":\"p46187\",\"attributes\":{\"text\":\"Average time taken to cook every cuisine\"}},\"renderers\":[{\"type\":\"object\",\"name\":\"GlyphRenderer\",\"id\":\"p46237\",\"attributes\":{\"data_source\":{\"type\":\"object\",\"name\":\"ColumnDataSource\",\"id\":\"p46181\",\"attributes\":{\"selected\":{\"type\":\"object\",\"name\":\"Selection\",\"id\":\"p46182\",\"attributes\":{\"indices\":[],\"line_indices\":[]}},\"selection_policy\":{\"type\":\"object\",\"name\":\"UnionRenderers\",\"id\":\"p46183\"},\"data\":{\"type\":\"map\",\"entries\":[[\"cuisine\",{\"type\":\"ndarray\",\"array\":[\"Greek\",\"Mughlai\",\"Himachal\",\"Oriya Recipes\",\"Bihari\",\"South Karnataka\",\"British\",\"Uttarakhand-North Kumaon \",\"Goan Recipes\",\"Konkan\",\"Middle Eastern\",\"American\",\"Vietnamese\",\"French\",\"Continental\",\"Kashmiri\",\"Italian Recipes\",\"Mediterranean\",\"Kerala Recipes\",\"Korean\",\"Mangalorean\",\"Chinese\",\"Punjabi\",\"Karnataka\",\"South Indian Recipes\",\"Bangladeshi\",\"Pakistani\",\"Jewish\",\"North Indian Recipes\",\"Fusion\",\"Mexican\",\"Caribbean \",\"Bengali Recipes\",\"Kongunadu\",\"Indian\",\"Awadhi\",\"Burmese\",\"Arab\",\"Chettinad\",\"Lucknowi\",\"Rajasthani\",\"African\",\"Hyderabadi\",\"North East India Recipes\",\"Sri Lankan\",\"Sindhi\",\"Tamil Nadu\",\"Haryana\",\"Singapore\",\"Cantonese\",\"Gujarati Recipes\\ufeff\",\"Andhra\",\"Malabar\",\"Maharashtrian Recipes\",\"Udupi\",\"Parsi Recipes\",\"North Karnataka\",\"European\",\"Japanese\",\"Afghan\",\"Indo Chinese\",\"Thai\",\"Indonesian\",\"Nepalese\",\"Sichuan\",\"Asian\",\"Assamese\",\"Coastal Karnataka\",\"Nagaland\",\"Coorg\",\"Malvani\",\"Uttar Pradesh\",\"Jharkhand\",\"Malaysian\",\"Hunan\",\"Shandong\"],\"shape\":[76],\"dtype\":\"object\",\"order\":\"little\"}],[\"total_time\",{\"type\":\"ndarray\",\"array\":{\"type\":\"bytes\",\"data\":\"5TWU11BeYkDT0tLS0kJhQNhQXkN57WBA8lk3mCIfX0DuaYTlnsZbQFVVVVVVJVpAAAAAAABAWUAAAAAAACBXQNU8yF0/21RAfMVXfMWXVEAAAAAAAIVTQAAAAAAAYFNAT+zETuxEU0CDNEiDNKhSQIvCu3FC0VFAAAAAAACAUUCuDdPcBX9RQGZmZmZmblFAq9mTfB9rUUDNzMzMzExRQNejcD0Kl1BALS0tLS09UEBMv/RLvzRQQBGHTtoHCVBAptLdN8KzTkAAAAAAAABOQAAAAAAAAE5AAAAAAAAATkCbVPTvqclNQHkN5TWUp01AyEIWspDFTEAAAAAAAMBMQP3VX/3VX0xAVVVVVVVVTEBLmQS7Cg9MQKuqqqqq6ktAAAAAAACAS0AAAAAAAIBLQC1uwvyuFktAVVVVVVUVS0BaWlpaWjpKQAzDMAzDMEpAvYbyGsorSkBiJ3ZiJ/ZJQJeWlpaWlklAOY7jOI5DSUAhC1nIQiZJQAAAAAAAAElAAAAAAAAASUAAAAAAALBIQNLLn7bQgEhAGTX8bYpRSEAAAAAAAABIQLtZnkSmoUdAAAAAAACAR0DD9Shcj0JHQAAAAAAAOEdAhBBCCCEER0AUO7ETO7FGQAAAAAAAoEZAGmG5pxFWRkCvXr169epFQI7jOI7juEVAAAAAAACwRUAAAAAAAKBFQCp4OQUvJ0VAAAAAAADARECrqqqqqipEQAAAAAAAAERAq6qqqqoqQ0A5juM4juNCQFVVVVVV1UJAAAAAAACAQUBVVVVVVRVBQKuqqqqqqkBAAAAAAAAAPkA=\"},\"shape\":[76],\"dtype\":\"float64\",\"order\":\"little\"}]]}}},\"view\":{\"type\":\"object\",\"name\":\"CDSView\",\"id\":\"p46238\",\"attributes\":{\"filter\":{\"type\":\"object\",\"name\":\"AllIndices\",\"id\":\"p46239\"}}},\"glyph\":{\"type\":\"object\",\"name\":\"VBar\",\"id\":\"p46234\",\"attributes\":{\"x\":{\"type\":\"field\",\"field\":\"cuisine\"},\"width\":{\"type\":\"value\",\"value\":0.9},\"top\":{\"type\":\"field\",\"field\":\"total_time\"},\"line_color\":{\"type\":\"value\",\"value\":\"white\"},\"fill_color\":{\"type\":\"field\",\"field\":\"cuisine\",\"transform\":{\"type\":\"object\",\"name\":\"CategoricalColorMapper\",\"id\":\"p46230\",\"attributes\":{\"palette\":[\"#30123b\",\"#341b51\",\"#372365\",\"#3a2c79\",\"#3c358b\",\"#3f3d9c\",\"#4145ab\",\"#434eba\",\"#4456c7\",\"#455ed2\",\"#4666dd\",\"#466de6\",\"#4675ed\",\"#467df4\",\"#4584f9\",\"#448cfd\",\"#4193fe\",\"#3e9bfe\",\"#39a2fc\",\"#34aaf8\",\"#2fb1f3\",\"#2ab9ed\",\"#25c0e6\",\"#20c6df\",\"#1ccdd7\",\"#19d3cf\",\"#17d9c7\",\"#17debf\",\"#19e3b8\",\"#1de7b1\",\"#22eba9\",\"#29eea0\",\"#32f197\",\"#3bf48d\",\"#46f783\",\"#51f979\",\"#5dfb6f\",\"#69fd65\",\"#74fe5c\",\"#80fe53\",\"#8bfe4b\",\"#95fe44\",\"#9efd3e\",\"#a6fb3a\",\"#aef937\",\"#b6f735\",\"#bef334\",\"#c5ef33\",\"#cdeb34\",\"#d4e735\",\"#dae236\",\"#e1dc37\",\"#e7d738\",\"#ecd139\",\"#f0cb3a\",\"#f4c43a\",\"#f8be39\",\"#fab737\",\"#fcb035\",\"#fda932\",\"#fea12f\",\"#fe982c\",\"#fd8f28\",\"#fc8624\",\"#fa7d20\",\"#f8741c\",\"#f66b18\",\"#f36315\",\"#ef5a11\",\"#ec520e\",\"#e84b0c\",\"#e3440a\",\"#de3e08\",\"#d93806\",\"#d43205\",\"#ce2d04\",\"#c72803\",\"#c02302\",\"#b91e01\",\"#b11901\",\"#a91501\",\"#a01101\",\"#970d01\",\"#8e0a01\",\"#840701\",\"#7a0402\"],\"factors\":{\"type\":\"ndarray\",\"array\":[\"Greek\",\"Mughlai\",\"Himachal\",\"Oriya Recipes\",\"Bihari\",\"South Karnataka\",\"British\",\"Uttarakhand-North Kumaon \",\"Goan Recipes\",\"Konkan\",\"Middle Eastern\",\"American\",\"Vietnamese\",\"French\",\"Continental\",\"Kashmiri\",\"Italian Recipes\",\"Mediterranean\",\"Kerala Recipes\",\"Korean\",\"Mangalorean\",\"Chinese\",\"Punjabi\",\"Karnataka\",\"South Indian Recipes\",\"Bangladeshi\",\"Pakistani\",\"Jewish\",\"North Indian Recipes\",\"Fusion\",\"Mexican\",\"Caribbean \",\"Bengali Recipes\",\"Kongunadu\",\"Indian\",\"Awadhi\",\"Burmese\",\"Arab\",\"Chettinad\",\"Lucknowi\",\"Rajasthani\",\"African\",\"Hyderabadi\",\"North East India Recipes\",\"Sri Lankan\",\"Sindhi\",\"Tamil Nadu\",\"Haryana\",\"Singapore\",\"Cantonese\",\"Gujarati Recipes\\ufeff\",\"Andhra\",\"Malabar\",\"Maharashtrian Recipes\",\"Udupi\",\"Parsi Recipes\",\"North Karnataka\",\"European\",\"Japanese\",\"Afghan\",\"Indo Chinese\",\"Thai\",\"Indonesian\",\"Nepalese\",\"Sichuan\",\"Asian\",\"Assamese\",\"Coastal Karnataka\",\"Nagaland\",\"Coorg\",\"Malvani\",\"Uttar Pradesh\",\"Jharkhand\",\"Malaysian\",\"Hunan\",\"Shandong\"],\"shape\":[76],\"dtype\":\"object\",\"order\":\"little\"}}}}}},\"nonselection_glyph\":{\"type\":\"object\",\"name\":\"VBar\",\"id\":\"p46235\",\"attributes\":{\"x\":{\"type\":\"field\",\"field\":\"cuisine\"},\"width\":{\"type\":\"value\",\"value\":0.9},\"top\":{\"type\":\"field\",\"field\":\"total_time\"},\"line_color\":{\"type\":\"value\",\"value\":\"white\"},\"line_alpha\":{\"type\":\"value\",\"value\":0.1},\"fill_color\":{\"type\":\"field\",\"field\":\"cuisine\",\"transform\":{\"id\":\"p46230\"}},\"fill_alpha\":{\"type\":\"value\",\"value\":0.1},\"hatch_alpha\":{\"type\":\"value\",\"value\":0.1}}},\"muted_glyph\":{\"type\":\"object\",\"name\":\"VBar\",\"id\":\"p46236\",\"attributes\":{\"x\":{\"type\":\"field\",\"field\":\"cuisine\"},\"width\":{\"type\":\"value\",\"value\":0.9},\"top\":{\"type\":\"field\",\"field\":\"total_time\"},\"line_color\":{\"type\":\"value\",\"value\":\"white\"},\"line_alpha\":{\"type\":\"value\",\"value\":0.2},\"fill_color\":{\"type\":\"field\",\"field\":\"cuisine\",\"transform\":{\"id\":\"p46230\"}},\"fill_alpha\":{\"type\":\"value\",\"value\":0.2},\"hatch_alpha\":{\"type\":\"value\",\"value\":0.2}}}}}],\"toolbar\":{\"type\":\"object\",\"name\":\"Toolbar\",\"id\":\"p46192\",\"attributes\":{\"tools\":[{\"type\":\"object\",\"name\":\"PanTool\",\"id\":\"p46215\"},{\"type\":\"object\",\"name\":\"WheelZoomTool\",\"id\":\"p46216\"},{\"type\":\"object\",\"name\":\"BoxZoomTool\",\"id\":\"p46217\",\"attributes\":{\"overlay\":{\"type\":\"object\",\"name\":\"BoxAnnotation\",\"id\":\"p46218\",\"attributes\":{\"syncable\":false,\"level\":\"overlay\",\"visible\":false,\"left_units\":\"canvas\",\"right_units\":\"canvas\",\"bottom_units\":\"canvas\",\"top_units\":\"canvas\",\"line_color\":\"black\",\"line_alpha\":1.0,\"line_width\":2,\"line_dash\":[4,4],\"fill_color\":\"lightgrey\",\"fill_alpha\":0.5}}}},{\"type\":\"object\",\"name\":\"SaveTool\",\"id\":\"p46219\"},{\"type\":\"object\",\"name\":\"ResetTool\",\"id\":\"p46220\"},{\"type\":\"object\",\"name\":\"HelpTool\",\"id\":\"p46221\"}]}},\"left\":[{\"type\":\"object\",\"name\":\"LinearAxis\",\"id\":\"p46208\",\"attributes\":{\"ticker\":{\"type\":\"object\",\"name\":\"BasicTicker\",\"id\":\"p46209\",\"attributes\":{\"mantissas\":[1,2,5]}},\"formatter\":{\"type\":\"object\",\"name\":\"BasicTickFormatter\",\"id\":\"p46211\"},\"axis_label\":\"Average time taken to cook (in minutes)\",\"major_label_policy\":{\"type\":\"object\",\"name\":\"AllLabels\",\"id\":\"p46210\"}}}],\"below\":[{\"type\":\"object\",\"name\":\"CategoricalAxis\",\"id\":\"p46202\",\"attributes\":{\"ticker\":{\"type\":\"object\",\"name\":\"CategoricalTicker\",\"id\":\"p46203\"},\"formatter\":{\"type\":\"object\",\"name\":\"CategoricalTickFormatter\",\"id\":\"p46205\"},\"axis_label\":\"Cuisine\",\"major_label_orientation\":1,\"major_label_policy\":{\"type\":\"object\",\"name\":\"AllLabels\",\"id\":\"p46204\"}}}],\"center\":[{\"type\":\"object\",\"name\":\"Grid\",\"id\":\"p46207\",\"attributes\":{\"axis\":{\"id\":\"p46202\"}}},{\"type\":\"object\",\"name\":\"Grid\",\"id\":\"p46214\",\"attributes\":{\"dimension\":1,\"axis\":{\"id\":\"p46208\"}}}]}},{\"type\":\"object\",\"name\":\"Figure\",\"id\":\"p59019\",\"attributes\":{\"width\":1500,\"height\":500,\"x_range\":{\"type\":\"object\",\"name\":\"FactorRange\",\"id\":\"p59029\",\"attributes\":{\"factors\":[\"Uttarakhand-North Kumaon \",\"Shandong\",\"Vietnamese\",\"Bangladeshi\",\"Malvani\",\"Indonesian\",\"American\",\"African\",\"Coorg\",\"Malaysian\",\"Sindhi\",\"Jewish\",\"Thai\",\"Nepalese\",\"Malabar\",\"Goan Recipes\",\"Cantonese\",\"Mexican\",\"Asian\",\"Kerala Recipes\",\"Lucknowi\",\"Italian Recipes\",\"Greek\",\"Sri Lankan\",\"South Indian Recipes\",\"Andhra\",\"Tamil Nadu\",\"Kongunadu\",\"Chettinad\",\"Mangalorean\",\"Udupi\",\"Konkan\",\"Parsi Recipes\",\"Middle Eastern\",\"Chinese\",\"Oriya Recipes\",\"Hyderabadi\",\"Indo Chinese\",\"Kashmiri\",\"Mediterranean\",\"North East India Recipes\",\"Continental\",\"Punjabi\",\"Maharashtrian Recipes\",\"Japanese\",\"Fusion\",\"Bengali Recipes\",\"Bihari\",\"Caribbean \",\"Mughlai\",\"European\",\"Himachal\",\"Arab\",\"Indian\",\"North Indian Recipes\",\"Karnataka\",\"British\",\"Burmese\",\"Uttar Pradesh\",\"Gujarati Recipes\\ufeff\",\"Awadhi\",\"Coastal Karnataka\",\"Sichuan\",\"South Karnataka\",\"Assamese\",\"Korean\",\"French\",\"Rajasthani\",\"Jharkhand\",\"Pakistani\",\"Singapore\",\"North Karnataka\",\"Nagaland\",\"Haryana\",\"Hunan\",\"Afghan\"]}},\"y_range\":{\"type\":\"object\",\"name\":\"DataRange1d\",\"id\":\"p59021\",\"attributes\":{\"start\":90}},\"x_scale\":{\"type\":\"object\",\"name\":\"CategoricalScale\",\"id\":\"p59033\"},\"y_scale\":{\"type\":\"object\",\"name\":\"LinearScale\",\"id\":\"p59035\"},\"title\":{\"type\":\"object\",\"name\":\"Title\",\"id\":\"p59022\",\"attributes\":{\"text\":\"Average rating of every cuisine\"}},\"renderers\":[{\"type\":\"object\",\"name\":\"GlyphRenderer\",\"id\":\"p59072\",\"attributes\":{\"data_source\":{\"type\":\"object\",\"name\":\"ColumnDataSource\",\"id\":\"p59016\",\"attributes\":{\"selected\":{\"type\":\"object\",\"name\":\"Selection\",\"id\":\"p59017\",\"attributes\":{\"indices\":[],\"line_indices\":[]}},\"selection_policy\":{\"type\":\"object\",\"name\":\"UnionRenderers\",\"id\":\"p59018\"},\"data\":{\"type\":\"map\",\"entries\":[[\"cuisine\",{\"type\":\"ndarray\",\"array\":[\"Uttarakhand-North Kumaon \",\"Shandong\",\"Vietnamese\",\"Bangladeshi\",\"Malvani\",\"Indonesian\",\"American\",\"African\",\"Coorg\",\"Malaysian\",\"Sindhi\",\"Jewish\",\"Thai\",\"Nepalese\",\"Malabar\",\"Goan Recipes\",\"Cantonese\",\"Mexican\",\"Asian\",\"Kerala Recipes\",\"Lucknowi\",\"Italian Recipes\",\"Greek\",\"Sri Lankan\",\"South Indian Recipes\",\"Andhra\",\"Tamil Nadu\",\"Kongunadu\",\"Chettinad\",\"Mangalorean\",\"Udupi\",\"Konkan\",\"Parsi Recipes\",\"Middle Eastern\",\"Chinese\",\"Oriya Recipes\",\"Hyderabadi\",\"Indo Chinese\",\"Kashmiri\",\"Mediterranean\",\"North East India Recipes\",\"Continental\",\"Punjabi\",\"Maharashtrian Recipes\",\"Japanese\",\"Fusion\",\"Bengali Recipes\",\"Bihari\",\"Caribbean \",\"Mughlai\",\"European\",\"Himachal\",\"Arab\",\"Indian\",\"North Indian Recipes\",\"Karnataka\",\"British\",\"Burmese\",\"Uttar Pradesh\",\"Gujarati Recipes\\ufeff\",\"Awadhi\",\"Coastal Karnataka\",\"Sichuan\",\"South Karnataka\",\"Assamese\",\"Korean\",\"French\",\"Rajasthani\",\"Jharkhand\",\"Pakistani\",\"Singapore\",\"North Karnataka\",\"Nagaland\",\"Haryana\",\"Hunan\",\"Afghan\"],\"shape\":[76],\"dtype\":\"object\",\"order\":\"little\"}],[\"rating\",{\"type\":\"ndarray\",\"array\":{\"type\":\"bytes\",\"data\":\"SBF9tf65WEDjToJ2w7FYQE8g1qvpp1hAqGYFhy+kWEDkHXNgkZ5YQOumhfvGm1hAdMYWIbqYWEDRn4iU6ZRYQIREZNoaklhAMMqWL1aPWEDtDpac445YQFIet2R3jlhAt0YHDaKNWEAgaJEl6YxYQEsxpdDCjFhALmP+tVyIWEDy+kUtl4dYQP19bQa3hlhAmMQF6cKFWEDQ5/9HiYVYQOVNhnv4g1hALyXjDG6AWEAoL5UjrH5YQHdIpRF1flhAIPrhzHd8WECcdOB3K3xYQEusYIlPe1hAKxRUp755WECFxXM7TnhYQAVwpqjcd1hANeOMQMh3WED7clATDHZYQIj5kU1NdFhADdZHTOlzWEBODBosoXNYQNZU/FW2clhAFEePZD9yWECgTR+hMnJYQCDU8m4jclhA8RGyIWVxWEBaYmrzx3BYQLIBj2GgcFhAfEVKardvWECoAQEPl29YQNL8tJtWb1hATetZuytvWEBIyIUXDG9YQN1UZh50bVhAgULEKMxrWECom5l2vmtYQE8XQKNka1hANcivW6ZpWEDmRaQHQ2lYQHbJE5rpaFhAKSKzckloWEApCW9r5mdYQFZFJyrZZ1hAP52OaodnWEB+e9SkLWdYQKidYpOQZlhAKOigBihmWEBnd+FWGmZYQO1X3BUYZlhALPL2zJhlWEAtTi1W/2FYQNjyBFZZX1hAyYbNMyFfWECimaHz5V1YQD4KwzrdXVhAtpiayB5UWEAUFkf3u1NYQHZUw72OTFhAcmNf4IVFWEDNQS++vxlYQC3whBZpy1dAW7bn7hVeV0A=\"},\"shape\":[76],\"dtype\":\"float64\",\"order\":\"little\"}]]}}},\"view\":{\"type\":\"object\",\"name\":\"CDSView\",\"id\":\"p59073\",\"attributes\":{\"filter\":{\"type\":\"object\",\"name\":\"AllIndices\",\"id\":\"p59074\"}}},\"glyph\":{\"type\":\"object\",\"name\":\"VBar\",\"id\":\"p59069\",\"attributes\":{\"x\":{\"type\":\"field\",\"field\":\"cuisine\"},\"width\":{\"type\":\"value\",\"value\":0.9},\"top\":{\"type\":\"field\",\"field\":\"rating\"},\"line_color\":{\"type\":\"value\",\"value\":\"white\"},\"fill_color\":{\"type\":\"field\",\"field\":\"cuisine\",\"transform\":{\"type\":\"object\",\"name\":\"CategoricalColorMapper\",\"id\":\"p59065\",\"attributes\":{\"palette\":[\"#30123b\",\"#341b51\",\"#372365\",\"#3a2c79\",\"#3c358b\",\"#3f3d9c\",\"#4145ab\",\"#434eba\",\"#4456c7\",\"#455ed2\",\"#4666dd\",\"#466de6\",\"#4675ed\",\"#467df4\",\"#4584f9\",\"#448cfd\",\"#4193fe\",\"#3e9bfe\",\"#39a2fc\",\"#34aaf8\",\"#2fb1f3\",\"#2ab9ed\",\"#25c0e6\",\"#20c6df\",\"#1ccdd7\",\"#19d3cf\",\"#17d9c7\",\"#17debf\",\"#19e3b8\",\"#1de7b1\",\"#22eba9\",\"#29eea0\",\"#32f197\",\"#3bf48d\",\"#46f783\",\"#51f979\",\"#5dfb6f\",\"#69fd65\",\"#74fe5c\",\"#80fe53\",\"#8bfe4b\",\"#95fe44\",\"#9efd3e\",\"#a6fb3a\",\"#aef937\",\"#b6f735\",\"#bef334\",\"#c5ef33\",\"#cdeb34\",\"#d4e735\",\"#dae236\",\"#e1dc37\",\"#e7d738\",\"#ecd139\",\"#f0cb3a\",\"#f4c43a\",\"#f8be39\",\"#fab737\",\"#fcb035\",\"#fda932\",\"#fea12f\",\"#fe982c\",\"#fd8f28\",\"#fc8624\",\"#fa7d20\",\"#f8741c\",\"#f66b18\",\"#f36315\",\"#ef5a11\",\"#ec520e\",\"#e84b0c\",\"#e3440a\",\"#de3e08\",\"#d93806\",\"#d43205\",\"#ce2d04\",\"#c72803\",\"#c02302\",\"#b91e01\",\"#b11901\",\"#a91501\",\"#a01101\",\"#970d01\",\"#8e0a01\",\"#840701\",\"#7a0402\"],\"factors\":{\"type\":\"ndarray\",\"array\":[\"Uttarakhand-North Kumaon \",\"Shandong\",\"Vietnamese\",\"Bangladeshi\",\"Malvani\",\"Indonesian\",\"American\",\"African\",\"Coorg\",\"Malaysian\",\"Sindhi\",\"Jewish\",\"Thai\",\"Nepalese\",\"Malabar\",\"Goan Recipes\",\"Cantonese\",\"Mexican\",\"Asian\",\"Kerala Recipes\",\"Lucknowi\",\"Italian Recipes\",\"Greek\",\"Sri Lankan\",\"South Indian Recipes\",\"Andhra\",\"Tamil Nadu\",\"Kongunadu\",\"Chettinad\",\"Mangalorean\",\"Udupi\",\"Konkan\",\"Parsi Recipes\",\"Middle Eastern\",\"Chinese\",\"Oriya Recipes\",\"Hyderabadi\",\"Indo Chinese\",\"Kashmiri\",\"Mediterranean\",\"North East India Recipes\",\"Continental\",\"Punjabi\",\"Maharashtrian Recipes\",\"Japanese\",\"Fusion\",\"Bengali Recipes\",\"Bihari\",\"Caribbean \",\"Mughlai\",\"European\",\"Himachal\",\"Arab\",\"Indian\",\"North Indian Recipes\",\"Karnataka\",\"British\",\"Burmese\",\"Uttar Pradesh\",\"Gujarati Recipes\\ufeff\",\"Awadhi\",\"Coastal Karnataka\",\"Sichuan\",\"South Karnataka\",\"Assamese\",\"Korean\",\"French\",\"Rajasthani\",\"Jharkhand\",\"Pakistani\",\"Singapore\",\"North Karnataka\",\"Nagaland\",\"Haryana\",\"Hunan\",\"Afghan\"],\"shape\":[76],\"dtype\":\"object\",\"order\":\"little\"}}}}}},\"nonselection_glyph\":{\"type\":\"object\",\"name\":\"VBar\",\"id\":\"p59070\",\"attributes\":{\"x\":{\"type\":\"field\",\"field\":\"cuisine\"},\"width\":{\"type\":\"value\",\"value\":0.9},\"top\":{\"type\":\"field\",\"field\":\"rating\"},\"line_color\":{\"type\":\"value\",\"value\":\"white\"},\"line_alpha\":{\"type\":\"value\",\"value\":0.1},\"fill_color\":{\"type\":\"field\",\"field\":\"cuisine\",\"transform\":{\"id\":\"p59065\"}},\"fill_alpha\":{\"type\":\"value\",\"value\":0.1},\"hatch_alpha\":{\"type\":\"value\",\"value\":0.1}}},\"muted_glyph\":{\"type\":\"object\",\"name\":\"VBar\",\"id\":\"p59071\",\"attributes\":{\"x\":{\"type\":\"field\",\"field\":\"cuisine\"},\"width\":{\"type\":\"value\",\"value\":0.9},\"top\":{\"type\":\"field\",\"field\":\"rating\"},\"line_color\":{\"type\":\"value\",\"value\":\"white\"},\"line_alpha\":{\"type\":\"value\",\"value\":0.2},\"fill_color\":{\"type\":\"field\",\"field\":\"cuisine\",\"transform\":{\"id\":\"p59065\"}},\"fill_alpha\":{\"type\":\"value\",\"value\":0.2},\"hatch_alpha\":{\"type\":\"value\",\"value\":0.2}}}}}],\"toolbar\":{\"type\":\"object\",\"name\":\"Toolbar\",\"id\":\"p59027\",\"attributes\":{\"tools\":[{\"type\":\"object\",\"name\":\"PanTool\",\"id\":\"p59050\"},{\"type\":\"object\",\"name\":\"WheelZoomTool\",\"id\":\"p59051\"},{\"type\":\"object\",\"name\":\"BoxZoomTool\",\"id\":\"p59052\",\"attributes\":{\"overlay\":{\"type\":\"object\",\"name\":\"BoxAnnotation\",\"id\":\"p59053\",\"attributes\":{\"syncable\":false,\"level\":\"overlay\",\"visible\":false,\"left_units\":\"canvas\",\"right_units\":\"canvas\",\"bottom_units\":\"canvas\",\"top_units\":\"canvas\",\"line_color\":\"black\",\"line_alpha\":1.0,\"line_width\":2,\"line_dash\":[4,4],\"fill_color\":\"lightgrey\",\"fill_alpha\":0.5}}}},{\"type\":\"object\",\"name\":\"SaveTool\",\"id\":\"p59054\"},{\"type\":\"object\",\"name\":\"ResetTool\",\"id\":\"p59055\"},{\"type\":\"object\",\"name\":\"HelpTool\",\"id\":\"p59056\"}]}},\"left\":[{\"type\":\"object\",\"name\":\"LinearAxis\",\"id\":\"p59043\",\"attributes\":{\"ticker\":{\"type\":\"object\",\"name\":\"BasicTicker\",\"id\":\"p59044\",\"attributes\":{\"mantissas\":[1,2,5]}},\"formatter\":{\"type\":\"object\",\"name\":\"BasicTickFormatter\",\"id\":\"p59046\"},\"axis_label\":\"Average rating\",\"major_label_policy\":{\"type\":\"object\",\"name\":\"AllLabels\",\"id\":\"p59045\"}}}],\"below\":[{\"type\":\"object\",\"name\":\"CategoricalAxis\",\"id\":\"p59037\",\"attributes\":{\"ticker\":{\"type\":\"object\",\"name\":\"CategoricalTicker\",\"id\":\"p59038\"},\"formatter\":{\"type\":\"object\",\"name\":\"CategoricalTickFormatter\",\"id\":\"p59040\"},\"axis_label\":\"Cuisine\",\"major_label_orientation\":1,\"major_label_policy\":{\"type\":\"object\",\"name\":\"AllLabels\",\"id\":\"p59039\"}}}],\"center\":[{\"type\":\"object\",\"name\":\"Grid\",\"id\":\"p59042\",\"attributes\":{\"axis\":{\"id\":\"p59037\"}}},{\"type\":\"object\",\"name\":\"Grid\",\"id\":\"p59049\",\"attributes\":{\"dimension\":1,\"axis\":{\"id\":\"p59043\"}}}]}},{\"type\":\"object\",\"name\":\"Row\",\"id\":\"p64513\",\"attributes\":{\"children\":[{\"type\":\"object\",\"name\":\"Figure\",\"id\":\"p61742\",\"attributes\":{\"width\":750,\"height\":500,\"x_range\":{\"type\":\"object\",\"name\":\"FactorRange\",\"id\":\"p61752\",\"attributes\":{\"factors\":[\"Gluten Free\",\"Vegan\",\"High Protein Vegetarian\",\"Non Vegeterian\",\"Eggetarian\",\"Diabetic Friendly\",\"Vegetarian\",\"High Protein Non Vegetarian\",\"Sugar Free Diet\",\"No Onion No Garlic (Sattvic)\"]}},\"y_range\":{\"type\":\"object\",\"name\":\"DataRange1d\",\"id\":\"p61744\",\"attributes\":{\"start\":0}},\"x_scale\":{\"type\":\"object\",\"name\":\"CategoricalScale\",\"id\":\"p61756\"},\"y_scale\":{\"type\":\"object\",\"name\":\"LinearScale\",\"id\":\"p61758\"},\"title\":{\"type\":\"object\",\"name\":\"Title\",\"id\":\"p61745\",\"attributes\":{\"text\":\"Average time taken to cook every diet\"}},\"renderers\":[{\"type\":\"object\",\"name\":\"GlyphRenderer\",\"id\":\"p61795\",\"attributes\":{\"data_source\":{\"type\":\"object\",\"name\":\"ColumnDataSource\",\"id\":\"p61739\",\"attributes\":{\"selected\":{\"type\":\"object\",\"name\":\"Selection\",\"id\":\"p61740\",\"attributes\":{\"indices\":[],\"line_indices\":[]}},\"selection_policy\":{\"type\":\"object\",\"name\":\"UnionRenderers\",\"id\":\"p61741\"},\"data\":{\"type\":\"map\",\"entries\":[[\"diet\",{\"type\":\"ndarray\",\"array\":[\"Gluten Free\",\"Vegan\",\"High Protein Vegetarian\",\"Non Vegeterian\",\"Eggetarian\",\"Diabetic Friendly\",\"Vegetarian\",\"High Protein Non Vegetarian\",\"Sugar Free Diet\",\"No Onion No Garlic (Sattvic)\"],\"shape\":[10],\"dtype\":\"object\",\"order\":\"little\"}],[\"total_time\",{\"type\":\"ndarray\",\"array\":{\"type\":\"bytes\",\"data\":\"dNFFF120V0Ag0QqbA0lSQF100UUXBVJATwqSP6+yUUBMwiRMwoRRQEU+6wZT/FBAwVp3cbZgTUDV5fYHGSpKQN7d3d3d3UdAMjWwd0wNRkA=\"},\"shape\":[10],\"dtype\":\"float64\",\"order\":\"little\"}]]}}},\"view\":{\"type\":\"object\",\"name\":\"CDSView\",\"id\":\"p61796\",\"attributes\":{\"filter\":{\"type\":\"object\",\"name\":\"AllIndices\",\"id\":\"p61797\"}}},\"glyph\":{\"type\":\"object\",\"name\":\"VBar\",\"id\":\"p61792\",\"attributes\":{\"x\":{\"type\":\"field\",\"field\":\"diet\"},\"width\":{\"type\":\"value\",\"value\":0.9},\"top\":{\"type\":\"field\",\"field\":\"total_time\"},\"line_color\":{\"type\":\"value\",\"value\":\"white\"},\"fill_color\":{\"type\":\"field\",\"field\":\"diet\",\"transform\":{\"type\":\"object\",\"name\":\"CategoricalColorMapper\",\"id\":\"p61788\",\"attributes\":{\"palette\":[\"#3182bd\",\"#6baed6\",\"#9ecae1\",\"#c6dbef\",\"#e6550d\",\"#fd8d3c\",\"#fdae6b\",\"#fdd0a2\",\"#31a354\",\"#74c476\",\"#a1d99b\",\"#c7e9c0\",\"#756bb1\",\"#9e9ac8\",\"#bcbddc\",\"#dadaeb\",\"#636363\",\"#969696\",\"#bdbdbd\",\"#d9d9d9\"],\"factors\":{\"type\":\"ndarray\",\"array\":[\"Gluten Free\",\"Vegan\",\"High Protein Vegetarian\",\"Non Vegeterian\",\"Eggetarian\",\"Diabetic Friendly\",\"Vegetarian\",\"High Protein Non Vegetarian\",\"Sugar Free Diet\",\"No Onion No Garlic (Sattvic)\"],\"shape\":[10],\"dtype\":\"object\",\"order\":\"little\"}}}}}},\"nonselection_glyph\":{\"type\":\"object\",\"name\":\"VBar\",\"id\":\"p61793\",\"attributes\":{\"x\":{\"type\":\"field\",\"field\":\"diet\"},\"width\":{\"type\":\"value\",\"value\":0.9},\"top\":{\"type\":\"field\",\"field\":\"total_time\"},\"line_color\":{\"type\":\"value\",\"value\":\"white\"},\"line_alpha\":{\"type\":\"value\",\"value\":0.1},\"fill_color\":{\"type\":\"field\",\"field\":\"diet\",\"transform\":{\"id\":\"p61788\"}},\"fill_alpha\":{\"type\":\"value\",\"value\":0.1},\"hatch_alpha\":{\"type\":\"value\",\"value\":0.1}}},\"muted_glyph\":{\"type\":\"object\",\"name\":\"VBar\",\"id\":\"p61794\",\"attributes\":{\"x\":{\"type\":\"field\",\"field\":\"diet\"},\"width\":{\"type\":\"value\",\"value\":0.9},\"top\":{\"type\":\"field\",\"field\":\"total_time\"},\"line_color\":{\"type\":\"value\",\"value\":\"white\"},\"line_alpha\":{\"type\":\"value\",\"value\":0.2},\"fill_color\":{\"type\":\"field\",\"field\":\"diet\",\"transform\":{\"id\":\"p61788\"}},\"fill_alpha\":{\"type\":\"value\",\"value\":0.2},\"hatch_alpha\":{\"type\":\"value\",\"value\":0.2}}}}}],\"toolbar\":{\"type\":\"object\",\"name\":\"Toolbar\",\"id\":\"p61750\",\"attributes\":{\"tools\":[{\"type\":\"object\",\"name\":\"PanTool\",\"id\":\"p61773\"},{\"type\":\"object\",\"name\":\"WheelZoomTool\",\"id\":\"p61774\"},{\"type\":\"object\",\"name\":\"BoxZoomTool\",\"id\":\"p61775\",\"attributes\":{\"overlay\":{\"type\":\"object\",\"name\":\"BoxAnnotation\",\"id\":\"p61776\",\"attributes\":{\"syncable\":false,\"level\":\"overlay\",\"visible\":false,\"left_units\":\"canvas\",\"right_units\":\"canvas\",\"bottom_units\":\"canvas\",\"top_units\":\"canvas\",\"line_color\":\"black\",\"line_alpha\":1.0,\"line_width\":2,\"line_dash\":[4,4],\"fill_color\":\"lightgrey\",\"fill_alpha\":0.5}}}},{\"type\":\"object\",\"name\":\"SaveTool\",\"id\":\"p61777\"},{\"type\":\"object\",\"name\":\"ResetTool\",\"id\":\"p61778\"},{\"type\":\"object\",\"name\":\"HelpTool\",\"id\":\"p61779\"}]}},\"left\":[{\"type\":\"object\",\"name\":\"LinearAxis\",\"id\":\"p61766\",\"attributes\":{\"ticker\":{\"type\":\"object\",\"name\":\"BasicTicker\",\"id\":\"p61767\",\"attributes\":{\"mantissas\":[1,2,5]}},\"formatter\":{\"type\":\"object\",\"name\":\"BasicTickFormatter\",\"id\":\"p61769\"},\"axis_label\":\"Average time taken to cook (in minutes)\",\"major_label_policy\":{\"type\":\"object\",\"name\":\"AllLabels\",\"id\":\"p61768\"}}}],\"below\":[{\"type\":\"object\",\"name\":\"CategoricalAxis\",\"id\":\"p61760\",\"attributes\":{\"ticker\":{\"type\":\"object\",\"name\":\"CategoricalTicker\",\"id\":\"p61761\"},\"formatter\":{\"type\":\"object\",\"name\":\"CategoricalTickFormatter\",\"id\":\"p61763\"},\"axis_label\":\"Diet\",\"major_label_orientation\":1,\"major_label_policy\":{\"type\":\"object\",\"name\":\"AllLabels\",\"id\":\"p61762\"}}}],\"center\":[{\"type\":\"object\",\"name\":\"Grid\",\"id\":\"p61765\",\"attributes\":{\"axis\":{\"id\":\"p61760\"}}},{\"type\":\"object\",\"name\":\"Grid\",\"id\":\"p61772\",\"attributes\":{\"dimension\":1,\"axis\":{\"id\":\"p61766\"}}}]}},{\"type\":\"object\",\"name\":\"Figure\",\"id\":\"p63123\",\"attributes\":{\"width\":750,\"height\":500,\"x_range\":{\"type\":\"object\",\"name\":\"FactorRange\",\"id\":\"p63133\",\"attributes\":{\"factors\":[\"High Protein Non Vegetarian\",\"Non Vegeterian\",\"High Protein Vegetarian\",\"Diabetic Friendly\",\"Vegetarian\",\"Eggetarian\",\"Sugar Free Diet\",\"No Onion No Garlic (Sattvic)\",\"Gluten Free\",\"Vegan\"]}},\"y_range\":{\"type\":\"object\",\"name\":\"DataRange1d\",\"id\":\"p63125\",\"attributes\":{\"start\":97}},\"x_scale\":{\"type\":\"object\",\"name\":\"CategoricalScale\",\"id\":\"p63137\"},\"y_scale\":{\"type\":\"object\",\"name\":\"LinearScale\",\"id\":\"p63139\"},\"title\":{\"type\":\"object\",\"name\":\"Title\",\"id\":\"p63126\",\"attributes\":{\"text\":\"Average rating of every diet\"}},\"renderers\":[{\"type\":\"object\",\"name\":\"GlyphRenderer\",\"id\":\"p63176\",\"attributes\":{\"data_source\":{\"type\":\"object\",\"name\":\"ColumnDataSource\",\"id\":\"p63120\",\"attributes\":{\"selected\":{\"type\":\"object\",\"name\":\"Selection\",\"id\":\"p63121\",\"attributes\":{\"indices\":[],\"line_indices\":[]}},\"selection_policy\":{\"type\":\"object\",\"name\":\"UnionRenderers\",\"id\":\"p63122\"},\"data\":{\"type\":\"map\",\"entries\":[[\"diet\",{\"type\":\"ndarray\",\"array\":[\"High Protein Non Vegetarian\",\"Non Vegeterian\",\"High Protein Vegetarian\",\"Diabetic Friendly\",\"Vegetarian\",\"Eggetarian\",\"Sugar Free Diet\",\"No Onion No Garlic (Sattvic)\",\"Gluten Free\",\"Vegan\"],\"shape\":[10],\"dtype\":\"object\",\"order\":\"little\"}],[\"rating\",{\"type\":\"ndarray\",\"array\":{\"type\":\"bytes\",\"data\":\"n9xXC4SHWECbQd51dYFYQLVStUa/dFhAuL5mkkF0WECGV8GbCnBYQM772pRnblhASyWwLztuWEDXOKv3+WBYQEKSREp2XVhAdvg3hV9cWEA=\"},\"shape\":[10],\"dtype\":\"float64\",\"order\":\"little\"}]]}}},\"view\":{\"type\":\"object\",\"name\":\"CDSView\",\"id\":\"p63177\",\"attributes\":{\"filter\":{\"type\":\"object\",\"name\":\"AllIndices\",\"id\":\"p63178\"}}},\"glyph\":{\"type\":\"object\",\"name\":\"VBar\",\"id\":\"p63173\",\"attributes\":{\"x\":{\"type\":\"field\",\"field\":\"diet\"},\"width\":{\"type\":\"value\",\"value\":0.9},\"top\":{\"type\":\"field\",\"field\":\"rating\"},\"line_color\":{\"type\":\"value\",\"value\":\"white\"},\"fill_color\":{\"type\":\"field\",\"field\":\"diet\",\"transform\":{\"type\":\"object\",\"name\":\"CategoricalColorMapper\",\"id\":\"p63169\",\"attributes\":{\"palette\":[\"#3182bd\",\"#6baed6\",\"#9ecae1\",\"#c6dbef\",\"#e6550d\",\"#fd8d3c\",\"#fdae6b\",\"#fdd0a2\",\"#31a354\",\"#74c476\",\"#a1d99b\",\"#c7e9c0\",\"#756bb1\",\"#9e9ac8\",\"#bcbddc\",\"#dadaeb\",\"#636363\",\"#969696\",\"#bdbdbd\",\"#d9d9d9\"],\"factors\":{\"type\":\"ndarray\",\"array\":[\"High Protein Non Vegetarian\",\"Non Vegeterian\",\"High Protein Vegetarian\",\"Diabetic Friendly\",\"Vegetarian\",\"Eggetarian\",\"Sugar Free Diet\",\"No Onion No Garlic (Sattvic)\",\"Gluten Free\",\"Vegan\"],\"shape\":[10],\"dtype\":\"object\",\"order\":\"little\"}}}}}},\"nonselection_glyph\":{\"type\":\"object\",\"name\":\"VBar\",\"id\":\"p63174\",\"attributes\":{\"x\":{\"type\":\"field\",\"field\":\"diet\"},\"width\":{\"type\":\"value\",\"value\":0.9},\"top\":{\"type\":\"field\",\"field\":\"rating\"},\"line_color\":{\"type\":\"value\",\"value\":\"white\"},\"line_alpha\":{\"type\":\"value\",\"value\":0.1},\"fill_color\":{\"type\":\"field\",\"field\":\"diet\",\"transform\":{\"id\":\"p63169\"}},\"fill_alpha\":{\"type\":\"value\",\"value\":0.1},\"hatch_alpha\":{\"type\":\"value\",\"value\":0.1}}},\"muted_glyph\":{\"type\":\"object\",\"name\":\"VBar\",\"id\":\"p63175\",\"attributes\":{\"x\":{\"type\":\"field\",\"field\":\"diet\"},\"width\":{\"type\":\"value\",\"value\":0.9},\"top\":{\"type\":\"field\",\"field\":\"rating\"},\"line_color\":{\"type\":\"value\",\"value\":\"white\"},\"line_alpha\":{\"type\":\"value\",\"value\":0.2},\"fill_color\":{\"type\":\"field\",\"field\":\"diet\",\"transform\":{\"id\":\"p63169\"}},\"fill_alpha\":{\"type\":\"value\",\"value\":0.2},\"hatch_alpha\":{\"type\":\"value\",\"value\":0.2}}}}}],\"toolbar\":{\"type\":\"object\",\"name\":\"Toolbar\",\"id\":\"p63131\",\"attributes\":{\"tools\":[{\"type\":\"object\",\"name\":\"PanTool\",\"id\":\"p63154\"},{\"type\":\"object\",\"name\":\"WheelZoomTool\",\"id\":\"p63155\"},{\"type\":\"object\",\"name\":\"BoxZoomTool\",\"id\":\"p63156\",\"attributes\":{\"overlay\":{\"type\":\"object\",\"name\":\"BoxAnnotation\",\"id\":\"p63157\",\"attributes\":{\"syncable\":false,\"level\":\"overlay\",\"visible\":false,\"left_units\":\"canvas\",\"right_units\":\"canvas\",\"bottom_units\":\"canvas\",\"top_units\":\"canvas\",\"line_color\":\"black\",\"line_alpha\":1.0,\"line_width\":2,\"line_dash\":[4,4],\"fill_color\":\"lightgrey\",\"fill_alpha\":0.5}}}},{\"type\":\"object\",\"name\":\"SaveTool\",\"id\":\"p63158\"},{\"type\":\"object\",\"name\":\"ResetTool\",\"id\":\"p63159\"},{\"type\":\"object\",\"name\":\"HelpTool\",\"id\":\"p63160\"}]}},\"left\":[{\"type\":\"object\",\"name\":\"LinearAxis\",\"id\":\"p63147\",\"attributes\":{\"ticker\":{\"type\":\"object\",\"name\":\"BasicTicker\",\"id\":\"p63148\",\"attributes\":{\"mantissas\":[1,2,5]}},\"formatter\":{\"type\":\"object\",\"name\":\"BasicTickFormatter\",\"id\":\"p63150\"},\"axis_label\":\"Average rating\",\"major_label_policy\":{\"type\":\"object\",\"name\":\"AllLabels\",\"id\":\"p63149\"}}}],\"below\":[{\"type\":\"object\",\"name\":\"CategoricalAxis\",\"id\":\"p63141\",\"attributes\":{\"ticker\":{\"type\":\"object\",\"name\":\"CategoricalTicker\",\"id\":\"p63142\"},\"formatter\":{\"type\":\"object\",\"name\":\"CategoricalTickFormatter\",\"id\":\"p63144\"},\"axis_label\":\"Diet\",\"major_label_orientation\":1,\"major_label_policy\":{\"type\":\"object\",\"name\":\"AllLabels\",\"id\":\"p63143\"}}}],\"center\":[{\"type\":\"object\",\"name\":\"Grid\",\"id\":\"p63146\",\"attributes\":{\"axis\":{\"id\":\"p63141\"}}},{\"type\":\"object\",\"name\":\"Grid\",\"id\":\"p63153\",\"attributes\":{\"dimension\":1,\"axis\":{\"id\":\"p63147\"}}}]}}]}}]}}]}}],\"callbacks\":{\"type\":\"map\"}}};\n  const render_items = [{\"docid\":\"f94fac72-642a-4f2d-ae1d-db505bd0702c\",\"roots\":{\"p64515\":\"a40ecd30-ddc9-4d45-90c9-98c5f9ce2abb\"},\"root_ids\":[\"p64515\"]}];\n  root.Bokeh.embed.embed_items_notebook(docs_json, render_items);\n  }\n  if (root.Bokeh !== undefined) {\n    embed_document(root);\n  } else {\n    let attempts = 0;\n    const timer = setInterval(function(root) {\n      if (root.Bokeh !== undefined) {\n        clearInterval(timer);\n        embed_document(root);\n      } else {\n        attempts++;\n        if (attempts > 100) {\n          clearInterval(timer);\n          console.log(\"Bokeh: ERROR: Unable to run BokehJS code because BokehJS library is missing\");\n        }\n      }\n    }, 10, root)\n  }\n})(window);",
      "application/vnd.bokehjs_exec.v0+json": ""
     },
     "metadata": {
      "application/vnd.bokehjs_exec.v0+json": {
       "id": "p64515"
      }
     },
     "output_type": "display_data"
    }
   ],
   "source": [
    "# Let's create a dashboard to visualize the data using Bokeh Dashboard\n",
    "# import the necessary libraries\n",
    "from bokeh.io import show\n",
    "from bokeh.layouts import row, column\n",
    "from bokeh.io import curdoc\n",
    "\n",
    "# create a dashboard layout\n",
    "layout = row(column(fig_cuisine_time, fig_cuisine_rating, row(fig_diet_time, fig_diet_rating)))\n",
    "\n",
    "# add the layout to curdoc\n",
    "curdoc().add_root(layout)\n",
    "\n",
    "# Show the dashboard\n",
    "show(layout)"
   ]
  },
  {
   "attachments": {},
   "cell_type": "markdown",
   "metadata": {},
   "source": [
    "### Conclusion <a name=\"conclusion\"></a>\n",
    "Let's summarize what we have found out."
   ]
  },
  {
   "attachments": {},
   "cell_type": "markdown",
   "metadata": {},
   "source": [
    "#### Why is this average preparation times important? \n",
    "\n",
    "The data on the average preparation times of different cuisines and diets is a valuable resource for anyone who is interested in exploring new flavors, managing their time effectively, and making healthy and delicious meals. This data can help you plan your meals with ease, and ensure that you have enough time to prepare your food while adhering to your dietary needs.\n",
    "\n",
    "One of the most significant advantages of this data is that it helps you understand the level of difficulty associated with preparing dishes from different cuisines and diets. This can be especially helpful for those who are new to a particular cuisine or diet, as it can help them identify dishes that are easier to prepare and gradually work their way up to more complex recipes. Additionally, knowing the average preparation time of different cuisines and diets can help you identify recipes that can be prepared quickly, without compromising on flavor or nutrition.\n",
    "\n",
    "Another important benefit of this data is that it can help you explore new cuisines and flavors with ease. By identifying recipes with shorter preparation times, you can start experimenting with new ingredients and techniques, without feeling overwhelmed or intimidated by the process. This can be particularly useful for those who are looking to expand their culinary horizons, but may not have a lot of time to spend in the kitchen.\n",
    "\n",
    "In conclusion, the data on the average preparation times of different cuisines and diets is a valuable tool for anyone who is interested in making healthy and delicious meals while managing their time effectively. This data can help you plan your meals, explore new cuisines and flavors, and ensure that you are making the most of your time in the kitchen."
   ]
  },
  {
   "attachments": {},
   "cell_type": "markdown",
   "metadata": {},
   "source": [
    "#### Why is this average rating important?\n",
    "\n",
    "The average user rating of certain cuisines or diets is another important piece of data that can be incredibly useful for those interested in exploring new flavors and cuisines. By knowing the average rating of different cuisines or diets, you can get a sense of which dishes are particularly popular and highly regarded by others. This can help you identify recipes that are likely to be delicious, and that will appeal to your own personal tastes and preferences.\n",
    "\n",
    "Additionally, the average user rating of certain cuisines or diets can help you discover new recipes and dishes that you may not have otherwise considered. By looking for highly rated recipes in a particular cuisine or diet, you can expand your culinary horizons and explore new flavors and ingredients that you may not have tried before.\n",
    "\n",
    "Another important benefit of knowing the average user rating of certain cuisines or diets is that it can help you avoid recipes that are likely to be disappointing or not worth your time and effort. By looking for recipes with high ratings, you can be more confident that you are investing your time and resources into a dish that is likely to be delicious and well-received by your family and friends.\n",
    "\n",
    "In conclusion, the average user rating of certain cuisines or diets is a valuable piece of data that can help you discover new recipes, explore new flavors, and avoid recipes that are likely to be disappointing. Whether you are a seasoned cook or a novice in the kitchen, this data can help you make the most of your culinary adventures and ensure that every meal you prepare is delicious and satisfying."
   ]
  }
 ],
 "metadata": {
  "kernelspec": {
   "display_name": ".venv",
   "language": "python",
   "name": "python3"
  },
  "language_info": {
   "codemirror_mode": {
    "name": "ipython",
    "version": 3
   },
   "file_extension": ".py",
   "mimetype": "text/x-python",
   "name": "python",
   "nbconvert_exporter": "python",
   "pygments_lexer": "ipython3",
   "version": "3.10.8"
  },
  "orig_nbformat": 4
 },
 "nbformat": 4,
 "nbformat_minor": 2
}
